{
 "cells": [
  {
   "cell_type": "markdown",
   "metadata": {},
   "source": [
    "## Procedimentos Globais"
   ]
  },
  {
   "cell_type": "code",
   "execution_count": null,
   "metadata": {},
   "outputs": [],
   "source": [
    "global_dict_sutdentes_profiles = {}\n"
   ]
  },
  {
   "cell_type": "markdown",
   "metadata": {
    "id": "Jf4ISr7cDG1c"
   },
   "source": [
    "## Conexão com o banco\n",
    "\n",
    "Primeiramente precisamos importar algumas configurações e nos conectar a nossa base de dados\n"
   ]
  },
  {
   "cell_type": "code",
   "execution_count": null,
   "metadata": {},
   "outputs": [],
   "source": [
    "# Caso utilize o Google Colab, descomente as linhas abaixo para montar o Google Drive\n",
    "# from google.colab import drive\n",
    "# drive.mount('/content/drive')\n",
    "\n",
    "# Importar bibliotecas necessárias\n",
    "from urllib.parse import quote_plus\n",
    "import socket\n",
    "import os\n",
    "\n",
    "# Importar pymongo para acesso aos documentos no banco de dados\n",
    "import pymongo\n",
    "\n",
    "# Importar configparser e pprint para ler o arquivo de configuração e imprimir os dados\n",
    "import configparser\n",
    "import pprint\n",
    "\n",
    "hostname = socket.gethostname()\n",
    "IPAddr = socket.gethostbyname(hostname)\n",
    "print(\"Nome do seu computador:\" + hostname)\n",
    "print(\"O endereço IP do seu computador:\" + IPAddr)\n",
    "\n",
    "config = configparser.ConfigParser()\n",
    "config.read('./conf.ini')\n",
    "\n",
    "# Configurações do MongoDB\n",
    "username = config['mongo']['USERNAME']\n",
    "password = config['mongo']['PASSWORD']\n",
    "host = config['mongo']['HOST']\n",
    "\n",
    "\n",
    "# Criar string de conexão com o banco\n",
    "connection_string = 'mongodb://{}:{}@{}/?retryWrites=true&w=majority'.format(\n",
    "        username,\n",
    "        quote_plus(password),\n",
    "        host\n",
    "    )\n",
    "\n",
    "# Conectar ao MongoDB\n",
    "client = pymongo.MongoClient(connection_string)"
   ]
  },
  {
   "cell_type": "markdown",
   "metadata": {
    "id": "XP4uWf60Dkz0"
   },
   "source": [
    "## Tratamento de dados\n",
    "\n",
    "\n"
   ]
  },
  {
   "cell_type": "markdown",
   "metadata": {
    "id": "Bu8HGUx5HcfH"
   },
   "source": [
    "### Passo 1: realizar busca das informações para um aluno\n",
    "O resultado é emitido para um determinado aluno, para isso é necessário os resultados dos formulários referentes as suas turmas durante o ensino médio (1°,2° e 3° ano).\n",
    "\n"
   ]
  },
  {
   "cell_type": "code",
   "execution_count": null,
   "metadata": {
    "colab": {
     "base_uri": "https://localhost:8080/"
    },
    "executionInfo": {
     "elapsed": 624,
     "status": "ok",
     "timestamp": 1733403185232,
     "user": {
      "displayName": "Gabriel Arthur Teixeira Perpetuo",
      "userId": "08625436895067644506"
     },
     "user_tz": 180
    },
    "id": "5_RQmTumDvVO",
    "outputId": "bd28e0ac-9e8a-46c6-913c-b13d5e8b5c80"
   },
   "outputs": [],
   "source": [
    "\n",
    "from pipelines import *\n",
    "\n",
    "db_connection = client[config['mongo']['DB_NAME']]\n",
    "formulario_collection = db_connection['formularios_professor']\n",
    "escola_collection = db_connection['escolas']\n",
    "competencia_collection = db_connection['competencias']\n",
    "\n",
    "\n",
    "CHOSEN_SCHOOL = config['params']['school_name']\n",
    "CHOSEN_STUDENT = config['params']['student_name']\n",
    "\n",
    "escola = escola_collection.find_one({'nome': CHOSEN_SCHOOL})\n",
    "\n",
    "turmas_do_aluno = escola_collection.aggregate(get_turmas_do_aluno_pipeline(CHOSEN_SCHOOL, CHOSEN_STUDENT))\n",
    "\n",
    "print(turmas_do_aluno)\n",
    "\n",
    "lista_de_turmas_do_aluno = (list(turmas_do_aluno))\n",
    "\n",
    "print(\"Turmas do aluno {} na escola {}:\".format(CHOSEN_STUDENT, CHOSEN_SCHOOL))\n",
    "\n",
    "pprint.pprint(lista_de_turmas_do_aluno)\n"
   ]
  },
  {
   "cell_type": "markdown",
   "metadata": {},
   "source": [
    "### Passo 2: Retornar Formulários que pertencem as turmas do aluno escolhido\n"
   ]
  },
  {
   "cell_type": "markdown",
   "metadata": {
    "id": "2jPfws8k-ewZ"
   },
   "source": [
    "\n",
    "\n",
    "Para que seja possível construir o perfil é necesssário pelo menos um formulários preecnhidos para cada ano letivo, ou seja os formulários do 1°,2° e 3° ano. Utilizando a pipeline do mongo db retornaremos quantos formulários foram preenchidos para cada ano, por exemplo\n",
    "\n",
    "```python\n",
    "  numDisplAval: {\n",
    "    ano3: 1,\n",
    "    ano1: 6,\n",
    "    ano2: 3\n",
    "}\n",
    "```\n",
    "\n",
    "Sendo assim utilizamos o estágio na pipeline\n",
    "\n",
    "\n",
    "\n",
    "```python\n",
    "{\n",
    "    '$set': {\n",
    "            'numDisplAval.ano1': {\n",
    "                '$size': {\n",
    "                    '$filter': {\n",
    "                        'input': '$seriesAvaliadas',\n",
    "                        'as': 'nota',\n",
    "                        'cond': {\n",
    "                            '$eq': [\n",
    "                                '$$nota', 1\n",
    "                            ]\n",
    "                        }\n",
    "                    }\n",
    "                }\n",
    "            },\n",
    "            'numDisplAval.ano2': {\n",
    "                '$size': {\n",
    "                    '$filter': {\n",
    "                        'input': '$seriesAvaliadas',\n",
    "                        'as': 'nota',\n",
    "                        'cond': {\n",
    "                            '$eq': [\n",
    "                                '$$nota', 2\n",
    "                            ]\n",
    "                        }\n",
    "                    }\n",
    "                }\n",
    "            },\n",
    "            'numDisplAval.ano3': {\n",
    "                '$size': {\n",
    "                    '$filter': {\n",
    "                        'input': '$seriesAvaliadas',\n",
    "                        'as': 'nota',\n",
    "                        'cond': {\n",
    "                            '$eq': [\n",
    "                                '$$nota', 3\n",
    "                            ]\n",
    "                        }\n",
    "                    }\n",
    "                }\n",
    "            }\n",
    "        }\n",
    "    }\n",
    "```\n",
    "\n"
   ]
  },
  {
   "cell_type": "markdown",
   "metadata": {},
   "source": [
    "### Passo 3: cálculo do somáorio da competência em todas as disciplinas\n"
   ]
  },
  {
   "cell_type": "markdown",
   "metadata": {
    "id": "hNkLVZdbHRtz"
   },
   "source": [
    "\n",
    "Antes de mais nada, para ambos os perfils contruídos precisamos do somatório das competências referentes a todas as disciplinas achar o peso $k_{ij}$.\n",
    "\n",
    "\\begin{equation}\n",
    "  k_{ij} = \\dfrac{\\mathcal{C}_{i j} }{\\sum^{N}_{i=0}\\mathcal{C}_{ij}}\n",
    "\\end{equation}\n",
    "\n",
    "A soma das competências por disciplina é necessário para suas normalizações, esse valor so é adiquirido uma vez que todas as disciplinas que a competência $j$ está relacionada são preechidas. Sendo $N$ o número total de disciplinas, variando de $i = \\{ 0 \\cdots N -1 \\}$ obtemos:\n",
    "\n",
    "\\begin{equation}\n",
    "    \\sum^{N}_{i=0}\\mathcal{C}_{ij}\n",
    "\\end{equation}\n",
    "\n",
    "O valor do peso que relaciona a competência com a disciplina ainda está na forma do valor atribuído pelo professor no questionário, o que é necessário então executar a média das habilidades atribuídas.\n",
    "Para cada habilidade $\\mathcal{H}_{k}$ em um número de habilidades $k$, obtem-se o atribuído da competência.\n",
    "\n",
    "\\begin{equation}\n",
    "    \\mathcal{C}_{i j} = \\dfrac{1}{L}\\sum^{L}_{l=0}\\mathcal{H}_{l}\n",
    "\\end{equation}\n",
    "\n",
    "Postariormente o necessário é normalizar este valor em relação a soma dos valores da competências para todas as disciplinas. O que será visto no próximo passo.\n",
    "\n",
    "\n",
    "\n",
    "```\n",
    "# Média das Habilidades\n",
    "{\n",
    "    '$set': {\n",
    "      'grafos.arestas.valor': {\n",
    "        '$avg': '$grafos.arestas.valor',\n",
    "      },\n",
    "    },\n",
    "}\n",
    "\n",
    "# Somatório das competências\n",
    "{\n",
    "    '$addFields': {\n",
    "      'sumValorCompetencias': {\n",
    "        '$sum': '$arestas.valor',\n",
    "      },\n",
    "    },\n",
    "},\n",
    "```\n",
    "\n"
   ]
  },
  {
   "cell_type": "markdown",
   "metadata": {
    "id": "kxZfilBfKvl_"
   },
   "source": [
    "### Passo 4: Retornar formulário\n",
    "\n",
    "Utilizando a função de agregação do mongo para retornar os dados formatados, sendo os formulários pertencentes as turmas do aluno, os formulários contém quantas disciplinas de cada foram respondidas para a competência associada"
   ]
  },
  {
   "cell_type": "code",
   "execution_count": null,
   "metadata": {
    "colab": {
     "base_uri": "https://localhost:8080/"
    },
    "executionInfo": {
     "elapsed": 4539,
     "status": "ok",
     "timestamp": 1733403196355,
     "user": {
      "displayName": "Gabriel Arthur Teixeira Perpetuo",
      "userId": "08625436895067644506"
     },
     "user_tz": 180
    },
    "id": "Zuc_yWaQLCTd",
    "outputId": "a88bef14-d840-4041-eee4-8ab854fc424b"
   },
   "outputs": [],
   "source": [
    "\n",
    "ids_turmas = [turma['_id'] for turma in lista_de_turmas_do_aluno]\n",
    "print(\"IDs das turmas do aluno {}: {}\".format(CHOSEN_STUDENT, ids_turmas))\n",
    "# Obter as competências avaliadas nas turmas do aluno\n",
    "\n",
    "competencias_avaliadas = list(formulario_collection.aggregate(get_competencias_avaliadas_pipeline(ids_turmas)))\n",
    "\n",
    "#pprint.pprint(competencias_avaliadas)\n"
   ]
  },
  {
   "cell_type": "markdown",
   "metadata": {
    "id": "qBxrwjnLNxTp"
   },
   "source": [
    "### Passo 5: checar formulários inválidos\n",
    "\n",
    "Como foi dito no dado anterior temos as disciplinas respondidas para cada ano . Avalie se o numero de arestas é igual ao numero de elementos das matrizes"
   ]
  },
  {
   "cell_type": "code",
   "execution_count": null,
   "metadata": {
    "colab": {
     "base_uri": "https://localhost:8080/"
    },
    "executionInfo": {
     "elapsed": 545,
     "status": "ok",
     "timestamp": 1733403221422,
     "user": {
      "displayName": "Gabriel Arthur Teixeira Perpetuo",
      "userId": "08625436895067644506"
     },
     "user_tz": 180
    },
    "id": "ywss4f58OFFH",
    "outputId": "6fd862d5-ecc4-4c43-dd75-5b196da56737"
   },
   "outputs": [],
   "source": [
    "\n",
    "total_competencia_por_area = list(competencia_collection.aggregate(get_competencia_por_area_pipeline()))\n",
    "print(\"Total de competências por área:\")\n",
    "pprint.pprint(total_competencia_por_area)\n",
    "\n",
    "[result] = list(escola_collection.aggregate(get_disciplina_por_area_pipeline(CHOSEN_SCHOOL)))\n",
    "numDiscip = result[\"numDiscip\"]  # Acessa o valor pela chave\n",
    "print(\"Número de disciplinas por área:\")\n",
    "pprint.pprint(numDiscip)\n",
    "\n",
    "[ result ] = list(formulario_collection.aggregate(get_arestas_total_pipeline(ids_turmas)))\n",
    "totalArestaGeral = result['totalArestasGeral']\n",
    "print(\"Total de arestas gerais:\")\n",
    "pprint.pprint(totalArestaGeral)\n",
    "# Verificar se os formulários estão válidos\n",
    "acumulador = 0\n",
    "for comp in total_competencia_por_area:\n",
    "  if comp['tipo'] == 'COGNITIVOS':\n",
    "    acumulador += comp['total'] * sum(numDiscip.values())\n",
    "  else:\n",
    "    acumulador += comp['total']* numDiscip[comp['tipo']]\n",
    "print(\"Total de arestas acumuladas:\")\n",
    "pprint.pprint(acumulador)\n",
    "\n",
    "invalidos =  totalArestaGeral != acumulador\n",
    "\n",
    "if (invalidos):\n",
    "  print('Formulários inválidos, resultados não serão coerentes!')\n",
    "  \n",
    "else:\n",
    "  print('Formulários válidos')\n"
   ]
  },
  {
   "cell_type": "markdown",
   "metadata": {
    "id": "cF_9SSYcbTGo"
   },
   "source": [
    "### Passo 6: Recupaerar valor notas do histórico normalizado\n",
    "Vamos extrair o valor das notas do histórco para cada disciplina e utilizar em um dicionário, associando o id da disciplina a nota obtida pelo aluno. O valor de uma nota $g_{dp}$ será $G_{dp}$ (ou $S(u)$)após dividirmos pelo valor maximo que uma nota pode alcançar ($g_{max}$).\n",
    "\n",
    "\\begin{equation}\n",
    "G_{dp} = \\frac{g_{dp}}{g_{max}}\n",
    "\\end{equation}"
   ]
  },
  {
   "cell_type": "code",
   "execution_count": null,
   "metadata": {
    "colab": {
     "base_uri": "https://localhost:8080/"
    },
    "executionInfo": {
     "elapsed": 555,
     "status": "ok",
     "timestamp": 1733403239738,
     "user": {
      "displayName": "Gabriel Arthur Teixeira Perpetuo",
      "userId": "08625436895067644506"
     },
     "user_tz": 180
    },
    "id": "oYYhC0tWbe_w",
    "outputId": "54786ff4-708f-4a67-eea1-2e5571255fcb"
   },
   "outputs": [],
   "source": [
    "NOTA_MAXIMA_ESCOLA = float(config['params']['nota_max_escola'])\n",
    "nota_historico_dict ={}\n",
    "print(lista_de_turmas_do_aluno)\n",
    "for turma in lista_de_turmas_do_aluno:\n",
    "  for disciplina in turma['aluno']['notas']['historico_escolar']: #para cada disciplina d\n",
    "    print(\"Disciplina: {}\".format(disciplina['disciplina_id']))\n",
    "    nota_historico_dict[(disciplina['disciplina_id'])] = disciplina['nota']/NOTA_MAXIMA_ESCOLA # teremos um valor G_dp\n",
    "\n",
    "#pprint.pprint(nota_historico_dict)\n"
   ]
  },
  {
   "cell_type": "markdown",
   "metadata": {
    "id": "yWs2-Vjj-QDO"
   },
   "source": [
    "### Passo 7: Recuperar valor de notas do ENEM\n",
    "\n",
    "Na nova estrutura para cada disciplina, encontrar a disciplina respectiva do aluno, primeiramente mapearemos as disciplinas e suas notas. Assim como no histórico dividiremos pelo máximo do ENEM.\n",
    "\n",
    "\\begin{equation}\n",
    "\\mathcal{C}_A = \\frac{En_{A}}{N_{cA}}\n",
    "\\end{equation}\n",
    "\n",
    "Com uma média desses valores utilizaremos o perfil para eixos cognitivos\n",
    "\n",
    "\\begin{equation}\n",
    "\\mathcal{C}_C = \\frac{1}{4} \\cdot \\sum^{4}_{A=0}\\mathcal{C}_{A}\n",
    "\\end{equation}"
   ]
  },
  {
   "cell_type": "code",
   "execution_count": null,
   "metadata": {
    "colab": {
     "base_uri": "https://localhost:8080/"
    },
    "executionInfo": {
     "elapsed": 544,
     "status": "ok",
     "timestamp": 1733403246332,
     "user": {
      "displayName": "Gabriel Arthur Teixeira Perpetuo",
      "userId": "08625436895067644506"
     },
     "user_tz": 180
    },
    "id": "welxmLqj-OmL",
    "outputId": "d0dbc1c3-1790-45b1-c80a-09d15f28c9ef"
   },
   "outputs": [],
   "source": [
    "#fazer pequeno filtro para nota do enem\n",
    "list_notas_enem = [turma['aluno']['notas']['enem'] for turma in lista_de_turmas_do_aluno]\n",
    "nota_enem = list_notas_enem[2].copy()\n",
    "\n",
    "N_ca = 1000.0 #dividir todos os valores por 1000\n",
    "\n",
    "Acc= 0.0\n",
    "\n",
    "for key, value in nota_enem.items():\n",
    "  nota_enem[key] = float(\"%.3f\"%(value/N_ca))\n",
    "  Acc += nota_enem[key]\n",
    "nota_enem['MEDIA'] = float(\"%.3f\"%(Acc/4))\n",
    "\n",
    "\n",
    "\n",
    "pprint.pprint(nota_enem)"
   ]
  },
  {
   "cell_type": "markdown",
   "metadata": {
    "id": "XMFzngXl-GAI"
   },
   "source": [
    "### Passo 8: Recuperar valores de aresta normalizado e de notas\n",
    "Incluindo todas as disciplinas dos conseguimos obter o valor normalizado das arestas, também aproveitamos para remodelar a estrutura de cada competência e seu respectivo grafo. Portanto precisamos obter o valor $W(u,v)$ sendo $u$ uma disciplina que se conecta as próximas do próximo ano $v$. O valor da conexão $W(u,v)$ será equivalente ao valor da competência normalizado. Trazendo para o contexto de variáveis exestirá uma aresta que tem o valor da competência, a aresta terá uma origem em uma displina ($u$) mas seu nome se repete então $u$ terá um nome $d$ e um período $p$ assim o valor da competência referente a eles se torna o $C_{dp}$\n",
    "\n",
    "\\begin{equation}\n",
    "    k_{i j} = \\dfrac{\\mathcal{C}_{ij}}{\\sum^{N}_{i=0}\\mathcal{C}_{ij}}\n",
    "\\end{equation}\n",
    "\n",
    "\\begin{equation}\n",
    "    k_{i j} = W(u,v)\n",
    "\\end{equation}\n",
    "\n",
    "\\begin{equation}\n",
    "    C_{dp} = W(u,v)\n",
    "\\end{equation}\n",
    "\n",
    "Também ja podemos obter a nota em relação ao Ensino Médio $S(u)$ ou $G_{dp}$, assim as competencias contem o grafo, cada vertice de origem $u$ e seus destinos $v$ representados por objetos de disciplina"
   ]
  },
  {
   "cell_type": "code",
   "execution_count": null,
   "metadata": {
    "colab": {
     "base_uri": "https://localhost:8080/"
    },
    "executionInfo": {
     "elapsed": 10758,
     "status": "ok",
     "timestamp": 1733403259970,
     "user": {
      "displayName": "Gabriel Arthur Teixeira Perpetuo",
      "userId": "08625436895067644506"
     },
     "user_tz": 180
    },
    "id": "g5vpmU5i99M6",
    "outputId": "3eaddef5-35b3-438f-f53a-61eee95020b3"
   },
   "outputs": [],
   "source": [
    "\n",
    "competencia_grafos = {}\n",
    "competencia_tag = {}\n",
    "\n",
    "for competencia in competencias_avaliadas:\n",
    "  #print(\"Competência: {}\".format(competencia['_id']))\n",
    "  competencia_grafos[competencia['_id']] = []\n",
    "  competencia_tag[competencia['_id']] = competencia['competencia_tag']\n",
    "  #print(competencia['arestas'])\n",
    "  for aresta in competencia['arestas']:\n",
    "    if(aresta['origem']['serie_ano'] < 4):\n",
    "      competencia_grafos[competencia['_id']].append({\n",
    "          'u':aresta['origem'],\n",
    "          'v':aresta['destino'],\n",
    "          'C_dp':aresta['valor']/competencia['sumValorCompetencias'],\n",
    "          'G_dp':nota_historico_dict[str(aresta['origem']['_id'])]\n",
    "      })\n",
    "\n",
    "competencia_grafos = dict(sorted(competencia_grafos.items()))\n",
    "\n",
    "#pprint.pprint(competencia_grafos)\n"
   ]
  },
  {
   "cell_type": "markdown",
   "metadata": {
    "id": "VbXpqUnfTJwW"
   },
   "source": [
    "### Passo 9: Contruir Grafo Para Vizualização.\n",
    "\n",
    "Para que o grafo seja melhor vizualizado e analisado, vamos utilizar libs que proporcionam isso. Vamos construir uma função para utilizar essa estrutura, outra para impressão caso desejamos. Vamos construir uma função para utilizar essa estrutura, outra para impressão caso desejamos."
   ]
  },
  {
   "cell_type": "markdown",
   "metadata": {
    "id": "quS3STaWUaJ8"
   },
   "source": [
    "### Passo 10: Construir o perfil de competências do EM \n",
    "\n",
    "O valor referente a saída de um nó se da por:\n",
    "\n",
    "\\begin{equation}\n",
    "    y_{dp}= G_{dp} + \\sum^{T_{p-1}}  Y_{p-1}\n",
    "\\end{equation}\n",
    "\n",
    "Sendo um  $Y_{dp}$ como a saída de um nó multiplicado pelo peso da aresta\n",
    "\n",
    "\\begin{equation}\n",
    "    Y_{dp}=C_{dp} * y_{dp}  \n",
    "\\end{equation}\n",
    "\n",
    "Assumimos que nas condições iniciais $Y_{d1} = G_{d1} * C_{d1}$ e na saída do nó final $Y_{d3} = y_{d3}$, então tentaremos criar um algoritmo para cada grafo que faça um acúmulo dos pesos e propaue o valor para frente.\n",
    "\n"
   ]
  },
  {
   "cell_type": "markdown",
   "metadata": {
    "id": "XnBzyph77qWK"
   },
   "source": [
    "### Passo 11: Testar\n",
    "\n",
    "Precisamos testar agora, escolha qualquer competência, talvez uma diferente do exemplo, execute a vizualização do grafo, faça os cáculos com a função de propagação e veja se os valores procedem"
   ]
  },
  {
   "cell_type": "code",
   "execution_count": null,
   "metadata": {
    "colab": {
     "base_uri": "https://localhost:8080/"
    },
    "executionInfo": {
     "elapsed": 391,
     "status": "ok",
     "timestamp": 1732629932256,
     "user": {
      "displayName": "Gabriel Arthur Teixeira Perpetuo",
      "userId": "08625436895067644506"
     },
     "user_tz": 180
    },
    "id": "N6-53lGsBIH0",
    "outputId": "d13d1b1a-8ba7-4e26-f6c0-547e76a75a79"
   },
   "outputs": [],
   "source": [
    "from plot_graphs import plot_graph\n",
    "from graph_competencias import GraphCompetences\n",
    "\n",
    "# Selecione a competência desejada\n",
    "test_competence = config['params']['chosen_competence_area_id']\n",
    "# Caso queira testar com outra competência, altere o valor de chosen_competence_area_id.Se for uma compet^ncia dos eixos cognivos descomente a linha abaixo:\n",
    "# test_competence = config['params']['chosen_competence_cog_id']\n",
    "\n",
    "NOTA_MINIMA = float(config['params']['nota_min_escola'])\n",
    "razao_minima = NOTA_MAXIMA_ESCOLA/ NOTA_MINIMA\n",
    "\n",
    "# Criar o grafo e plotar\n",
    "test_G = GraphCompetences(competencia_grafos[test_competence],razao_minima=razao_minima)\n",
    "\n",
    "# Plotar o grafo\n",
    "plot_graph(test_G)\n",
    "# Propagar valores no grafo\n",
    "\n",
    "# Plotar o grafo com os valores propagados\n",
    "print('Saída',test_G.output_competencia)"
   ]
  },
  {
   "cell_type": "markdown",
   "metadata": {
    "id": "g9aFN-hjCZiH"
   },
   "source": [
    "### Passo 12: Construir perfil de aluno máximo e aluno mínimo (normalização)\n",
    "\n",
    "Para a normalização, teremos de fazer o perfil de um aluno máximo , com todas as notas máximas e um aluno mínimo, o mínimo requirido para passar. A forma do aluno máximo pode ser concretizada por:\n",
    "\n",
    "\\begin{equation}\n",
    "    y_{fmax}=\\sum_{k=1}^3\\Big(\\prod_{p=k}^ 3\\mathcal{A}_p\\Big)\n",
    "\\end{equation}\n",
    "\n",
    "\\begin{equation}\n",
    "y_{fmax}=(1+\\mathcal{A}_1)\\mathcal{A}_2)\\mathcal{A}_3\n",
    "\\end{equation}\n",
    "\n",
    "\n",
    "\\begin{equation}\n",
    "\\mathcal{A}_p = \\sum_{k=0}^3C_{dp}\n",
    "\\end{equation}\n",
    "\n",
    "Para o valor mínimo, usando o valor de nota míma para passar como 0,6:\n",
    "\n",
    "\\begin{equation}\n",
    "y_{fmin} = 0,6 \\cdot y_{fmax}\n",
    "\\end{equation}\n",
    "\n"
   ]
  },
  {
   "cell_type": "code",
   "execution_count": null,
   "metadata": {
    "id": "pHoqjRdODn0w"
   },
   "outputs": [],
   "source": [
    "print(\"Aluno máximo\", test_G.aluno_maximo)\n",
    "print(\"Aluno mínimo\", test_G.aluno_minimo)"
   ]
  },
  {
   "cell_type": "markdown",
   "metadata": {},
   "source": [
    "### Passo 12: Construir os vetores de perfis.\n",
    "\n",
    "Finalmente precisamos do valor normalizado de $y$ sendo $y'$\n",
    "\\begin{equation}\n",
    "y'_{f}=\\frac{y_f-y_{fmin}}{y_{fmax}-y_{fmin}}\n",
    "\\end{equation}\n",
    "\n",
    "cada saída $\\gamma_{j}$ representa a saída de uma competência da matrix assim teremos:"
   ]
  },
  {
   "cell_type": "code",
   "execution_count": null,
   "metadata": {},
   "outputs": [],
   "source": [
    "perfil_enem = {}\n",
    "perfil_em = {}\n",
    "\n",
    "for key,value in competencia_grafos.items():\n",
    "    tag = competencia_tag[key]\n",
    "    perfil_enem[key] = nota_enem['MEDIA'] if tag == 'COGNITIVOS' else nota_enem[tag]\n",
    "    grafo_competencia = GraphCompetences(value)\n",
    "    \n",
    "    competencia_do_aluno = grafo_competencia.output_competencia\n",
    "    print(\"Competência:\", tag,)\n",
    "    print(\"Valor do aluno:\", competencia_do_aluno)\n",
    "\n",
    "    competencia_aluno_maximo = grafo_competencia.aluno_maximo\n",
    "    competencia_aluno_minimo = grafo_competencia.aluno_minimo\n",
    "    print(\"Valor Máximo do aluno:\", competencia_aluno_maximo)\n",
    "    print(\"Valor Mínimo do aluno:\", competencia_aluno_minimo)\n",
    "\n",
    "    perfil_em[key] = (competencia_do_aluno - competencia_aluno_minimo ) / (competencia_aluno_maximo - competencia_aluno_minimo)\n",
    "\n",
    "    if (perfil_em[key] < 0):\n",
    "        print(\"Perfil EM negativo!!\")\n",
    "    if (perfil_em[key] > 1):\n",
    "        print(\"Perfil EM maior que 1!!\")\n",
    "\n",
    "# print(\"Perfil ENEM:\", perfil_enem)\n",
    "print(\"Perfil EM:\", perfil_em)\n",
    "\n",
    "# Salvar o perfil do aluno no dicionário global\n",
    "global_dict_sutdentes_profiles[CHOSEN_STUDENT] = {\n",
    "    'perfil_enem': perfil_enem,\n",
    "    'perfil_em': perfil_em\n",
    "}\n",
    "# Salvar o dicionário global em um arquivo JSON\n",
    "import json\n",
    "output_file = os.path.join(os.getcwd(), 'student_profiles.json')\n",
    "with open(output_file, 'w') as f:\n",
    "    json.dump(global_dict_sutdentes_profiles, f, indent=4)\n",
    "print(f\"Perfil do aluno {CHOSEN_STUDENT} salvo em {output_file}\")\n",
    "\n"
   ]
  },
  {
   "cell_type": "markdown",
   "metadata": {
    "id": "bhjlBh7EHSHT"
   },
   "source": [
    "## Exibir indicador de similaridade (plot de gráficos)\n"
   ]
  },
  {
   "cell_type": "markdown",
   "metadata": {},
   "source": [
    "### Gráfico geral\n",
    "Baseado nos estudos anteriores a comparação dos perfis seria de tal forma. Apresentaremos o grafico mediante a cada competência, como o perfil do ensino médio apenas utilizamos a nota, usamos uma constante, que deverá ser comparado as competências, elas terima que no caso se adequar aquela contante da nota"
   ]
  },
  {
   "cell_type": "code",
   "execution_count": null,
   "metadata": {
    "colab": {
     "base_uri": "https://localhost:8080/",
     "height": 1000
    },
    "executionInfo": {
     "elapsed": 3541,
     "status": "ok",
     "timestamp": 1732629943047,
     "user": {
      "displayName": "Gabriel Arthur Teixeira Perpetuo",
      "userId": "08625436895067644506"
     },
     "user_tz": 180
    },
    "id": "UjdSIO_cyp9L",
    "outputId": "a8e27eeb-b379-488a-9cd3-77e70f1b4527"
   },
   "outputs": [],
   "source": [
    "\n",
    "from plot_graphs import bar_plot, spider_plot\n",
    "\n",
    "competencias_dict = list(competencia_collection.aggregate(get_legendas_colunas_pipeline()))[0]\n",
    "\n",
    "load_students_profiles = json.loads(open(output_file, 'r').read())\n",
    "print(\"Perfis de alunos carregados:\", load_students_profiles)\n",
    "\n",
    "# print(competencias_dict)\n",
    "\n",
    "cores = {\n",
    "    'EXATAS': '#394fe3',\n",
    "    'HUMANAS': '#e3dd39',\n",
    "    'LINGUAGENS': '#d919e3',\n",
    "    'MEDIA': '#6007b3',\n",
    "    'COGNITIVOS': '#e31c19',\n",
    "    'NATUREZA': '#39e347'\n",
    "}\n",
    "\n",
    "columns = [ competencias_dict[key]['codigo'] for key in perfil_em.keys() ]\n",
    "\n",
    "columns_colors = [ cores[competencias_dict[key]['area']] for key in perfil_em.keys() ]\n",
    "values_em = list(perfil_em.values())\n",
    "values_enem = list(perfil_enem.values())\n",
    "\n",
    "# print(\"Colunas:\", columns)\n",
    "# print(\"Cores:\", columns_colors)\n",
    "\n",
    "\n",
    "constant_lines = [\n",
    "    {\n",
    "        'name': 'Vestibular - {}'.format(key),\n",
    "        'y': value,\n",
    "        'color': cores[key],\n",
    "        'dash': 'dot' if key == 'MEDIA' else 'dash'  # Linha da média com estilo diferente\n",
    "    } \n",
    "    for key, value in nota_enem.items()\n",
    "]\n",
    "\n",
    "print(\"Perfil de\", CHOSEN_STUDENT, 'na escola \"', CHOSEN_SCHOOL, '\"')\n",
    "\n",
    "fig = bar_plot(\n",
    "    columns,\n",
    "    'Competências', \n",
    "    values_em,\n",
    "    True,\n",
    "    constant_lines,\n",
    "    columns_colors\n",
    ")\n",
    "spider_fig = spider_plot(columns,['Egresso',' Vestibulando'], [values_em, values_enem], show=True)\n"
   ]
  },
  {
   "cell_type": "markdown",
   "metadata": {},
   "source": [
    "A vizualização não fica tão agradável, portanto vamos seprar em graficos para cada área."
   ]
  },
  {
   "cell_type": "code",
   "execution_count": null,
   "metadata": {},
   "outputs": [],
   "source": [
    "#fazer um plot para cada area\n",
    "area_values_dict = {}\n",
    "for area in ['EXATAS', 'HUMANAS', 'LINGUAGENS', 'NATUREZA']:\n",
    "    area_columns = [competencias_dict[key]['codigo'] for key in perfil_em.keys() if competencias_dict[key]['area'] == area or competencias_dict[key]['area'] == 'COGNITIVOS']\n",
    "    area_values_em = [perfil_em[key] for key in perfil_em.keys() if competencias_dict[key]['area'] == area or competencias_dict[key]['area'] == 'COGNITIVOS']\n",
    "    \n",
    "    area_colors = [cores[competencias_dict[key]['area']] for key in perfil_em.keys() if competencias_dict[key]['area'] == area or competencias_dict[key]['area'] == 'COGNITIVOS']\n",
    "\n",
    "    constant_lines = [\n",
    "        {\n",
    "            'name': 'Vestibular - {}'.format(area),\n",
    "            'y': nota_enem[area],\n",
    "            'color': cores[area],\n",
    "            'dash': 'dash'  # Linha da média com estilo diferente\n",
    "        },\n",
    "        {\n",
    "            'name': 'Média - total',\n",
    "            'y': nota_enem['MEDIA'],\n",
    "            'color': cores['MEDIA'],\n",
    "            'dash': 'dot'  # Linha da média com estilo diferente\n",
    "        } \n",
    "    ]\n",
    "    print(f\"Plotando área: {area}\")\n",
    "    print(\"Colunas:\", area_columns)\n",
    "    print(\"Cores:\", area_colors)\n",
    "    print(\"Valores EM:\", area_values_em)\n",
    "\n",
    "    fig_area = bar_plot(\n",
    "        area_columns,\n",
    "        f'Competências - {area}',\n",
    "        area_values_em,\n",
    "        True,\n",
    "        constant_lines,\n",
    "        area_colors\n",
    "    )\n",
    "\n",
    "    area_values_dict[area] = area_values_em"
   ]
  },
  {
   "cell_type": "markdown",
   "metadata": {},
   "source": [
    "Agora utilizaremos a média das áreas pare montar um gráfico similar ao dos perfil do ensino médio. Usaremos a média entre as competências presentes na área."
   ]
  },
  {
   "cell_type": "code",
   "execution_count": null,
   "metadata": {},
   "outputs": [],
   "source": [
    "perfil_enem_values = [ nota_enem[key] for key in ['EXATAS', 'HUMANAS', 'LINGUAGENS', 'NATUREZA']]\n",
    "perfil_media_area_values_em = [sum(area_values_dict[area]) / len(area_values_dict[area]) for area in ['EXATAS', 'HUMANAS', 'LINGUAGENS', 'NATUREZA']]\n",
    "\n",
    "spider_fig = spider_plot( ['EXATAS', 'HUMANAS', 'LINGUAGENS', 'NATUREZA'],['Egresso',' Vestibulando'], [perfil_media_area_values_em, perfil_enem_values], show=True)\n"
   ]
  },
  {
   "cell_type": "markdown",
   "metadata": {
    "id": "Tq-xkT6XkUpY"
   },
   "source": [
    "Por fim, buscando obter o  índice de similaridade entre\n",
    "dois perfis de competencias, para que este represente um\n",
    "valor numerico entre 0% e 100%. Utilizamos a similaridade por coseno e ajustamos para a proporcionalidade.\n",
    "\n",
    "\\begin{equation}\n",
    "    \\theta = cos^{-1} \\Bigg( \\dfrac{{P}_{em} \\cdot {P}_{enem} }{||{P}_{em}|| \\cdot ||{P}_{enem}||} \\Bigg)\n",
    "\\end{equation}\n",
    "\n",
    "Assumimos que a maior diferença entre os vetores é de $\\pi/2$ rad, dessa forma ajustamos a escala para o valor máximo da diferença ser 1.\n",
    "\n",
    "\\begin{equation}\n",
    "  Id = 1- \\frac{2\\theta}{\\pi}\n",
    "\\end{equation}\n"
   ]
  },
  {
   "cell_type": "code",
   "execution_count": null,
   "metadata": {
    "colab": {
     "base_uri": "https://localhost:8080/"
    },
    "executionInfo": {
     "elapsed": 3545,
     "status": "ok",
     "timestamp": 1730508921511,
     "user": {
      "displayName": "Gabriel Arthur Teixeira Perpetuo",
      "userId": "08625436895067644506"
     },
     "user_tz": 180
    },
    "id": "MT9p4XiBXZWv",
    "outputId": "7814c714-7c30-4179-a614-f675220e6929"
   },
   "outputs": [],
   "source": [
    "from sklearn.metrics.pairwise import cosine_similarity\n",
    "import math\n",
    "import numpy as np\n",
    "\n",
    "em_array = np.array(values_em)\n",
    "enem_array = np.array(values_enem)\n",
    "\n",
    "similarity_cos = cosine_similarity([em_array], [enem_array])[0][0]\n",
    "\n",
    "theta = math.acos(similarity_cos)\n",
    "similarity = 1-theta/(math.pi/2.0)\n",
    "\n",
    "print('Similaridade de {}% entre os perfis do ensino médio e nem para as competências'.format(similarity * 100))\n",
    "\n",
    "\n",
    "em_array = np.array(perfil_media_area_values_em)\n",
    "enem_array = np.array(perfil_enem_values)\n",
    "\n",
    "similarity_cos = cosine_similarity([em_array], [enem_array])[0][0]\n",
    "\n",
    "theta = math.acos(similarity_cos)\n",
    "similarity = 1-theta/(math.pi/2.0)\n",
    "\n",
    "print('Similaridade de {}% entre os perfis da média'.format(similarity * 100))\n",
    "\n",
    "\n",
    "\n"
   ]
  },
  {
   "cell_type": "code",
   "execution_count": null,
   "metadata": {},
   "outputs": [],
   "source": [
    "for key,profile in load_students_profiles.items():\n",
    "    print(\"Perfil do aluno {}\".format(key))\n",
    "    perfil_em = profile['perfil_em']\n",
    "    perfil_enem = profile['perfil_enem']\n",
    "    columns = [ competencias_dict[key]['codigo'] for key in perfil_em.keys() ]\n",
    "    bar_plot(columns, [ key + ' - Egresso', key + ' - Vestibulando'], [list(perfil_em.values()), list(perfil_enem.values())], True)"
   ]
  },
  {
   "cell_type": "code",
   "execution_count": null,
   "metadata": {},
   "outputs": [],
   "source": [
    "\n",
    "#dos perfis no json quero o perfil aluno humanas e aluno natureza\n",
    "chosens_em = ['Aluno Linguagens Escola A', 'Aluno Humanas Escola B', 'Aluno Exatas Escola A']\n",
    "compare_subtitles_em = list(chosens_em)\n",
    "print(compare_subtitles_em)\n",
    "compare_columns = [ competencias_dict[key]['codigo'] for key in perfil_em.keys() ]\n",
    "compare_values_em = list(\n",
    "    [[profile['perfil_em'][key] for key in perfil_em.keys()] for student, profile in load_students_profiles.items() if student in chosens_em]\n",
    ")\n",
    "\n",
    "chosens_enem = ['Aluno Linguagens Escola A', 'Aluno Humanas Escola B', 'Aluno Natureza Escola B']\n",
    "compare_subtitles_enem = list(chosens_enem)\n",
    "compare_values_enem = list(\n",
    "    [[profile['perfil_enem'][key] for key in perfil_em.keys()] for student, profile in load_students_profiles.items() if student in chosens_enem]\n",
    ")\n",
    "# Plotar o gráfico de barras\n",
    "\n",
    "\n",
    "\n",
    "\n",
    "bar_plot(compare_columns, compare_subtitles_em, compare_values_em, True)\n",
    "bar_plot(compare_columns, compare_subtitles_enem, compare_values_enem, True)\n"
   ]
  },
  {
   "cell_type": "code",
   "execution_count": null,
   "metadata": {},
   "outputs": [],
   "source": [
    "#Exibir similaridade de perfil_em entre cada estudante de load_students_profiles: Perfil aluno Humanas Escola B e Perfil aluno Linguagens Escola A, Perfil aluno Humanas Escola B e Perfil aluno Natureza Escola A, etc.... \n",
    "def calculate_similarity(profile1, profile2, profile=None):\n",
    "    profile_type1 = 'perfil_em' \n",
    "    profile_type2 = 'perfil_enem'\n",
    "    if profile is not None:\n",
    "        profile_type1 = profile_type2 = profile\n",
    "    \n",
    "    em_array1 = np.array(list(profile1[profile_type1].values()))\n",
    "    em_array2 = np.array(list(profile2[profile_type2].values()))\n",
    "    \n",
    "    similarity_cos = cosine_similarity([em_array1], [em_array2])[0][0]\n",
    "    theta = math.acos(similarity_cos)\n",
    "    similarity = 1 - theta / (math.pi / 2.0)\n",
    "    \n",
    "    return similarity\n",
    "\n",
    "# Calcular similaridade entre os perfis\n",
    "similarities_em = {}\n",
    "similarities_enem = {}\n",
    "for key1, profile1 in load_students_profiles.items():\n",
    "    for key2, profile2 in load_students_profiles.items():\n",
    "        if key1 != key2:\n",
    "            similarity_em = calculate_similarity(profile1, profile2, profile='perfil_em')\n",
    "            similarities_em[(key1, key2)] = similarity_em\n",
    "            similarity_enem = calculate_similarity(profile1, profile2, profile='perfil_enem')\n",
    "            similarities_enem[(key1, key2)] = similarity_enem\n",
    "\n",
    "# Exibir similaridades\n",
    "print(\"Similaridades entre os perfis EM:\")\n",
    "for (key1, key2), similarity in similarities_em.items():\n",
    "    print(f'Similaridade entre {key1} e {key2}: {similarity * 100:.2f}%')\n",
    "\n",
    "print(\"Similaridades entre os perfis ENEM:\")\n",
    "for (key1, key2), similarity in similarities_enem.items():\n",
    "    print(f'Similaridade entre {key1} e {key2}: {similarity * 100:.2f}%')\n",
    "\n",
    "# Exibir similaridade entre os perfis EM e ENEM de cada estudante\n",
    "\n",
    "print(\"Similaridades entre os perfis EM e ENEM:\")\n",
    "for student, profile in load_students_profiles.items():\n",
    "    similarity_em_enem = calculate_similarity(profile, profile)\n",
    "    print(f'Similaridade entre o perfil EM e ENEM do {student}: {similarity_em_enem * 100:.2f}%')\n",
    "\n",
    "\n",
    "\n"
   ]
  }
 ],
 "metadata": {
  "colab": {
   "authorship_tag": "ABX9TyNRF0TPwQ7AVMpco5WduEUg",
   "mount_file_id": "173ytB5jhMQ1jalqgvCENnOew-78_5mMo",
   "provenance": []
  },
  "kernelspec": {
   "display_name": "venv",
   "language": "python",
   "name": "python3"
  },
  "language_info": {
   "codemirror_mode": {
    "name": "ipython",
    "version": 3
   },
   "file_extension": ".py",
   "mimetype": "text/x-python",
   "name": "python",
   "nbconvert_exporter": "python",
   "pygments_lexer": "ipython3",
   "version": "3.13.3"
  }
 },
 "nbformat": 4,
 "nbformat_minor": 0
}
