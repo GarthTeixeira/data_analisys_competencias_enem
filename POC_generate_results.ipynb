{
 "cells": [
  {
   "cell_type": "markdown",
   "metadata": {
    "id": "Jf4ISr7cDG1c"
   },
   "source": [
    "## Conexão com o banco\n",
    "\n",
    "Primeiramente precisamos importar algumas configurações e nos conectar a nossa base de dados\n"
   ]
  },
  {
   "cell_type": "code",
   "execution_count": 3,
   "metadata": {},
   "outputs": [
    {
     "name": "stdout",
     "output_type": "stream",
     "text": [
      "Nome do seu computador:fedora\n",
      "O endereço IP do seu computador:192.168.18.37\n"
     ]
    }
   ],
   "source": [
    "# Caso utilize o Google Colab, descomente as linhas abaixo para montar o Google Drive\n",
    "# from google.colab import drive\n",
    "# drive.mount('/content/drive')\n",
    "\n",
    "# Importar bibliotecas necessárias\n",
    "from urllib.parse import quote_plus\n",
    "import socket\n",
    "import os\n",
    "\n",
    "# Importar pymongo para acesso aos documentos no banco de dados\n",
    "import pymongo\n",
    "\n",
    "# Importar configparser e pprint para ler o arquivo de configuração e imprimir os dados\n",
    "import configparser\n",
    "import pprint\n",
    "\n",
    "hostname = socket.gethostname()\n",
    "IPAddr = socket.gethostbyname(hostname)\n",
    "print(\"Nome do seu computador:\" + hostname)\n",
    "print(\"O endereço IP do seu computador:\" + IPAddr)\n",
    "\n",
    "config = configparser.ConfigParser()\n",
    "config.read('./conf.ini')\n",
    "\n",
    "# Configurações do MongoDB\n",
    "username = config['mongo']['USERNAME']\n",
    "password = config['mongo']['PASSWORD']\n",
    "host = config['mongo']['HOST']\n",
    "\n",
    "\n",
    "# Criar string de conexão com o banco\n",
    "connection_string = 'mongodb://{}:{}@{}/?retryWrites=true&w=majority'.format(\n",
    "        username,\n",
    "        quote_plus(password),\n",
    "        host\n",
    "    )\n",
    "\n",
    "# Conectar ao MongoDB\n",
    "client = pymongo.MongoClient(connection_string)"
   ]
  },
  {
   "cell_type": "markdown",
   "metadata": {
    "id": "XP4uWf60Dkz0"
   },
   "source": [
    "## Tratamento de dados\n",
    "\n",
    "\n"
   ]
  },
  {
   "cell_type": "markdown",
   "metadata": {
    "id": "Bu8HGUx5HcfH"
   },
   "source": [
    "### Passo 1: realizar busca das informações para um aluno\n",
    "O resultado é emitido para um determinado aluno, para isso é necessário os resultados dos formulários referentes as suas turmas durante o ensino médio (1°,2° e 3° ano).\n",
    "\n"
   ]
  },
  {
   "cell_type": "code",
   "execution_count": 4,
   "metadata": {
    "colab": {
     "base_uri": "https://localhost:8080/"
    },
    "executionInfo": {
     "elapsed": 624,
     "status": "ok",
     "timestamp": 1733403185232,
     "user": {
      "displayName": "Gabriel Arthur Teixeira Perpetuo",
      "userId": "08625436895067644506"
     },
     "user_tz": 180
    },
    "id": "5_RQmTumDvVO",
    "outputId": "bd28e0ac-9e8a-46c6-913c-b13d5e8b5c80"
   },
   "outputs": [],
   "source": [
    "\n",
    "from pipelines import *\n",
    "\n",
    "db_connection = client[config['mongo']['DB_NAME']]\n",
    "formulario_collection = db_connection['formularios_professor']\n",
    "escola_collection = db_connection['escolas']\n",
    "competencia_collection = db_connection['competencias']\n",
    "\n",
    "\n",
    "CHOSEN_SCHOOL = config['params']['school_name']\n",
    "CHOSEN_STUDENT = config['params']['student_name']\n",
    "\n",
    "escola = escola_collection.find_one({'nome': CHOSEN_SCHOOL})\n",
    "\n",
    "turmas_do_aluno = escola_collection.aggregate(get_turmas_do_aluno_pipeline(CHOSEN_SCHOOL, CHOSEN_STUDENT))\n",
    "\n",
    "lista_de_turmas_do_aluno = (list(turmas_do_aluno))\n",
    "\n",
    "#pprint.pprint(lista_de_turmas_do_aluno)\n"
   ]
  },
  {
   "cell_type": "markdown",
   "metadata": {},
   "source": [
    "### Passo 2: Retornar Formulários que pertencem as turmas do aluno escolhido\n"
   ]
  },
  {
   "cell_type": "markdown",
   "metadata": {
    "id": "2jPfws8k-ewZ"
   },
   "source": [
    "\n",
    "\n",
    "Para que seja possível construir o perfil é necesssário pelo menos um formulários preecnhidos para cada ano letivo, ou seja os formulários do 1°,2° e 3° ano. Utilizando a pipeline do mongo db retornaremos quantos formulários foram preenchidos para cada ano, por exemplo\n",
    "\n",
    "```python\n",
    "  numDisplAval: {\n",
    "    ano3: 1,\n",
    "    ano1: 6,\n",
    "    ano2: 3\n",
    "}\n",
    "```\n",
    "\n",
    "Sendo assim utilizamos o estágio na pipeline\n",
    "\n",
    "\n",
    "\n",
    "```python\n",
    "{\n",
    "    '$set': {\n",
    "            'numDisplAval.ano1': {\n",
    "                '$size': {\n",
    "                    '$filter': {\n",
    "                        'input': '$seriesAvaliadas',\n",
    "                        'as': 'nota',\n",
    "                        'cond': {\n",
    "                            '$eq': [\n",
    "                                '$$nota', 1\n",
    "                            ]\n",
    "                        }\n",
    "                    }\n",
    "                }\n",
    "            },\n",
    "            'numDisplAval.ano2': {\n",
    "                '$size': {\n",
    "                    '$filter': {\n",
    "                        'input': '$seriesAvaliadas',\n",
    "                        'as': 'nota',\n",
    "                        'cond': {\n",
    "                            '$eq': [\n",
    "                                '$$nota', 2\n",
    "                            ]\n",
    "                        }\n",
    "                    }\n",
    "                }\n",
    "            },\n",
    "            'numDisplAval.ano3': {\n",
    "                '$size': {\n",
    "                    '$filter': {\n",
    "                        'input': '$seriesAvaliadas',\n",
    "                        'as': 'nota',\n",
    "                        'cond': {\n",
    "                            '$eq': [\n",
    "                                '$$nota', 3\n",
    "                            ]\n",
    "                        }\n",
    "                    }\n",
    "                }\n",
    "            }\n",
    "        }\n",
    "    }\n",
    "```\n",
    "\n"
   ]
  },
  {
   "cell_type": "markdown",
   "metadata": {},
   "source": [
    "### Passo 3: cálculo do somáorio da competência em todas as disciplinas\n"
   ]
  },
  {
   "cell_type": "markdown",
   "metadata": {
    "id": "hNkLVZdbHRtz"
   },
   "source": [
    "\n",
    "Antes de mais nada, para ambos os perfils contruídos precisamos do somatório das competências referentes a todas as disciplinas achar o peso $k_{ij}$.\n",
    "\n",
    "\\begin{equation}\n",
    "  k_{ij} = \\dfrac{\\mathcal{C}_{i j} }{\\sum^{N}_{i=0}\\mathcal{C}_{ij}}\n",
    "\\end{equation}\n",
    "\n",
    "A soma das competências por disciplina é necessário para suas normalizações, esse valor so é adiquirido uma vez que todas as disciplinas que a competência $j$ está relacionada são preechidas. Sendo $N$ o número total de disciplinas, variando de $i = \\{ 0 \\cdots N -1 \\}$ obtemos:\n",
    "\n",
    "\\begin{equation}\n",
    "    \\sum^{N}_{i=0}\\mathcal{C}_{ij}\n",
    "\\end{equation}\n",
    "\n",
    "O valor do peso que relaciona a competência com a disciplina ainda está na forma do valor atribuído pelo professor no questionário, o que é necessário então executar a média das habilidades atribuídas.\n",
    "Para cada habilidade $\\mathcal{H}_{k}$ em um número de habilidades $k$, obtem-se o atribuído da competência.\n",
    "\n",
    "\\begin{equation}\n",
    "    \\mathcal{C}_{i j} = \\dfrac{1}{L}\\sum^{L}_{l=0}\\mathcal{H}_{l}\n",
    "\\end{equation}\n",
    "\n",
    "Postariormente o necessário é normalizar este valor em relação a soma dos valores da competências para todas as disciplinas. O que será visto no próximo passo.\n",
    "\n",
    "\n",
    "\n",
    "```\n",
    "# Média das Habilidades\n",
    "{\n",
    "    '$set': {\n",
    "      'grafos.arestas.valor': {\n",
    "        '$avg': '$grafos.arestas.valor',\n",
    "      },\n",
    "    },\n",
    "}\n",
    "\n",
    "# Somatório das competências\n",
    "{\n",
    "    '$addFields': {\n",
    "      'sumValorCompetencias': {\n",
    "        '$sum': '$arestas.valor',\n",
    "      },\n",
    "    },\n",
    "},\n",
    "```\n",
    "\n"
   ]
  },
  {
   "cell_type": "markdown",
   "metadata": {
    "id": "kxZfilBfKvl_"
   },
   "source": [
    "### Passo 4: Retornar formulário\n",
    "\n",
    "Utilizando a função de agregação do mongo para retornar os dados formatados, sendo os formulários pertencentes as turmas do aluno, os formulários contém quantas disciplinas de cada foram respondidas para a competência associada"
   ]
  },
  {
   "cell_type": "code",
   "execution_count": 5,
   "metadata": {
    "colab": {
     "base_uri": "https://localhost:8080/"
    },
    "executionInfo": {
     "elapsed": 4539,
     "status": "ok",
     "timestamp": 1733403196355,
     "user": {
      "displayName": "Gabriel Arthur Teixeira Perpetuo",
      "userId": "08625436895067644506"
     },
     "user_tz": 180
    },
    "id": "Zuc_yWaQLCTd",
    "outputId": "a88bef14-d840-4041-eee4-8ab854fc424b"
   },
   "outputs": [],
   "source": [
    "\n",
    "ids_turmas = [turma['_id'] for turma in lista_de_turmas_do_aluno]\n",
    "\n",
    "competencias_avaliadas = list(formulario_collection.aggregate(get_competencias_avaliadas_pipeline(ids_turmas)))\n",
    "\n",
    "#pprint.pprint(competencias_avaliadas)\n"
   ]
  },
  {
   "cell_type": "markdown",
   "metadata": {
    "id": "qBxrwjnLNxTp"
   },
   "source": [
    "### Passo 5: checar formulários inválidos\n",
    "\n",
    "Como foi dito no dado anterior temos as disciplinas respondidas para cada ano . Avalie se o numero de arestas é igual ao numero de elementos das matrizes"
   ]
  },
  {
   "cell_type": "code",
   "execution_count": 6,
   "metadata": {
    "colab": {
     "base_uri": "https://localhost:8080/"
    },
    "executionInfo": {
     "elapsed": 545,
     "status": "ok",
     "timestamp": 1733403221422,
     "user": {
      "displayName": "Gabriel Arthur Teixeira Perpetuo",
      "userId": "08625436895067644506"
     },
     "user_tz": 180
    },
    "id": "ywss4f58OFFH",
    "outputId": "6fd862d5-ecc4-4c43-dd75-5b196da56737"
   },
   "outputs": [
    {
     "name": "stdout",
     "output_type": "stream",
     "text": [
      "Formulários válidos\n"
     ]
    }
   ],
   "source": [
    "\n",
    "total_competencia_por_area = list(competencia_collection.aggregate(get_competencia_por_area_pipeline()))\n",
    "\n",
    "[result] = list(escola_collection.aggregate(get_disciplina_por_area_pipeline()))\n",
    "numDiscip = result[\"numDiscip\"]  # Acessa o valor pela chave\n",
    "\n",
    "\n",
    "[ result ] = list(formulario_collection.aggregate(get_arestas_total_pipeline()))\n",
    "totalArestaGeral = result['totalArestasGeral']\n",
    "\n",
    "# Verificar se os formulários estão válidos\n",
    "acumulador = 0\n",
    "for comp in total_competencia_por_area:\n",
    "  if comp['tipo'] == 'COGNITIVOS':\n",
    "    acumulador += comp['total'] * sum(numDiscip.values())\n",
    "  else:\n",
    "    acumulador += comp['total']* numDiscip[comp['tipo']]\n",
    "\n",
    "invalidos =  totalArestaGeral != acumulador\n",
    "\n",
    "if (invalidos):\n",
    "  print('Formulários inválidos, resultados não serão coerentes!')\n",
    "  \n",
    "else:\n",
    "  print('Formulários válidos')\n"
   ]
  },
  {
   "cell_type": "markdown",
   "metadata": {
    "id": "cF_9SSYcbTGo"
   },
   "source": [
    "### Passo 6: Recupaerar valor notas do histórico normalizado\n",
    "Vamos extrair o valor das notas do histórco para cada disciplina e utilizar em um dicionário, associando o id da disciplina a nota obtida pelo aluno. O valor de uma nota $g_{dp}$ será $G_{dp}$ (ou $S(u)$)após dividirmos pelo valor maximo que uma nota pode alcançar ($g_{max}$).\n",
    "\n",
    "\\begin{equation}\n",
    "G_{dp} = \\frac{g_{dp}}{g_{max}}\n",
    "\\end{equation}"
   ]
  },
  {
   "cell_type": "code",
   "execution_count": 7,
   "metadata": {
    "colab": {
     "base_uri": "https://localhost:8080/"
    },
    "executionInfo": {
     "elapsed": 555,
     "status": "ok",
     "timestamp": 1733403239738,
     "user": {
      "displayName": "Gabriel Arthur Teixeira Perpetuo",
      "userId": "08625436895067644506"
     },
     "user_tz": 180
    },
    "id": "oYYhC0tWbe_w",
    "outputId": "54786ff4-708f-4a67-eea1-2e5571255fcb"
   },
   "outputs": [
    {
     "name": "stdout",
     "output_type": "stream",
     "text": [
      "{'680a960067c1016f6e51e968': 0.89,\n",
      " '680a960067c1016f6e51e969': 0.71,\n",
      " '680a960067c1016f6e51e96a': 0.5900000000000001,\n",
      " '680a960067c1016f6e51e96b': 0.85,\n",
      " '680a960067c1016f6e51e96c': 0.67,\n",
      " '680a960067c1016f6e51e96d': 0.77,\n",
      " '680a960067c1016f6e51e96e': 0.64,\n",
      " '680a960067c1016f6e51e96f': 0.8,\n",
      " '680a960067c1016f6e51e970': 0.89,\n",
      " '680a960067c1016f6e51e971': 0.63,\n",
      " '680a960067c1016f6e51e972': 0.8800000000000001,\n",
      " '680a960067c1016f6e51e973': 0.54,\n",
      " '680a960067c1016f6e51e974': 0.6599999999999999,\n",
      " '680a960067c1016f6e51e975': 0.5700000000000001,\n",
      " '680a960067c1016f6e51e976': 0.8400000000000001,\n",
      " '680a960067c1016f6e51e977': 0.63,\n",
      " '680a960067c1016f6e51e978': 0.75,\n",
      " '680a960067c1016f6e51e979': 0.5599999999999999,\n",
      " '680a960067c1016f6e51e97a': 0.7,\n",
      " '680a960067c1016f6e51e97b': 0.65,\n",
      " '680a960067c1016f6e51e97c': 0.82,\n",
      " '680a960067c1016f6e51e97d': 0.61,\n",
      " '680a960067c1016f6e51e97e': 0.8400000000000001,\n",
      " '680a960067c1016f6e51e97f': 0.6599999999999999,\n",
      " '680a960067c1016f6e51e980': 0.97,\n",
      " '680a960067c1016f6e51e981': 0.5900000000000001,\n",
      " '680a960067c1016f6e51e982': 0.63,\n",
      " '680a960067c1016f6e51e983': 0.85,\n",
      " '680a960067c1016f6e51e984': 0.53,\n",
      " '680a960067c1016f6e51e985': 0.61,\n",
      " '680a960067c1016f6e51e986': 0.9}\n"
     ]
    }
   ],
   "source": [
    "NOTA_MAXIMA_ESCOLA = float(config['params']['nota_max_escola'])\n",
    "nota_historico_dict ={}\n",
    "\n",
    "for turma in lista_de_turmas_do_aluno:\n",
    "  for disciplina in turma['aluno']['notas']['historico_escolar']: #para cada disciplina d\n",
    "    nota_historico_dict[(disciplina['disciplina_id'])] = disciplina['nota']/NOTA_MAXIMA_ESCOLA # teremos um valor G_dp\n",
    "\n",
    "pprint.pprint(nota_historico_dict)\n"
   ]
  },
  {
   "cell_type": "markdown",
   "metadata": {
    "id": "yWs2-Vjj-QDO"
   },
   "source": [
    "### Passo 7: Recuperar valor de notas do ENEM\n",
    "\n",
    "Na nova estrutura para cada disciplina, encontrar a disciplina respectiva do aluno, primeiramente mapearemos as disciplinas e suas notas. Assim como no histórico dividiremos pelo máximo do ENEM.\n",
    "\n",
    "\\begin{equation}\n",
    "\\mathcal{C}_A = \\frac{En_{A}}{N_{cA}}\n",
    "\\end{equation}\n",
    "\n",
    "Com uma média desses valores utilizaremos o perfil para eixos cognitivos\n",
    "\n",
    "\\begin{equation}\n",
    "\\mathcal{C}_C = \\frac{1}{4} \\cdot \\sum^{4}_{A=0}\\mathcal{C}_{A}\n",
    "\\end{equation}"
   ]
  },
  {
   "cell_type": "code",
   "execution_count": 8,
   "metadata": {
    "colab": {
     "base_uri": "https://localhost:8080/"
    },
    "executionInfo": {
     "elapsed": 544,
     "status": "ok",
     "timestamp": 1733403246332,
     "user": {
      "displayName": "Gabriel Arthur Teixeira Perpetuo",
      "userId": "08625436895067644506"
     },
     "user_tz": 180
    },
    "id": "welxmLqj-OmL",
    "outputId": "d0dbc1c3-1790-45b1-c80a-09d15f28c9ef"
   },
   "outputs": [
    {
     "name": "stdout",
     "output_type": "stream",
     "text": [
      "{'EXATAS': 0.561,\n",
      " 'HUMANAS': 0.797,\n",
      " 'LINGUAGENS': 0.56,\n",
      " 'MEDIA': 0.675,\n",
      " 'NATUREZA': 0.78}\n"
     ]
    }
   ],
   "source": [
    "#fazer pequeno filtro para nota do enem\n",
    "list_notas_enem = [turma['aluno']['notas']['enem'] for turma in lista_de_turmas_do_aluno]\n",
    "nota_enem = list_notas_enem[2].copy()\n",
    "\n",
    "N_ca = 1000.0 #dividir todos os valores por 1000\n",
    "\n",
    "Acc= 0.0\n",
    "\n",
    "for key, value in nota_enem.items():\n",
    "  nota_enem[key] = float(\"%.3f\"%(value/N_ca))\n",
    "  Acc += nota_enem[key]\n",
    "nota_enem['MEDIA'] = float(\"%.3f\"%(Acc/4))\n",
    "\n",
    "\n",
    "\n",
    "pprint.pprint(nota_enem)"
   ]
  },
  {
   "cell_type": "markdown",
   "metadata": {
    "id": "XMFzngXl-GAI"
   },
   "source": [
    "### Passo 8: Recuperar valores de aresta normalizado e de notas\n",
    "Incluindo todas as disciplinas dos conseguimos obter o valor normalizado das arestas, também aproveitamos para remodelar a estrutura de cada competência e seu respectivo grafo. Portanto precisamos obter o valor $W(u,v)$ sendo $u$ uma disciplina que se conecta as próximas do próximo ano $v$. O valor da conexão $W(u,v)$ será equivalente ao valor da competência normalizado. Trazendo para o contexto de variáveis exestirá uma aresta que tem o valor da competência, a aresta terá uma origem em uma displina ($u$) mas seu nome se repete então $u$ terá um nome $d$ e um período $p$ assim o valor da competência referente a eles se torna o $C_{dp}$\n",
    "\n",
    "\\begin{equation}\n",
    "    k_{i j} = \\dfrac{\\mathcal{C}_{ij}}{\\sum^{N}_{i=0}\\mathcal{C}_{ij}}\n",
    "\\end{equation}\n",
    "\n",
    "\\begin{equation}\n",
    "    k_{i j} = W(u,v)\n",
    "\\end{equation}\n",
    "\n",
    "\\begin{equation}\n",
    "    C_{dp} = W(u,v)\n",
    "\\end{equation}\n",
    "\n",
    "Também ja podemos obter a nota em relação ao Ensino Médio $S(u)$ ou $G_{dp}$, assim as competencias contem o grafo, cada vertice de origem $u$ e seus destinos $v$ representados por objetos de disciplina"
   ]
  },
  {
   "cell_type": "code",
   "execution_count": 9,
   "metadata": {
    "colab": {
     "base_uri": "https://localhost:8080/"
    },
    "executionInfo": {
     "elapsed": 10758,
     "status": "ok",
     "timestamp": 1733403259970,
     "user": {
      "displayName": "Gabriel Arthur Teixeira Perpetuo",
      "userId": "08625436895067644506"
     },
     "user_tz": 180
    },
    "id": "g5vpmU5i99M6",
    "outputId": "3eaddef5-35b3-438f-f53a-61eee95020b3"
   },
   "outputs": [],
   "source": [
    "\n",
    "competencia_grafos = {}\n",
    "competencia_tag = {}\n",
    "\n",
    "for competencia in competencias_avaliadas:\n",
    "  competencia_grafos[competencia['_id']] = []\n",
    "  competencia_tag[competencia['_id']] = competencia['competencia_tag']\n",
    "  for aresta in competencia['arestas']:\n",
    "    competencia_grafos[competencia['_id']].append({\n",
    "        'u':aresta['origem'],\n",
    "        'v':aresta['destino'],\n",
    "        'C_dp':aresta['valor']/competencia['sumValorCompetencias'],\n",
    "        'G_dp':nota_historico_dict[str(aresta['origem']['_id'])]\n",
    "    })\n",
    "\n",
    "competencia_grafos = dict(sorted(competencia_grafos.items()))\n",
    "\n",
    "#pprint.pprint(competencia_grafos)\n"
   ]
  },
  {
   "cell_type": "markdown",
   "metadata": {
    "id": "VbXpqUnfTJwW"
   },
   "source": [
    "### Passo 9: Contruir Grafo Para Vizualização.\n",
    "\n",
    "Para que o grafo seja melhor vizualizado e analisado, vamos utilizar libs que proporcionam isso. Vamos construir uma função para utilizar essa estrutura, outra para impressão caso desejamos. Vamos construir uma função para utilizar essa estrutura, outra para impressão caso desejamos."
   ]
  },
  {
   "cell_type": "markdown",
   "metadata": {
    "id": "quS3STaWUaJ8"
   },
   "source": [
    "### Passo 10: Construir o perfil de competências do EM \n",
    "\n",
    "O valor referente a saída de um nó se da por:\n",
    "\n",
    "\\begin{equation}\n",
    "    y_{dp}= G_{dp} + \\sum^{T_{p-1}}  Y_{p-1}\n",
    "\\end{equation}\n",
    "\n",
    "Sendo um  $Y_{dp}$ como a saída de um nó multiplicado pelo peso da aresta\n",
    "\n",
    "\\begin{equation}\n",
    "    Y_{dp}=C_{dp} * y_{dp}  \n",
    "\\end{equation}\n",
    "\n",
    "Assumimos que nas condições iniciais $Y_{d1} = G_{d1} * C_{d1}$ e na saída do nó final $Y_{d3} = y_{d3}$, então tentaremos criar um algoritmo para cada grafo que faça um acúmulo dos pesos e propaue o valor para frente.\n",
    "\n"
   ]
  },
  {
   "cell_type": "markdown",
   "metadata": {
    "id": "XnBzyph77qWK"
   },
   "source": [
    "### Passo 11: Testar\n",
    "\n",
    "Precisamos testar agora, escolha qualquer competência, talvez uma diferente do exemplo, execute a vizualização do grafo, faça os cáculos com a função de propagação e veja se os valores procedem"
   ]
  },
  {
   "cell_type": "code",
   "execution_count": null,
   "metadata": {
    "colab": {
     "base_uri": "https://localhost:8080/"
    },
    "executionInfo": {
     "elapsed": 391,
     "status": "ok",
     "timestamp": 1732629932256,
     "user": {
      "displayName": "Gabriel Arthur Teixeira Perpetuo",
      "userId": "08625436895067644506"
     },
     "user_tz": 180
    },
    "id": "N6-53lGsBIH0",
    "outputId": "d13d1b1a-8ba7-4e26-f6c0-547e76a75a79"
   },
   "outputs": [
    {
     "name": "stdout",
     "output_type": "stream",
     "text": [
      "Graph created with 8 nodes and 12 edges.\n"
     ]
    },
    {
     "data": {
      "image/png": "[encoded data removed]",
      "text/plain": [
       "<Figure size 1000x1000 with 1 Axes>"
      ]
     },
     "metadata": {},
     "output_type": "display_data"
    }
   ],
   "source": [
    "from plot_graphs import plot_graph\n",
    "from graph_competencias import GraphCompetences\n",
    "\n",
    "# Selecione a competência desejada\n",
    "test_competence = config['params']['chosen_competence_area_id']\n",
    "# Caso queira testar com outra competência, altere o valor de chosen_competence_area_id.Se for uma compet^ncia dos eixos cognivos descomente a linha abaixo:\n",
    "# test_competence = config['params']['chosen_competence_cog_id']\n",
    "\n",
    "NOTA_MINIMA = float(config['params']['nota_min_escola'])\n",
    "razao_minima = NOTA_MAXIMA_ESCOLA/ NOTA_MINIMA\n",
    "\n",
    "# Criar o grafo e plotar\n",
    "test_G = GraphCompetences(competencia_grafos[test_competence],razao_minima=razao_minima)\n",
    "\n",
    "# Plotar o grafo\n",
    "plot_graph(test_G)\n",
    "# Propagar valores no grafo\n",
    "\n",
    "# Plotar o grafo com os valores propagados\n",
    "# print('Saída',test_graph.output_competencia)"
   ]
  },
  {
   "cell_type": "markdown",
   "metadata": {
    "id": "g9aFN-hjCZiH"
   },
   "source": [
    "### Passo 12: Construir perfil de aluno máximo e aluno mínimo (normalização)\n",
    "\n",
    "Para a normalização, teremos de fazer o perfil de um aluno máximo , com todas as notas máximas e um aluno mínimo, o mínimo requirido para passar. A forma do aluno máximo pode ser concretizada por:\n",
    "\n",
    "\\begin{equation}\n",
    "    y_{fmax}=\\sum_{k=1}^3\\Big(\\prod_{p=k}^ 3\\mathcal{A}_p\\Big)\n",
    "\\end{equation}\n",
    "\n",
    "\\begin{equation}\n",
    "y_{fmax}=(1+\\mathcal{A}_1)\\mathcal{A}_2)\\mathcal{A}_3\n",
    "\\end{equation}\n",
    "\n",
    "\n",
    "\\begin{equation}\n",
    "\\mathcal{A}_p = \\sum_{k=0}^3C_{dp}\n",
    "\\end{equation}\n",
    "\n",
    "Para o valor mínimo, usando o valor de nota míma para passar como 0,6:\n",
    "\n",
    "\\begin{equation}\n",
    "y_{fmin} = 0,6 \\cdot y_{fmax}\n",
    "\\end{equation}\n",
    "\n"
   ]
  },
  {
   "cell_type": "code",
   "execution_count": 11,
   "metadata": {
    "id": "pHoqjRdODn0w"
   },
   "outputs": [
    {
     "name": "stdout",
     "output_type": "stream",
     "text": [
      "Aluno máximo 0.38706926399999997\n",
      "Aluno mínimo 0.64511544\n"
     ]
    }
   ],
   "source": [
    "print(\"Aluno máximo\", test_G.aluno_maximo)\n",
    "print(\"Aluno mínimo\", test_G.aluno_minimo)"
   ]
  },
  {
   "cell_type": "markdown",
   "metadata": {},
   "source": [
    "### Passo 12: Construir os vetores de perfis.\n",
    "\n",
    "Finalmente precisamos do valor normalizado de $y$ sendo $y'$\n",
    "\\begin{equation}\n",
    "y'_{f}=\\frac{y_f-y_{fmin}}{y_{fmax}-y_{fmin}}\n",
    "\\end{equation}\n",
    "\n",
    "cada saída $\\gamma_{j}$ representa a saída de uma competência da matrix assim teremos:"
   ]
  },
  {
   "cell_type": "code",
   "execution_count": 12,
   "metadata": {},
   "outputs": [
    {
     "name": "stdout",
     "output_type": "stream",
     "text": [
      "Graph created with 32 nodes and 219 edges.\n",
      "Competência: COGNITIVOS\n",
      "Valor do aluno: 0.3333382056\n",
      "Valor Máximo do aluno: 0.46813208800000006\n",
      "Valor Mínimo do aluno: 0.23406604400000003\n",
      "Graph created with 32 nodes and 219 edges.\n",
      "Competência: COGNITIVOS\n",
      "Valor do aluno: 0.28685993049999997\n",
      "Valor Máximo do aluno: 0.40407768\n",
      "Valor Mínimo do aluno: 0.20203884\n",
      "Graph created with 32 nodes and 219 edges.\n",
      "Competência: COGNITIVOS\n",
      "Valor do aluno: 0.34070854803999995\n",
      "Valor Máximo do aluno: 0.479813096\n",
      "Valor Mínimo do aluno: 0.239906548\n",
      "Graph created with 32 nodes and 219 edges.\n",
      "Competência: COGNITIVOS\n",
      "Valor do aluno: 0.25152515852\n",
      "Valor Máximo do aluno: 0.368382172\n",
      "Valor Mínimo do aluno: 0.184191086\n",
      "Graph created with 32 nodes and 219 edges.\n",
      "Competência: COGNITIVOS\n",
      "Valor do aluno: 0.31183730660000003\n",
      "Valor Máximo do aluno: 0.41911784199999996\n",
      "Valor Mínimo do aluno: 0.20955892099999998\n",
      "Graph created with 14 nodes and 40 edges.\n",
      "Competência: LINGUAGENS\n",
      "Valor do aluno: 0.30160442203\n",
      "Valor Máximo do aluno: 0.416497638\n",
      "Valor Mínimo do aluno: 0.208248819\n",
      "Graph created with 14 nodes and 40 edges.\n",
      "Competência: LINGUAGENS\n",
      "Valor do aluno: 0.29145481976\n",
      "Valor Máximo do aluno: 0.39676214400000004\n",
      "Valor Mínimo do aluno: 0.19838107200000002\n",
      "Graph created with 14 nodes and 40 edges.\n",
      "Competência: LINGUAGENS\n",
      "Valor do aluno: 0.25525661730000004\n",
      "Valor Máximo do aluno: 0.35078703\n",
      "Valor Mínimo do aluno: 0.175393515\n",
      "Graph created with 14 nodes and 40 edges.\n",
      "Competência: LINGUAGENS\n",
      "Valor do aluno: 0.31781985092\n",
      "Valor Máximo do aluno: 0.44505435599999993\n",
      "Valor Mínimo do aluno: 0.22252717799999996\n",
      "Graph created with 14 nodes and 40 edges.\n",
      "Competência: LINGUAGENS\n",
      "Valor do aluno: 0.31702900416\n",
      "Valor Máximo do aluno: 0.435595216\n",
      "Valor Mínimo do aluno: 0.217797608\n",
      "Graph created with 14 nodes and 40 edges.\n",
      "Competência: LINGUAGENS\n",
      "Valor do aluno: 0.31734794388000004\n",
      "Valor Máximo do aluno: 0.429520856\n",
      "Valor Mínimo do aluno: 0.214760428\n",
      "Graph created with 14 nodes and 40 edges.\n",
      "Competência: LINGUAGENS\n",
      "Valor do aluno: 0.22700137122000003\n",
      "Valor Máximo do aluno: 0.320550824\n",
      "Valor Mínimo do aluno: 0.160275412\n",
      "Graph created with 14 nodes and 40 edges.\n",
      "Competência: LINGUAGENS\n",
      "Valor do aluno: 0.32991406483\n",
      "Valor Máximo do aluno: 0.458188332\n",
      "Valor Mínimo do aluno: 0.229094166\n",
      "Graph created with 14 nodes and 40 edges.\n",
      "Competência: LINGUAGENS\n",
      "Valor do aluno: 0.37426652920000003\n",
      "Valor Máximo do aluno: 0.509541788\n",
      "Valor Mínimo do aluno: 0.254770894\n",
      "Graph created with 4 nodes and 3 edges.\n",
      "Competência: EXATAS\n",
      "Valor do aluno: 0.27255554568\n",
      "Valor Máximo do aluno: 0.34400732399999995\n",
      "Valor Mínimo do aluno: 0.17200366199999997\n",
      "Graph created with 4 nodes and 3 edges.\n",
      "Competência: EXATAS\n",
      "Valor do aluno: 0.38630498784000006\n",
      "Valor Máximo do aluno: 0.494776912\n",
      "Valor Mínimo do aluno: 0.247388456\n",
      "Graph created with 4 nodes and 3 edges.\n",
      "Competência: EXATAS\n",
      "Valor do aluno: 0.29797902336000004\n",
      "Valor Máximo do aluno: 0.379829248\n",
      "Valor Mínimo do aluno: 0.189914624\n",
      "Graph created with 4 nodes and 3 edges.\n",
      "Competência: EXATAS\n",
      "Valor do aluno: 0.47568934212\n",
      "Valor Máximo do aluno: 0.600956966\n",
      "Valor Mínimo do aluno: 0.300478483\n",
      "Graph created with 4 nodes and 3 edges.\n",
      "Competência: EXATAS\n",
      "Valor do aluno: 0.34851043188\n",
      "Valor Máximo do aluno: 0.438310734\n",
      "Valor Mínimo do aluno: 0.219155367\n",
      "Graph created with 4 nodes and 3 edges.\n",
      "Competência: EXATAS\n",
      "Valor do aluno: 0.46839759999999997\n",
      "Valor Máximo do aluno: 0.59568\n",
      "Valor Mínimo do aluno: 0.29784\n",
      "Graph created with 4 nodes and 3 edges.\n",
      "Competência: EXATAS\n",
      "Valor do aluno: 0.32746927824\n",
      "Valor Máximo do aluno: 0.408442632\n",
      "Valor Mínimo do aluno: 0.204221316\n",
      "Graph created with 9 nodes and 17 edges.\n",
      "Competência: NATUREZA\n",
      "Valor do aluno: 0.35049957344\n",
      "Valor Máximo do aluno: 0.45200219199999997\n",
      "Valor Mínimo do aluno: 0.22600109599999998\n",
      "Graph created with 9 nodes and 17 edges.\n",
      "Competência: NATUREZA\n",
      "Valor do aluno: 0.24916406480000003\n",
      "Valor Máximo do aluno: 0.35337091000000004\n",
      "Valor Mínimo do aluno: 0.17668545500000002\n",
      "Graph created with 9 nodes and 17 edges.\n",
      "Competência: NATUREZA\n",
      "Valor do aluno: 0.30169286819999996\n",
      "Valor Máximo do aluno: 0.41392442400000007\n",
      "Valor Mínimo do aluno: 0.20696221200000003\n",
      "Graph created with 9 nodes and 17 edges.\n",
      "Competência: NATUREZA\n",
      "Valor do aluno: 0.29708647191000004\n",
      "Valor Máximo do aluno: 0.40646043400000004\n",
      "Valor Mínimo do aluno: 0.20323021700000002\n",
      "Graph created with 9 nodes and 17 edges.\n",
      "Competência: NATUREZA\n",
      "Valor do aluno: 0.3123277914\n",
      "Valor Máximo do aluno: 0.414315594\n",
      "Valor Mínimo do aluno: 0.207157797\n",
      "Graph created with 9 nodes and 17 edges.\n",
      "Competência: NATUREZA\n",
      "Valor do aluno: 0.286852635\n",
      "Valor Máximo do aluno: 0.40041\n",
      "Valor Mínimo do aluno: 0.200205\n",
      "Graph created with 9 nodes and 17 edges.\n",
      "Competência: NATUREZA\n",
      "Valor do aluno: 0.28879216071999997\n",
      "Valor Máximo do aluno: 0.38124548799999997\n",
      "Valor Mínimo do aluno: 0.19062274399999998\n",
      "Graph created with 9 nodes and 17 edges.\n",
      "Competência: NATUREZA\n",
      "Valor do aluno: 0.38667507360000003\n",
      "Valor Máximo do aluno: 0.53017872\n",
      "Valor Mínimo do aluno: 0.26508936\n",
      "Graph created with 8 nodes and 12 edges.\n",
      "Competência: HUMANAS\n",
      "Valor do aluno: 0.2352996765\n",
      "Valor Máximo do aluno: 0.36621423000000003\n",
      "Valor Mínimo do aluno: 0.18310711500000001\n",
      "Graph created with 8 nodes and 12 edges.\n",
      "Competência: HUMANAS\n",
      "Valor do aluno: 0.25417681157\n",
      "Valor Máximo do aluno: 0.38706926399999997\n",
      "Valor Mínimo do aluno: 0.19353463199999998\n",
      "Graph created with 8 nodes and 12 edges.\n",
      "Competência: HUMANAS\n",
      "Valor do aluno: 0.32517516223\n",
      "Valor Máximo do aluno: 0.499779871\n",
      "Valor Mínimo do aluno: 0.2498899355\n",
      "Graph created with 8 nodes and 12 edges.\n",
      "Competência: HUMANAS\n",
      "Valor do aluno: 0.267987589\n",
      "Valor Máximo do aluno: 0.416489694\n",
      "Valor Mínimo do aluno: 0.208244847\n",
      "Graph created with 8 nodes and 12 edges.\n",
      "Competência: HUMANAS\n",
      "Valor do aluno: 0.23134062888\n",
      "Valor Máximo do aluno: 0.356954118\n",
      "Valor Mínimo do aluno: 0.178477059\n",
      "Graph created with 8 nodes and 12 edges.\n",
      "Competência: HUMANAS\n",
      "Valor do aluno: 0.24447999920000002\n",
      "Valor Máximo do aluno: 0.374498324\n",
      "Valor Mínimo do aluno: 0.187249162\n",
      "Perfil EM: {'680a960067c1016f6e51e944': 0.4241203034131681, '680a960067c1016f6e51e945': 0.41982566569873386, '680a960067c1016f6e51e946': 0.4201719414511352, '680a960067c1016f6e51e947': 0.36556640162271486, '680a960067c1016f6e51e948': 0.488065051642445, '680a960067c1016f6e51e949': 0.4482887513037948, '680a960067c1016f6e51e94a': 0.469166472494916, '680a960067c1016f6e51e94b': 0.4553366884744858, '680a960067c1016f6e51e94c': 0.42822936854931054, '680a960067c1016f6e51e94d': 0.45561288331504546, '680a960067c1016f6e51e94e': 0.47768351383617114, '680a960067c1016f6e51e94f': 0.4163206220302838, '680a960067c1016f6e51e950': 0.44008060349297606, '680a960067c1016f6e51e951': 0.46903173798181197, '680a960067c1016f6e51e952': 0.5845915285222244, '680a960067c1016f6e51e953': 0.5615319893503844, '680a960067c1016f6e51e954': 0.5690156823310248, '680a960067c1016f6e51e955': 0.5831061757590144, '680a960067c1016f6e51e956': 0.5902436552238305, '680a960067c1016f6e51e957': 0.5726484018264839, '680a960067c1016f6e51e958': 0.6035019490325876, '680a960067c1016f6e51e959': 0.550875547258408, '680a960067c1016f6e51e95a': 0.41021265615780317, '680a960067c1016f6e51e95b': 0.45771957733037716, '680a960067c1016f6e51e95c': 0.46182234263913624, '680a960067c1016f6e51e95d': 0.5076805986694287, '680a960067c1016f6e51e95e': 0.4327945605754104, '680a960067c1016f6e51e95f': 0.5149931989227896, '680a960067c1016f6e51e960': 0.4586593501904416, '680a960067c1016f6e51e961': 0.2850384131714378, '680a960067c1016f6e51e962': 0.31334019623939974, '680a960067c1016f6e51e963': 0.3012735450083783, '680a960067c1016f6e51e964': 0.28688701238307235, '680a960067c1016f6e51e965': 0.2961925200706048, '680a960067c1016f6e51e966': 0.30564001776413835}\n"
     ]
    }
   ],
   "source": [
    "perfil_enem = {}\n",
    "perfil_em = {}\n",
    "\n",
    "for key,value in competencia_grafos.items():\n",
    "    tag = competencia_tag[key]\n",
    "    perfil_enem[key] = nota_enem['MEDIA'] if tag == 'COGNITIVOS' else nota_enem[tag]\n",
    "    grafo_competencia = GraphCompetences(value)\n",
    "    \n",
    "    competencia_do_aluno = grafo_competencia.output_competencia\n",
    "    print(\"Competência:\", tag,)\n",
    "    print(\"Valor do aluno:\", competencia_do_aluno)\n",
    "\n",
    "    competencia_aluno_maximo = grafo_competencia.aluno_maximo\n",
    "    competencia_aluno_minimo = grafo_competencia.aluno_minimo\n",
    "    print(\"Valor Máximo do aluno:\", competencia_aluno_maximo)\n",
    "    print(\"Valor Mínimo do aluno:\", competencia_aluno_minimo)\n",
    "\n",
    "    perfil_em[key] = (competencia_do_aluno - competencia_aluno_minimo ) / (competencia_aluno_maximo - competencia_aluno_minimo)\n",
    "\n",
    "    if (perfil_em[key] < 0):\n",
    "        print(\"Perfil EM negativo!!\")\n",
    "\n",
    "# print(\"Perfil ENEM:\", perfil_enem)\n",
    "print(\"Perfil EM:\", perfil_em)\n"
   ]
  },
  {
   "cell_type": "markdown",
   "metadata": {
    "id": "bhjlBh7EHSHT"
   },
   "source": [
    "## Exibir indicador de similaridade (plot de gráficos)\n"
   ]
  },
  {
   "cell_type": "markdown",
   "metadata": {},
   "source": [
    "### Gráfico geral\n",
    "Baseado nos estudos anteriores a comparação dos perfis seria de tal forma. Apresentaremos o grafico mediante a cada competência, como o perfil do ensino médio apenas utilizamos a nota, usamos uma constante, que deverá ser comparado as competências, elas terima que no caso se adequar aquela contante da nota"
   ]
  },
  {
   "cell_type": "code",
   "execution_count": null,
   "metadata": {
    "colab": {
     "base_uri": "https://localhost:8080/",
     "height": 1000
    },
    "executionInfo": {
     "elapsed": 3541,
     "status": "ok",
     "timestamp": 1732629943047,
     "user": {
      "displayName": "Gabriel Arthur Teixeira Perpetuo",
      "userId": "08625436895067644506"
     },
     "user_tz": 180
    },
    "id": "UjdSIO_cyp9L",
    "outputId": "a8e27eeb-b379-488a-9cd3-77e70f1b4527"
   },
   "outputs": [
    {
     "name": "stdout",
     "output_type": "stream",
     "text": [
      "{'680a960067c1016f6e51e944': {'area': 'COGNITIVOS', 'codigo': 'COG.D.L'}, '680a960067c1016f6e51e945': {'area': 'COGNITIVOS', 'codigo': 'COG.C.F'}, '680a960067c1016f6e51e946': {'area': 'COGNITIVOS', 'codigo': 'COG.S.P'}, '680a960067c1016f6e51e947': {'area': 'COGNITIVOS', 'codigo': 'COG.C.A'}, '680a960067c1016f6e51e948': {'area': 'COGNITIVOS', 'codigo': 'COG.E.P'}, '680a960067c1016f6e51e949': {'area': 'LINGUAGENS', 'codigo': 'LIN.H1.H4'}, '680a960067c1016f6e51e94a': {'area': 'LINGUAGENS', 'codigo': 'LIN.H5.H8'}, '680a960067c1016f6e51e94b': {'area': 'LINGUAGENS', 'codigo': 'LIN.H9.H11'}, '680a960067c1016f6e51e94c': {'area': 'LINGUAGENS', 'codigo': 'LIN.H12.H14'}, '680a960067c1016f6e51e94d': {'area': 'LINGUAGENS', 'codigo': 'LIN.H15.H17'}, '680a960067c1016f6e51e94e': {'area': 'LINGUAGENS', 'codigo': 'LIN.H18.H20'}, '680a960067c1016f6e51e94f': {'area': 'LINGUAGENS', 'codigo': 'LIN.H21.H24'}, '680a960067c1016f6e51e950': {'area': 'LINGUAGENS', 'codigo': 'LIN.H25.H27'}, '680a960067c1016f6e51e951': {'area': 'LINGUAGENS', 'codigo': 'LIN.H28.H30'}, '680a960067c1016f6e51e952': {'area': 'EXATAS', 'codigo': 'EXA.H1.H5'}, '680a960067c1016f6e51e953': {'area': 'EXATAS', 'codigo': 'EXA.H6.H9'}, '680a960067c1016f6e51e954': {'area': 'EXATAS', 'codigo': 'EXA.H10.H14'}, '680a960067c1016f6e51e955': {'area': 'EXATAS', 'codigo': 'EXA.H15.H18'}, '680a960067c1016f6e51e956': {'area': 'EXATAS', 'codigo': 'EXA.H19.H23'}, '680a960067c1016f6e51e957': {'area': 'EXATAS', 'codigo': 'EXA.H24.H26'}, '680a960067c1016f6e51e958': {'area': 'EXATAS', 'codigo': 'EXA.H27.H30'}, '680a960067c1016f6e51e959': {'area': 'NATUREZA', 'codigo': 'NAT.H1.H4'}, '680a960067c1016f6e51e95a': {'area': 'NATUREZA', 'codigo': 'NAT.H5.H7'}, '680a960067c1016f6e51e95b': {'area': 'NATUREZA', 'codigo': 'NAT.H8.H12'}, '680a960067c1016f6e51e95c': {'area': 'NATUREZA', 'codigo': 'NAT.H13.H16'}, '680a960067c1016f6e51e95d': {'area': 'NATUREZA', 'codigo': 'NAT.H17.H19'}, '680a960067c1016f6e51e95e': {'area': 'NATUREZA', 'codigo': 'NAT.H20.H23'}, '680a960067c1016f6e51e95f': {'area': 'NATUREZA', 'codigo': 'NAT.H24.H27'}, '680a960067c1016f6e51e960': {'area': 'NATUREZA', 'codigo': 'NAT.H28.H30'}, '680a960067c1016f6e51e961': {'area': 'HUMANAS', 'codigo': 'HUM.H1.H5'}, '680a960067c1016f6e51e962': {'area': 'HUMANAS', 'codigo': 'HUM.H6.H10'}, '680a960067c1016f6e51e963': {'area': 'HUMANAS', 'codigo': 'HUM.H11.H15'}, '680a960067c1016f6e51e964': {'area': 'HUMANAS', 'codigo': 'HUM.H16.H20'}, '680a960067c1016f6e51e965': {'area': 'HUMANAS', 'codigo': 'HUM.H21.H25'}, '680a960067c1016f6e51e966': {'area': 'HUMANAS', 'codigo': 'HUM.H26.H30'}}\n",
      "Perfil de Gustavo na escola \" Escola Teste \"\n"
     ]
    },
    {
     "data": {
      "application/vnd.plotly.v1+json": {
       "config": {
        "plotlyServerURL": "https://plot.ly"
       },
       "data": [
        {
         "marker": {
          "color": [
           "#e31c19",
           "#e31c19",
           "#e31c19",
           "#e31c19",
           "#e31c19",
           "#d919e3",
           "#d919e3",
           "#d919e3",
           "#d919e3",
           "#d919e3",
           "#d919e3",
           "#d919e3",
           "#d919e3",
           "#d919e3",
           "#394fe3",
           "#394fe3",
           "#394fe3",
           "#394fe3",
           "#394fe3",
           "#394fe3",
           "#394fe3",
           "#39e347",
           "#39e347",
           "#39e347",
           "#39e347",
           "#39e347",
           "#39e347",
           "#39e347",
           "#39e347",
           "#e3dd39",
           "#e3dd39",
           "#e3dd39",
           "#e3dd39",
           "#e3dd39",
           "#e3dd39"
          ]
         },
         "name": "Competências",
         "text": [
          "0.4241203034131681",
          "0.41982566569873386",
          "0.4201719414511352",
          "0.36556640162271486",
          "0.488065051642445",
          "0.4482887513037948",
          "0.469166472494916",
          "0.4553366884744858",
          "0.42822936854931054",
          "0.45561288331504546",
          "0.47768351383617114",
          "0.4163206220302838",
          "0.44008060349297606",
          "0.46903173798181197",
          "0.5845915285222244",
          "0.5615319893503844",
          "0.5690156823310248",
          "0.5831061757590144",
          "0.5902436552238305",
          "0.5726484018264839",
          "0.6035019490325876",
          "0.550875547258408",
          "0.41021265615780317",
          "0.45771957733037716",
          "0.46182234263913624",
          "0.5076805986694287",
          "0.4327945605754104",
          "0.5149931989227896",
          "0.4586593501904416",
          "0.2850384131714378",
          "0.31334019623939974",
          "0.3012735450083783",
          "0.28688701238307235",
          "0.2961925200706048",
          "0.30564001776413835"
         ],
         "textposition": "auto",
         "type": "bar",
         "x": [
          "COG.D.L",
          "COG.C.F",
          "COG.S.P",
          "COG.C.A",
          "COG.E.P",
          "LIN.H1.H4",
          "LIN.H5.H8",
          "LIN.H9.H11",
          "LIN.H12.H14",
          "LIN.H15.H17",
          "LIN.H18.H20",
          "LIN.H21.H24",
          "LIN.H25.H27",
          "LIN.H28.H30",
          "EXA.H1.H5",
          "EXA.H6.H9",
          "EXA.H10.H14",
          "EXA.H15.H18",
          "EXA.H19.H23",
          "EXA.H24.H26",
          "EXA.H27.H30",
          "NAT.H1.H4",
          "NAT.H5.H7",
          "NAT.H8.H12",
          "NAT.H13.H16",
          "NAT.H17.H19",
          "NAT.H20.H23",
          "NAT.H24.H27",
          "NAT.H28.H30",
          "HUM.H1.H5",
          "HUM.H6.H10",
          "HUM.H11.H15",
          "HUM.H16.H20",
          "HUM.H21.H25",
          "HUM.H26.H30"
         ],
         "y": [
          0.4241203034131681,
          0.41982566569873386,
          0.4201719414511352,
          0.36556640162271486,
          0.488065051642445,
          0.4482887513037948,
          0.469166472494916,
          0.4553366884744858,
          0.42822936854931054,
          0.45561288331504546,
          0.47768351383617114,
          0.4163206220302838,
          0.44008060349297606,
          0.46903173798181197,
          0.5845915285222244,
          0.5615319893503844,
          0.5690156823310248,
          0.5831061757590144,
          0.5902436552238305,
          0.5726484018264839,
          0.6035019490325876,
          0.550875547258408,
          0.41021265615780317,
          0.45771957733037716,
          0.46182234263913624,
          0.5076805986694287,
          0.4327945605754104,
          0.5149931989227896,
          0.4586593501904416,
          0.2850384131714378,
          0.31334019623939974,
          0.3012735450083783,
          0.28688701238307235,
          0.2961925200706048,
          0.30564001776413835
         ]
        }
       ],
       "layout": {
        "annotations": [
         {
          "showarrow": false,
          "text": "Vestibular - LINGUAGENS",
          "x": 1,
          "xanchor": "right",
          "xref": "x domain",
          "y": 0.56,
          "yanchor": "bottom",
          "yref": "y"
         },
         {
          "showarrow": false,
          "text": "Vestibular - EXATAS",
          "x": 1,
          "xanchor": "right",
          "xref": "x domain",
          "y": 0.561,
          "yanchor": "bottom",
          "yref": "y"
         },
         {
          "showarrow": false,
          "text": "Vestibular - HUMANAS",
          "x": 1,
          "xanchor": "right",
          "xref": "x domain",
          "y": 0.797,
          "yanchor": "bottom",
          "yref": "y"
         },
         {
          "showarrow": false,
          "text": "Vestibular - NATUREZA",
          "x": 1,
          "xanchor": "right",
          "xref": "x domain",
          "y": 0.78,
          "yanchor": "bottom",
          "yref": "y"
         },
         {
          "showarrow": false,
          "text": "Vestibular - MEDIA",
          "x": 1,
          "xanchor": "right",
          "xref": "x domain",
          "y": 0.675,
          "yanchor": "bottom",
          "yref": "y"
         }
        ],
        "shapes": [
         {
          "line": {
           "color": "#d919e3",
           "dash": "dash"
          },
          "opacity": 0.5,
          "type": "line",
          "x0": 0,
          "x1": 1,
          "xref": "x domain",
          "y0": 0.56,
          "y1": 0.56,
          "yref": "y"
         },
         {
          "line": {
           "color": "#394fe3",
           "dash": "dash"
          },
          "opacity": 0.5,
          "type": "line",
          "x0": 0,
          "x1": 1,
          "xref": "x domain",
          "y0": 0.561,
          "y1": 0.561,
          "yref": "y"
         },
         {
          "line": {
           "color": "#e3dd39",
           "dash": "dash"
          },
          "opacity": 0.5,
          "type": "line",
          "x0": 0,
          "x1": 1,
          "xref": "x domain",
          "y0": 0.797,
          "y1": 0.797,
          "yref": "y"
         },
         {
          "line": {
           "color": "#39e347",
           "dash": "dash"
          },
          "opacity": 0.5,
          "type": "line",
          "x0": 0,
          "x1": 1,
          "xref": "x domain",
          "y0": 0.78,
          "y1": 0.78,
          "yref": "y"
         },
         {
          "line": {
           "color": "#6007b3",
           "dash": "dot"
          },
          "opacity": 0.5,
          "type": "line",
          "x0": 0,
          "x1": 1,
          "xref": "x domain",
          "y0": 0.675,
          "y1": 0.675,
          "yref": "y"
         }
        ],
        "template": {
         "data": {
          "bar": [
           {
            "error_x": {
             "color": "#2a3f5f"
            },
            "error_y": {
             "color": "#2a3f5f"
            },
            "marker": {
             "line": {
              "color": "#E5ECF6",
              "width": 0.5
             },
             "pattern": {
              "fillmode": "overlay",
              "size": 10,
              "solidity": 0.2
             }
            },
            "type": "bar"
           }
          ],
          "barpolar": [
           {
            "marker": {
             "line": {
              "color": "#E5ECF6",
              "width": 0.5
             },
             "pattern": {
              "fillmode": "overlay",
              "size": 10,
              "solidity": 0.2
             }
            },
            "type": "barpolar"
           }
          ],
          "carpet": [
           {
            "aaxis": {
             "endlinecolor": "#2a3f5f",
             "gridcolor": "white",
             "linecolor": "white",
             "minorgridcolor": "white",
             "startlinecolor": "#2a3f5f"
            },
            "baxis": {
             "endlinecolor": "#2a3f5f",
             "gridcolor": "white",
             "linecolor": "white",
             "minorgridcolor": "white",
             "startlinecolor": "#2a3f5f"
            },
            "type": "carpet"
           }
          ],
          "choropleth": [
           {
            "colorbar": {
             "outlinewidth": 0,
             "ticks": ""
            },
            "type": "choropleth"
           }
          ],
          "contour": [
           {
            "colorbar": {
             "outlinewidth": 0,
             "ticks": ""
            },
            "colorscale": [
             [
              0,
              "#0d0887"
             ],
             [
              0.1111111111111111,
              "#46039f"
             ],
             [
              0.2222222222222222,
              "#7201a8"
             ],
             [
              0.3333333333333333,
              "#9c179e"
             ],
             [
              0.4444444444444444,
              "#bd3786"
             ],
             [
              0.5555555555555556,
              "#d8576b"
             ],
             [
              0.6666666666666666,
              "#ed7953"
             ],
             [
              0.7777777777777778,
              "#fb9f3a"
             ],
             [
              0.8888888888888888,
              "#fdca26"
             ],
             [
              1,
              "#f0f921"
             ]
            ],
            "type": "contour"
           }
          ],
          "contourcarpet": [
           {
            "colorbar": {
             "outlinewidth": 0,
             "ticks": ""
            },
            "type": "contourcarpet"
           }
          ],
          "heatmap": [
           {
            "colorbar": {
             "outlinewidth": 0,
             "ticks": ""
            },
            "colorscale": [
             [
              0,
              "#0d0887"
             ],
             [
              0.1111111111111111,
              "#46039f"
             ],
             [
              0.2222222222222222,
              "#7201a8"
             ],
             [
              0.3333333333333333,
              "#9c179e"
             ],
             [
              0.4444444444444444,
              "#bd3786"
             ],
             [
              0.5555555555555556,
              "#d8576b"
             ],
             [
              0.6666666666666666,
              "#ed7953"
             ],
             [
              0.7777777777777778,
              "#fb9f3a"
             ],
             [
              0.8888888888888888,
              "#fdca26"
             ],
             [
              1,
              "#f0f921"
             ]
            ],
            "type": "heatmap"
           }
          ],
          "histogram": [
           {
            "marker": {
             "pattern": {
              "fillmode": "overlay",
              "size": 10,
              "solidity": 0.2
             }
            },
            "type": "histogram"
           }
          ],
          "histogram2d": [
           {
            "colorbar": {
             "outlinewidth": 0,
             "ticks": ""
            },
            "colorscale": [
             [
              0,
              "#0d0887"
             ],
             [
              0.1111111111111111,
              "#46039f"
             ],
             [
              0.2222222222222222,
              "#7201a8"
             ],
             [
              0.3333333333333333,
              "#9c179e"
             ],
             [
              0.4444444444444444,
              "#bd3786"
             ],
             [
              0.5555555555555556,
              "#d8576b"
             ],
             [
              0.6666666666666666,
              "#ed7953"
             ],
             [
              0.7777777777777778,
              "#fb9f3a"
             ],
             [
              0.8888888888888888,
              "#fdca26"
             ],
             [
              1,
              "#f0f921"
             ]
            ],
            "type": "histogram2d"
           }
          ],
          "histogram2dcontour": [
           {
            "colorbar": {
             "outlinewidth": 0,
             "ticks": ""
            },
            "colorscale": [
             [
              0,
              "#0d0887"
             ],
             [
              0.1111111111111111,
              "#46039f"
             ],
             [
              0.2222222222222222,
              "#7201a8"
             ],
             [
              0.3333333333333333,
              "#9c179e"
             ],
             [
              0.4444444444444444,
              "#bd3786"
             ],
             [
              0.5555555555555556,
              "#d8576b"
             ],
             [
              0.6666666666666666,
              "#ed7953"
             ],
             [
              0.7777777777777778,
              "#fb9f3a"
             ],
             [
              0.8888888888888888,
              "#fdca26"
             ],
             [
              1,
              "#f0f921"
             ]
            ],
            "type": "histogram2dcontour"
           }
          ],
          "mesh3d": [
           {
            "colorbar": {
             "outlinewidth": 0,
             "ticks": ""
            },
            "type": "mesh3d"
           }
          ],
          "parcoords": [
           {
            "line": {
             "colorbar": {
              "outlinewidth": 0,
              "ticks": ""
             }
            },
            "type": "parcoords"
           }
          ],
          "pie": [
           {
            "automargin": true,
            "type": "pie"
           }
          ],
          "scatter": [
           {
            "fillpattern": {
             "fillmode": "overlay",
             "size": 10,
             "solidity": 0.2
            },
            "type": "scatter"
           }
          ],
          "scatter3d": [
           {
            "line": {
             "colorbar": {
              "outlinewidth": 0,
              "ticks": ""
             }
            },
            "marker": {
             "colorbar": {
              "outlinewidth": 0,
              "ticks": ""
             }
            },
            "type": "scatter3d"
           }
          ],
          "scattercarpet": [
           {
            "marker": {
             "colorbar": {
              "outlinewidth": 0,
              "ticks": ""
             }
            },
            "type": "scattercarpet"
           }
          ],
          "scattergeo": [
           {
            "marker": {
             "colorbar": {
              "outlinewidth": 0,
              "ticks": ""
             }
            },
            "type": "scattergeo"
           }
          ],
          "scattergl": [
           {
            "marker": {
             "colorbar": {
              "outlinewidth": 0,
              "ticks": ""
             }
            },
            "type": "scattergl"
           }
          ],
          "scattermap": [
           {
            "marker": {
             "colorbar": {
              "outlinewidth": 0,
              "ticks": ""
             }
            },
            "type": "scattermap"
           }
          ],
          "scattermapbox": [
           {
            "marker": {
             "colorbar": {
              "outlinewidth": 0,
              "ticks": ""
             }
            },
            "type": "scattermapbox"
           }
          ],
          "scatterpolar": [
           {
            "marker": {
             "colorbar": {
              "outlinewidth": 0,
              "ticks": ""
             }
            },
            "type": "scatterpolar"
           }
          ],
          "scatterpolargl": [
           {
            "marker": {
             "colorbar": {
              "outlinewidth": 0,
              "ticks": ""
             }
            },
            "type": "scatterpolargl"
           }
          ],
          "scatterternary": [
           {
            "marker": {
             "colorbar": {
              "outlinewidth": 0,
              "ticks": ""
             }
            },
            "type": "scatterternary"
           }
          ],
          "surface": [
           {
            "colorbar": {
             "outlinewidth": 0,
             "ticks": ""
            },
            "colorscale": [
             [
              0,
              "#0d0887"
             ],
             [
              0.1111111111111111,
              "#46039f"
             ],
             [
              0.2222222222222222,
              "#7201a8"
             ],
             [
              0.3333333333333333,
              "#9c179e"
             ],
             [
              0.4444444444444444,
              "#bd3786"
             ],
             [
              0.5555555555555556,
              "#d8576b"
             ],
             [
              0.6666666666666666,
              "#ed7953"
             ],
             [
              0.7777777777777778,
              "#fb9f3a"
             ],
             [
              0.8888888888888888,
              "#fdca26"
             ],
             [
              1,
              "#f0f921"
             ]
            ],
            "type": "surface"
           }
          ],
          "table": [
           {
            "cells": {
             "fill": {
              "color": "#EBF0F8"
             },
             "line": {
              "color": "white"
             }
            },
            "header": {
             "fill": {
              "color": "#C8D4E3"
             },
             "line": {
              "color": "white"
             }
            },
            "type": "table"
           }
          ]
         },
         "layout": {
          "annotationdefaults": {
           "arrowcolor": "#2a3f5f",
           "arrowhead": 0,
           "arrowwidth": 1
          },
          "autotypenumbers": "strict",
          "coloraxis": {
           "colorbar": {
            "outlinewidth": 0,
            "ticks": ""
           }
          },
          "colorscale": {
           "diverging": [
            [
             0,
             "#8e0152"
            ],
            [
             0.1,
             "#c51b7d"
            ],
            [
             0.2,
             "#de77ae"
            ],
            [
             0.3,
             "#f1b6da"
            ],
            [
             0.4,
             "#fde0ef"
            ],
            [
             0.5,
             "#f7f7f7"
            ],
            [
             0.6,
             "#e6f5d0"
            ],
            [
             0.7,
             "#b8e186"
            ],
            [
             0.8,
             "#7fbc41"
            ],
            [
             0.9,
             "#4d9221"
            ],
            [
             1,
             "#276419"
            ]
           ],
           "sequential": [
            [
             0,
             "#0d0887"
            ],
            [
             0.1111111111111111,
             "#46039f"
            ],
            [
             0.2222222222222222,
             "#7201a8"
            ],
            [
             0.3333333333333333,
             "#9c179e"
            ],
            [
             0.4444444444444444,
             "#bd3786"
            ],
            [
             0.5555555555555556,
             "#d8576b"
            ],
            [
             0.6666666666666666,
             "#ed7953"
            ],
            [
             0.7777777777777778,
             "#fb9f3a"
            ],
            [
             0.8888888888888888,
             "#fdca26"
            ],
            [
             1,
             "#f0f921"
            ]
           ],
           "sequentialminus": [
            [
             0,
             "#0d0887"
            ],
            [
             0.1111111111111111,
             "#46039f"
            ],
            [
             0.2222222222222222,
             "#7201a8"
            ],
            [
             0.3333333333333333,
             "#9c179e"
            ],
            [
             0.4444444444444444,
             "#bd3786"
            ],
            [
             0.5555555555555556,
             "#d8576b"
            ],
            [
             0.6666666666666666,
             "#ed7953"
            ],
            [
             0.7777777777777778,
             "#fb9f3a"
            ],
            [
             0.8888888888888888,
             "#fdca26"
            ],
            [
             1,
             "#f0f921"
            ]
           ]
          },
          "colorway": [
           "#636efa",
           "#EF553B",
           "#00cc96",
           "#ab63fa",
           "#FFA15A",
           "#19d3f3",
           "#FF6692",
           "#B6E880",
           "#FF97FF",
           "#FECB52"
          ],
          "font": {
           "color": "#2a3f5f"
          },
          "geo": {
           "bgcolor": "white",
           "lakecolor": "white",
           "landcolor": "#E5ECF6",
           "showlakes": true,
           "showland": true,
           "subunitcolor": "white"
          },
          "hoverlabel": {
           "align": "left"
          },
          "hovermode": "closest",
          "mapbox": {
           "style": "light"
          },
          "paper_bgcolor": "white",
          "plot_bgcolor": "#E5ECF6",
          "polar": {
           "angularaxis": {
            "gridcolor": "white",
            "linecolor": "white",
            "ticks": ""
           },
           "bgcolor": "#E5ECF6",
           "radialaxis": {
            "gridcolor": "white",
            "linecolor": "white",
            "ticks": ""
           }
          },
          "scene": {
           "xaxis": {
            "backgroundcolor": "#E5ECF6",
            "gridcolor": "white",
            "gridwidth": 2,
            "linecolor": "white",
            "showbackground": true,
            "ticks": "",
            "zerolinecolor": "white"
           },
           "yaxis": {
            "backgroundcolor": "#E5ECF6",
            "gridcolor": "white",
            "gridwidth": 2,
            "linecolor": "white",
            "showbackground": true,
            "ticks": "",
            "zerolinecolor": "white"
           },
           "zaxis": {
            "backgroundcolor": "#E5ECF6",
            "gridcolor": "white",
            "gridwidth": 2,
            "linecolor": "white",
            "showbackground": true,
            "ticks": "",
            "zerolinecolor": "white"
           }
          },
          "shapedefaults": {
           "line": {
            "color": "#2a3f5f"
           }
          },
          "ternary": {
           "aaxis": {
            "gridcolor": "white",
            "linecolor": "white",
            "ticks": ""
           },
           "baxis": {
            "gridcolor": "white",
            "linecolor": "white",
            "ticks": ""
           },
           "bgcolor": "#E5ECF6",
           "caxis": {
            "gridcolor": "white",
            "linecolor": "white",
            "ticks": ""
           }
          },
          "title": {
           "x": 0.05
          },
          "xaxis": {
           "automargin": true,
           "gridcolor": "white",
           "linecolor": "white",
           "ticks": "",
           "title": {
            "standoff": 15
           },
           "zerolinecolor": "white",
           "zerolinewidth": 2
          },
          "yaxis": {
           "automargin": true,
           "gridcolor": "white",
           "linecolor": "white",
           "ticks": "",
           "title": {
            "standoff": 15
           },
           "zerolinecolor": "white",
           "zerolinewidth": 2
          }
         }
        }
       }
      }
     },
     "metadata": {},
     "output_type": "display_data"
    },
    {
     "data": {
      "application/vnd.plotly.v1+json": {
       "config": {
        "plotlyServerURL": "https://plot.ly"
       },
       "data": [
        {
         "fill": "toself",
         "name": "Egresso",
         "r": [
          0.4241203034131681,
          0.41982566569873386,
          0.4201719414511352,
          0.36556640162271486,
          0.488065051642445,
          0.4482887513037948,
          0.469166472494916,
          0.4553366884744858,
          0.42822936854931054,
          0.45561288331504546,
          0.47768351383617114,
          0.4163206220302838,
          0.44008060349297606,
          0.46903173798181197,
          0.5845915285222244,
          0.5615319893503844,
          0.5690156823310248,
          0.5831061757590144,
          0.5902436552238305,
          0.5726484018264839,
          0.6035019490325876,
          0.550875547258408,
          0.41021265615780317,
          0.45771957733037716,
          0.46182234263913624,
          0.5076805986694287,
          0.4327945605754104,
          0.5149931989227896,
          0.4586593501904416,
          0.2850384131714378,
          0.31334019623939974,
          0.3012735450083783,
          0.28688701238307235,
          0.2961925200706048,
          0.30564001776413835
         ],
         "texttemplate": "%{text:.2f}",
         "theta": [
          "COG.D.L",
          "COG.C.F",
          "COG.S.P",
          "COG.C.A",
          "COG.E.P",
          "LIN.H1.H4",
          "LIN.H5.H8",
          "LIN.H9.H11",
          "LIN.H12.H14",
          "LIN.H15.H17",
          "LIN.H18.H20",
          "LIN.H21.H24",
          "LIN.H25.H27",
          "LIN.H28.H30",
          "EXA.H1.H5",
          "EXA.H6.H9",
          "EXA.H10.H14",
          "EXA.H15.H18",
          "EXA.H19.H23",
          "EXA.H24.H26",
          "EXA.H27.H30",
          "NAT.H1.H4",
          "NAT.H5.H7",
          "NAT.H8.H12",
          "NAT.H13.H16",
          "NAT.H17.H19",
          "NAT.H20.H23",
          "NAT.H24.H27",
          "NAT.H28.H30",
          "HUM.H1.H5",
          "HUM.H6.H10",
          "HUM.H11.H15",
          "HUM.H16.H20",
          "HUM.H21.H25",
          "HUM.H26.H30"
         ],
         "type": "scatterpolar"
        },
        {
         "fill": "toself",
         "name": " Vestibulando",
         "r": [
          0.675,
          0.675,
          0.675,
          0.675,
          0.675,
          0.56,
          0.56,
          0.56,
          0.56,
          0.56,
          0.56,
          0.56,
          0.56,
          0.56,
          0.561,
          0.561,
          0.561,
          0.561,
          0.561,
          0.561,
          0.561,
          0.78,
          0.78,
          0.78,
          0.78,
          0.78,
          0.78,
          0.78,
          0.78,
          0.797,
          0.797,
          0.797,
          0.797,
          0.797,
          0.797
         ],
         "texttemplate": "%{text:.2f}",
         "theta": [
          "COG.D.L",
          "COG.C.F",
          "COG.S.P",
          "COG.C.A",
          "COG.E.P",
          "LIN.H1.H4",
          "LIN.H5.H8",
          "LIN.H9.H11",
          "LIN.H12.H14",
          "LIN.H15.H17",
          "LIN.H18.H20",
          "LIN.H21.H24",
          "LIN.H25.H27",
          "LIN.H28.H30",
          "EXA.H1.H5",
          "EXA.H6.H9",
          "EXA.H10.H14",
          "EXA.H15.H18",
          "EXA.H19.H23",
          "EXA.H24.H26",
          "EXA.H27.H30",
          "NAT.H1.H4",
          "NAT.H5.H7",
          "NAT.H8.H12",
          "NAT.H13.H16",
          "NAT.H17.H19",
          "NAT.H20.H23",
          "NAT.H24.H27",
          "NAT.H28.H30",
          "HUM.H1.H5",
          "HUM.H6.H10",
          "HUM.H11.H15",
          "HUM.H16.H20",
          "HUM.H21.H25",
          "HUM.H26.H30"
         ],
         "type": "scatterpolar"
        }
       ],
       "layout": {
        "barmode": "group",
        "template": {
         "data": {
          "bar": [
           {
            "error_x": {
             "color": "#2a3f5f"
            },
            "error_y": {
             "color": "#2a3f5f"
            },
            "marker": {
             "line": {
              "color": "#E5ECF6",
              "width": 0.5
             },
             "pattern": {
              "fillmode": "overlay",
              "size": 10,
              "solidity": 0.2
             }
            },
            "type": "bar"
           }
          ],
          "barpolar": [
           {
            "marker": {
             "line": {
              "color": "#E5ECF6",
              "width": 0.5
             },
             "pattern": {
              "fillmode": "overlay",
              "size": 10,
              "solidity": 0.2
             }
            },
            "type": "barpolar"
           }
          ],
          "carpet": [
           {
            "aaxis": {
             "endlinecolor": "#2a3f5f",
             "gridcolor": "white",
             "linecolor": "white",
             "minorgridcolor": "white",
             "startlinecolor": "#2a3f5f"
            },
            "baxis": {
             "endlinecolor": "#2a3f5f",
             "gridcolor": "white",
             "linecolor": "white",
             "minorgridcolor": "white",
             "startlinecolor": "#2a3f5f"
            },
            "type": "carpet"
           }
          ],
          "choropleth": [
           {
            "colorbar": {
             "outlinewidth": 0,
             "ticks": ""
            },
            "type": "choropleth"
           }
          ],
          "contour": [
           {
            "colorbar": {
             "outlinewidth": 0,
             "ticks": ""
            },
            "colorscale": [
             [
              0,
              "#0d0887"
             ],
             [
              0.1111111111111111,
              "#46039f"
             ],
             [
              0.2222222222222222,
              "#7201a8"
             ],
             [
              0.3333333333333333,
              "#9c179e"
             ],
             [
              0.4444444444444444,
              "#bd3786"
             ],
             [
              0.5555555555555556,
              "#d8576b"
             ],
             [
              0.6666666666666666,
              "#ed7953"
             ],
             [
              0.7777777777777778,
              "#fb9f3a"
             ],
             [
              0.8888888888888888,
              "#fdca26"
             ],
             [
              1,
              "#f0f921"
             ]
            ],
            "type": "contour"
           }
          ],
          "contourcarpet": [
           {
            "colorbar": {
             "outlinewidth": 0,
             "ticks": ""
            },
            "type": "contourcarpet"
           }
          ],
          "heatmap": [
           {
            "colorbar": {
             "outlinewidth": 0,
             "ticks": ""
            },
            "colorscale": [
             [
              0,
              "#0d0887"
             ],
             [
              0.1111111111111111,
              "#46039f"
             ],
             [
              0.2222222222222222,
              "#7201a8"
             ],
             [
              0.3333333333333333,
              "#9c179e"
             ],
             [
              0.4444444444444444,
              "#bd3786"
             ],
             [
              0.5555555555555556,
              "#d8576b"
             ],
             [
              0.6666666666666666,
              "#ed7953"
             ],
             [
              0.7777777777777778,
              "#fb9f3a"
             ],
             [
              0.8888888888888888,
              "#fdca26"
             ],
             [
              1,
              "#f0f921"
             ]
            ],
            "type": "heatmap"
           }
          ],
          "histogram": [
           {
            "marker": {
             "pattern": {
              "fillmode": "overlay",
              "size": 10,
              "solidity": 0.2
             }
            },
            "type": "histogram"
           }
          ],
          "histogram2d": [
           {
            "colorbar": {
             "outlinewidth": 0,
             "ticks": ""
            },
            "colorscale": [
             [
              0,
              "#0d0887"
             ],
             [
              0.1111111111111111,
              "#46039f"
             ],
             [
              0.2222222222222222,
              "#7201a8"
             ],
             [
              0.3333333333333333,
              "#9c179e"
             ],
             [
              0.4444444444444444,
              "#bd3786"
             ],
             [
              0.5555555555555556,
              "#d8576b"
             ],
             [
              0.6666666666666666,
              "#ed7953"
             ],
             [
              0.7777777777777778,
              "#fb9f3a"
             ],
             [
              0.8888888888888888,
              "#fdca26"
             ],
             [
              1,
              "#f0f921"
             ]
            ],
            "type": "histogram2d"
           }
          ],
          "histogram2dcontour": [
           {
            "colorbar": {
             "outlinewidth": 0,
             "ticks": ""
            },
            "colorscale": [
             [
              0,
              "#0d0887"
             ],
             [
              0.1111111111111111,
              "#46039f"
             ],
             [
              0.2222222222222222,
              "#7201a8"
             ],
             [
              0.3333333333333333,
              "#9c179e"
             ],
             [
              0.4444444444444444,
              "#bd3786"
             ],
             [
              0.5555555555555556,
              "#d8576b"
             ],
             [
              0.6666666666666666,
              "#ed7953"
             ],
             [
              0.7777777777777778,
              "#fb9f3a"
             ],
             [
              0.8888888888888888,
              "#fdca26"
             ],
             [
              1,
              "#f0f921"
             ]
            ],
            "type": "histogram2dcontour"
           }
          ],
          "mesh3d": [
           {
            "colorbar": {
             "outlinewidth": 0,
             "ticks": ""
            },
            "type": "mesh3d"
           }
          ],
          "parcoords": [
           {
            "line": {
             "colorbar": {
              "outlinewidth": 0,
              "ticks": ""
             }
            },
            "type": "parcoords"
           }
          ],
          "pie": [
           {
            "automargin": true,
            "type": "pie"
           }
          ],
          "scatter": [
           {
            "fillpattern": {
             "fillmode": "overlay",
             "size": 10,
             "solidity": 0.2
            },
            "type": "scatter"
           }
          ],
          "scatter3d": [
           {
            "line": {
             "colorbar": {
              "outlinewidth": 0,
              "ticks": ""
             }
            },
            "marker": {
             "colorbar": {
              "outlinewidth": 0,
              "ticks": ""
             }
            },
            "type": "scatter3d"
           }
          ],
          "scattercarpet": [
           {
            "marker": {
             "colorbar": {
              "outlinewidth": 0,
              "ticks": ""
             }
            },
            "type": "scattercarpet"
           }
          ],
          "scattergeo": [
           {
            "marker": {
             "colorbar": {
              "outlinewidth": 0,
              "ticks": ""
             }
            },
            "type": "scattergeo"
           }
          ],
          "scattergl": [
           {
            "marker": {
             "colorbar": {
              "outlinewidth": 0,
              "ticks": ""
             }
            },
            "type": "scattergl"
           }
          ],
          "scattermap": [
           {
            "marker": {
             "colorbar": {
              "outlinewidth": 0,
              "ticks": ""
             }
            },
            "type": "scattermap"
           }
          ],
          "scattermapbox": [
           {
            "marker": {
             "colorbar": {
              "outlinewidth": 0,
              "ticks": ""
             }
            },
            "type": "scattermapbox"
           }
          ],
          "scatterpolar": [
           {
            "marker": {
             "colorbar": {
              "outlinewidth": 0,
              "ticks": ""
             }
            },
            "type": "scatterpolar"
           }
          ],
          "scatterpolargl": [
           {
            "marker": {
             "colorbar": {
              "outlinewidth": 0,
              "ticks": ""
             }
            },
            "type": "scatterpolargl"
           }
          ],
          "scatterternary": [
           {
            "marker": {
             "colorbar": {
              "outlinewidth": 0,
              "ticks": ""
             }
            },
            "type": "scatterternary"
           }
          ],
          "surface": [
           {
            "colorbar": {
             "outlinewidth": 0,
             "ticks": ""
            },
            "colorscale": [
             [
              0,
              "#0d0887"
             ],
             [
              0.1111111111111111,
              "#46039f"
             ],
             [
              0.2222222222222222,
              "#7201a8"
             ],
             [
              0.3333333333333333,
              "#9c179e"
             ],
             [
              0.4444444444444444,
              "#bd3786"
             ],
             [
              0.5555555555555556,
              "#d8576b"
             ],
             [
              0.6666666666666666,
              "#ed7953"
             ],
             [
              0.7777777777777778,
              "#fb9f3a"
             ],
             [
              0.8888888888888888,
              "#fdca26"
             ],
             [
              1,
              "#f0f921"
             ]
            ],
            "type": "surface"
           }
          ],
          "table": [
           {
            "cells": {
             "fill": {
              "color": "#EBF0F8"
             },
             "line": {
              "color": "white"
             }
            },
            "header": {
             "fill": {
              "color": "#C8D4E3"
             },
             "line": {
              "color": "white"
             }
            },
            "type": "table"
           }
          ]
         },
         "layout": {
          "annotationdefaults": {
           "arrowcolor": "#2a3f5f",
           "arrowhead": 0,
           "arrowwidth": 1
          },
          "autotypenumbers": "strict",
          "coloraxis": {
           "colorbar": {
            "outlinewidth": 0,
            "ticks": ""
           }
          },
          "colorscale": {
           "diverging": [
            [
             0,
             "#8e0152"
            ],
            [
             0.1,
             "#c51b7d"
            ],
            [
             0.2,
             "#de77ae"
            ],
            [
             0.3,
             "#f1b6da"
            ],
            [
             0.4,
             "#fde0ef"
            ],
            [
             0.5,
             "#f7f7f7"
            ],
            [
             0.6,
             "#e6f5d0"
            ],
            [
             0.7,
             "#b8e186"
            ],
            [
             0.8,
             "#7fbc41"
            ],
            [
             0.9,
             "#4d9221"
            ],
            [
             1,
             "#276419"
            ]
           ],
           "sequential": [
            [
             0,
             "#0d0887"
            ],
            [
             0.1111111111111111,
             "#46039f"
            ],
            [
             0.2222222222222222,
             "#7201a8"
            ],
            [
             0.3333333333333333,
             "#9c179e"
            ],
            [
             0.4444444444444444,
             "#bd3786"
            ],
            [
             0.5555555555555556,
             "#d8576b"
            ],
            [
             0.6666666666666666,
             "#ed7953"
            ],
            [
             0.7777777777777778,
             "#fb9f3a"
            ],
            [
             0.8888888888888888,
             "#fdca26"
            ],
            [
             1,
             "#f0f921"
            ]
           ],
           "sequentialminus": [
            [
             0,
             "#0d0887"
            ],
            [
             0.1111111111111111,
             "#46039f"
            ],
            [
             0.2222222222222222,
             "#7201a8"
            ],
            [
             0.3333333333333333,
             "#9c179e"
            ],
            [
             0.4444444444444444,
             "#bd3786"
            ],
            [
             0.5555555555555556,
             "#d8576b"
            ],
            [
             0.6666666666666666,
             "#ed7953"
            ],
            [
             0.7777777777777778,
             "#fb9f3a"
            ],
            [
             0.8888888888888888,
             "#fdca26"
            ],
            [
             1,
             "#f0f921"
            ]
           ]
          },
          "colorway": [
           "#636efa",
           "#EF553B",
           "#00cc96",
           "#ab63fa",
           "#FFA15A",
           "#19d3f3",
           "#FF6692",
           "#B6E880",
           "#FF97FF",
           "#FECB52"
          ],
          "font": {
           "color": "#2a3f5f"
          },
          "geo": {
           "bgcolor": "white",
           "lakecolor": "white",
           "landcolor": "#E5ECF6",
           "showlakes": true,
           "showland": true,
           "subunitcolor": "white"
          },
          "hoverlabel": {
           "align": "left"
          },
          "hovermode": "closest",
          "mapbox": {
           "style": "light"
          },
          "paper_bgcolor": "white",
          "plot_bgcolor": "#E5ECF6",
          "polar": {
           "angularaxis": {
            "gridcolor": "white",
            "linecolor": "white",
            "ticks": ""
           },
           "bgcolor": "#E5ECF6",
           "radialaxis": {
            "gridcolor": "white",
            "linecolor": "white",
            "ticks": ""
           }
          },
          "scene": {
           "xaxis": {
            "backgroundcolor": "#E5ECF6",
            "gridcolor": "white",
            "gridwidth": 2,
            "linecolor": "white",
            "showbackground": true,
            "ticks": "",
            "zerolinecolor": "white"
           },
           "yaxis": {
            "backgroundcolor": "#E5ECF6",
            "gridcolor": "white",
            "gridwidth": 2,
            "linecolor": "white",
            "showbackground": true,
            "ticks": "",
            "zerolinecolor": "white"
           },
           "zaxis": {
            "backgroundcolor": "#E5ECF6",
            "gridcolor": "white",
            "gridwidth": 2,
            "linecolor": "white",
            "showbackground": true,
            "ticks": "",
            "zerolinecolor": "white"
           }
          },
          "shapedefaults": {
           "line": {
            "color": "#2a3f5f"
           }
          },
          "ternary": {
           "aaxis": {
            "gridcolor": "white",
            "linecolor": "white",
            "ticks": ""
           },
           "baxis": {
            "gridcolor": "white",
            "linecolor": "white",
            "ticks": ""
           },
           "bgcolor": "#E5ECF6",
           "caxis": {
            "gridcolor": "white",
            "linecolor": "white",
            "ticks": ""
           }
          },
          "title": {
           "x": 0.05
          },
          "xaxis": {
           "automargin": true,
           "gridcolor": "white",
           "linecolor": "white",
           "ticks": "",
           "title": {
            "standoff": 15
           },
           "zerolinecolor": "white",
           "zerolinewidth": 2
          },
          "yaxis": {
           "automargin": true,
           "gridcolor": "white",
           "linecolor": "white",
           "ticks": "",
           "title": {
            "standoff": 15
           },
           "zerolinecolor": "white",
           "zerolinewidth": 2
          }
         }
        },
        "uniformtext": {
         "minsize": 1,
         "mode": "show"
        },
        "width": 1000
       }
      }
     },
     "metadata": {},
     "output_type": "display_data"
    }
   ],
   "source": [
    "\n",
    "from plot_graphs import bar_plot, spider_plot\n",
    "\n",
    "competencias_dict = list(competencia_collection.aggregate(get_legendas_colunas_pipeline()))[0]\n",
    "\n",
    "# print(competencias_dict)\n",
    "\n",
    "cores = {\n",
    "    'EXATAS': '#394fe3',\n",
    "    'HUMANAS': '#e3dd39',\n",
    "    'LINGUAGENS': '#d919e3',\n",
    "    'MEDIA': '#6007b3',\n",
    "    'COGNITIVOS': '#e31c19',\n",
    "    'NATUREZA': '#39e347'\n",
    "}\n",
    "\n",
    "columns = [ competencias_dict[key]['codigo'] for key in perfil_em.keys() ]\n",
    "\n",
    "columns_colors = [ cores[competencias_dict[key]['area']] for key in perfil_em.keys() ]\n",
    "values_em = list(perfil_em.values())\n",
    "values_enem = list(perfil_enem.values())\n",
    "\n",
    "# print(\"Colunas:\", columns)\n",
    "# print(\"Cores:\", columns_colors)\n",
    "\n",
    "\n",
    "constant_lines = [\n",
    "    {\n",
    "        'name': 'Vestibular - {}'.format(key),\n",
    "        'y': value,\n",
    "        'color': cores[key],\n",
    "        'dash': 'dot' if key == 'MEDIA' else 'dash'  # Linha da média com estilo diferente\n",
    "    } \n",
    "    for key, value in nota_enem.items()\n",
    "]\n",
    "\n",
    "print(\"Perfil de\", CHOSEN_STUDENT, 'na escola \"', CHOSEN_SCHOOL, '\"')\n",
    "\n",
    "fig = bar_plot(\n",
    "    columns,\n",
    "    'Competências', \n",
    "    values_em,\n",
    "    True,\n",
    "    constant_lines,\n",
    "    columns_colors\n",
    ")\n",
    "spider_fig = spider_plot(columns,['Egresso',' Vestibulando'], [values_em, values_enem], show=True)\n"
   ]
  },
  {
   "cell_type": "markdown",
   "metadata": {},
   "source": [
    "A vizualização não fica tão agradável, portanto vamos seprar em graficos para cada área."
   ]
  },
  {
   "cell_type": "code",
   "execution_count": null,
   "metadata": {},
   "outputs": [
    {
     "name": "stdout",
     "output_type": "stream",
     "text": [
      "Plotando área: EXATAS\n",
      "Colunas: ['COG.D.L', 'COG.C.F', 'COG.S.P', 'COG.C.A', 'COG.E.P', 'EXA.H1.H5', 'EXA.H6.H9', 'EXA.H10.H14', 'EXA.H15.H18', 'EXA.H19.H23', 'EXA.H24.H26', 'EXA.H27.H30']\n",
      "Cores: ['#e31c19', '#e31c19', '#e31c19', '#e31c19', '#e31c19', '#394fe3', '#394fe3', '#394fe3', '#394fe3', '#394fe3', '#394fe3', '#394fe3']\n",
      "Valores EM: [0.4241203034131681, 0.41982566569873386, 0.4201719414511352, 0.36556640162271486, 0.488065051642445, 0.5845915285222244, 0.5615319893503844, 0.5690156823310248, 0.5831061757590144, 0.5902436552238305, 0.5726484018264839, 0.6035019490325876]\n"
     ]
    },
    {
     "data": {
      "application/vnd.plotly.v1+json": {
       "config": {
        "plotlyServerURL": "https://plot.ly"
       },
       "data": [
        {
         "marker": {
          "color": [
           "#e31c19",
           "#e31c19",
           "#e31c19",
           "#e31c19",
           "#e31c19",
           "#394fe3",
           "#394fe3",
           "#394fe3",
           "#394fe3",
           "#394fe3",
           "#394fe3",
           "#394fe3"
          ]
         },
         "name": "Competências - EXATAS",
         "text": [
          "0.4241203034131681",
          "0.41982566569873386",
          "0.4201719414511352",
          "0.36556640162271486",
          "0.488065051642445",
          "0.5845915285222244",
          "0.5615319893503844",
          "0.5690156823310248",
          "0.5831061757590144",
          "0.5902436552238305",
          "0.5726484018264839",
          "0.6035019490325876"
         ],
         "textposition": "auto",
         "type": "bar",
         "x": [
          "COG.D.L",
          "COG.C.F",
          "COG.S.P",
          "COG.C.A",
          "COG.E.P",
          "EXA.H1.H5",
          "EXA.H6.H9",
          "EXA.H10.H14",
          "EXA.H15.H18",
          "EXA.H19.H23",
          "EXA.H24.H26",
          "EXA.H27.H30"
         ],
         "y": [
          0.4241203034131681,
          0.41982566569873386,
          0.4201719414511352,
          0.36556640162271486,
          0.488065051642445,
          0.5845915285222244,
          0.5615319893503844,
          0.5690156823310248,
          0.5831061757590144,
          0.5902436552238305,
          0.5726484018264839,
          0.6035019490325876
         ]
        }
       ],
       "layout": {
        "annotations": [
         {
          "showarrow": false,
          "text": "Vestibular - EXATAS",
          "x": 1,
          "xanchor": "right",
          "xref": "x domain",
          "y": 0.561,
          "yanchor": "bottom",
          "yref": "y"
         },
         {
          "showarrow": false,
          "text": "Média - total",
          "x": 1,
          "xanchor": "right",
          "xref": "x domain",
          "y": 0.675,
          "yanchor": "bottom",
          "yref": "y"
         }
        ],
        "shapes": [
         {
          "line": {
           "color": "#394fe3",
           "dash": "dash"
          },
          "opacity": 0.5,
          "type": "line",
          "x0": 0,
          "x1": 1,
          "xref": "x domain",
          "y0": 0.561,
          "y1": 0.561,
          "yref": "y"
         },
         {
          "line": {
           "color": "#6007b3",
           "dash": "dot"
          },
          "opacity": 0.5,
          "type": "line",
          "x0": 0,
          "x1": 1,
          "xref": "x domain",
          "y0": 0.675,
          "y1": 0.675,
          "yref": "y"
         }
        ],
        "template": {
         "data": {
          "bar": [
           {
            "error_x": {
             "color": "#2a3f5f"
            },
            "error_y": {
             "color": "#2a3f5f"
            },
            "marker": {
             "line": {
              "color": "#E5ECF6",
              "width": 0.5
             },
             "pattern": {
              "fillmode": "overlay",
              "size": 10,
              "solidity": 0.2
             }
            },
            "type": "bar"
           }
          ],
          "barpolar": [
           {
            "marker": {
             "line": {
              "color": "#E5ECF6",
              "width": 0.5
             },
             "pattern": {
              "fillmode": "overlay",
              "size": 10,
              "solidity": 0.2
             }
            },
            "type": "barpolar"
           }
          ],
          "carpet": [
           {
            "aaxis": {
             "endlinecolor": "#2a3f5f",
             "gridcolor": "white",
             "linecolor": "white",
             "minorgridcolor": "white",
             "startlinecolor": "#2a3f5f"
            },
            "baxis": {
             "endlinecolor": "#2a3f5f",
             "gridcolor": "white",
             "linecolor": "white",
             "minorgridcolor": "white",
             "startlinecolor": "#2a3f5f"
            },
            "type": "carpet"
           }
          ],
          "choropleth": [
           {
            "colorbar": {
             "outlinewidth": 0,
             "ticks": ""
            },
            "type": "choropleth"
           }
          ],
          "contour": [
           {
            "colorbar": {
             "outlinewidth": 0,
             "ticks": ""
            },
            "colorscale": [
             [
              0,
              "#0d0887"
             ],
             [
              0.1111111111111111,
              "#46039f"
             ],
             [
              0.2222222222222222,
              "#7201a8"
             ],
             [
              0.3333333333333333,
              "#9c179e"
             ],
             [
              0.4444444444444444,
              "#bd3786"
             ],
             [
              0.5555555555555556,
              "#d8576b"
             ],
             [
              0.6666666666666666,
              "#ed7953"
             ],
             [
              0.7777777777777778,
              "#fb9f3a"
             ],
             [
              0.8888888888888888,
              "#fdca26"
             ],
             [
              1,
              "#f0f921"
             ]
            ],
            "type": "contour"
           }
          ],
          "contourcarpet": [
           {
            "colorbar": {
             "outlinewidth": 0,
             "ticks": ""
            },
            "type": "contourcarpet"
           }
          ],
          "heatmap": [
           {
            "colorbar": {
             "outlinewidth": 0,
             "ticks": ""
            },
            "colorscale": [
             [
              0,
              "#0d0887"
             ],
             [
              0.1111111111111111,
              "#46039f"
             ],
             [
              0.2222222222222222,
              "#7201a8"
             ],
             [
              0.3333333333333333,
              "#9c179e"
             ],
             [
              0.4444444444444444,
              "#bd3786"
             ],
             [
              0.5555555555555556,
              "#d8576b"
             ],
             [
              0.6666666666666666,
              "#ed7953"
             ],
             [
              0.7777777777777778,
              "#fb9f3a"
             ],
             [
              0.8888888888888888,
              "#fdca26"
             ],
             [
              1,
              "#f0f921"
             ]
            ],
            "type": "heatmap"
           }
          ],
          "histogram": [
           {
            "marker": {
             "pattern": {
              "fillmode": "overlay",
              "size": 10,
              "solidity": 0.2
             }
            },
            "type": "histogram"
           }
          ],
          "histogram2d": [
           {
            "colorbar": {
             "outlinewidth": 0,
             "ticks": ""
            },
            "colorscale": [
             [
              0,
              "#0d0887"
             ],
             [
              0.1111111111111111,
              "#46039f"
             ],
             [
              0.2222222222222222,
              "#7201a8"
             ],
             [
              0.3333333333333333,
              "#9c179e"
             ],
             [
              0.4444444444444444,
              "#bd3786"
             ],
             [
              0.5555555555555556,
              "#d8576b"
             ],
             [
              0.6666666666666666,
              "#ed7953"
             ],
             [
              0.7777777777777778,
              "#fb9f3a"
             ],
             [
              0.8888888888888888,
              "#fdca26"
             ],
             [
              1,
              "#f0f921"
             ]
            ],
            "type": "histogram2d"
           }
          ],
          "histogram2dcontour": [
           {
            "colorbar": {
             "outlinewidth": 0,
             "ticks": ""
            },
            "colorscale": [
             [
              0,
              "#0d0887"
             ],
             [
              0.1111111111111111,
              "#46039f"
             ],
             [
              0.2222222222222222,
              "#7201a8"
             ],
             [
              0.3333333333333333,
              "#9c179e"
             ],
             [
              0.4444444444444444,
              "#bd3786"
             ],
             [
              0.5555555555555556,
              "#d8576b"
             ],
             [
              0.6666666666666666,
              "#ed7953"
             ],
             [
              0.7777777777777778,
              "#fb9f3a"
             ],
             [
              0.8888888888888888,
              "#fdca26"
             ],
             [
              1,
              "#f0f921"
             ]
            ],
            "type": "histogram2dcontour"
           }
          ],
          "mesh3d": [
           {
            "colorbar": {
             "outlinewidth": 0,
             "ticks": ""
            },
            "type": "mesh3d"
           }
          ],
          "parcoords": [
           {
            "line": {
             "colorbar": {
              "outlinewidth": 0,
              "ticks": ""
             }
            },
            "type": "parcoords"
           }
          ],
          "pie": [
           {
            "automargin": true,
            "type": "pie"
           }
          ],
          "scatter": [
           {
            "fillpattern": {
             "fillmode": "overlay",
             "size": 10,
             "solidity": 0.2
            },
            "type": "scatter"
           }
          ],
          "scatter3d": [
           {
            "line": {
             "colorbar": {
              "outlinewidth": 0,
              "ticks": ""
             }
            },
            "marker": {
             "colorbar": {
              "outlinewidth": 0,
              "ticks": ""
             }
            },
            "type": "scatter3d"
           }
          ],
          "scattercarpet": [
           {
            "marker": {
             "colorbar": {
              "outlinewidth": 0,
              "ticks": ""
             }
            },
            "type": "scattercarpet"
           }
          ],
          "scattergeo": [
           {
            "marker": {
             "colorbar": {
              "outlinewidth": 0,
              "ticks": ""
             }
            },
            "type": "scattergeo"
           }
          ],
          "scattergl": [
           {
            "marker": {
             "colorbar": {
              "outlinewidth": 0,
              "ticks": ""
             }
            },
            "type": "scattergl"
           }
          ],
          "scattermap": [
           {
            "marker": {
             "colorbar": {
              "outlinewidth": 0,
              "ticks": ""
             }
            },
            "type": "scattermap"
           }
          ],
          "scattermapbox": [
           {
            "marker": {
             "colorbar": {
              "outlinewidth": 0,
              "ticks": ""
             }
            },
            "type": "scattermapbox"
           }
          ],
          "scatterpolar": [
           {
            "marker": {
             "colorbar": {
              "outlinewidth": 0,
              "ticks": ""
             }
            },
            "type": "scatterpolar"
           }
          ],
          "scatterpolargl": [
           {
            "marker": {
             "colorbar": {
              "outlinewidth": 0,
              "ticks": ""
             }
            },
            "type": "scatterpolargl"
           }
          ],
          "scatterternary": [
           {
            "marker": {
             "colorbar": {
              "outlinewidth": 0,
              "ticks": ""
             }
            },
            "type": "scatterternary"
           }
          ],
          "surface": [
           {
            "colorbar": {
             "outlinewidth": 0,
             "ticks": ""
            },
            "colorscale": [
             [
              0,
              "#0d0887"
             ],
             [
              0.1111111111111111,
              "#46039f"
             ],
             [
              0.2222222222222222,
              "#7201a8"
             ],
             [
              0.3333333333333333,
              "#9c179e"
             ],
             [
              0.4444444444444444,
              "#bd3786"
             ],
             [
              0.5555555555555556,
              "#d8576b"
             ],
             [
              0.6666666666666666,
              "#ed7953"
             ],
             [
              0.7777777777777778,
              "#fb9f3a"
             ],
             [
              0.8888888888888888,
              "#fdca26"
             ],
             [
              1,
              "#f0f921"
             ]
            ],
            "type": "surface"
           }
          ],
          "table": [
           {
            "cells": {
             "fill": {
              "color": "#EBF0F8"
             },
             "line": {
              "color": "white"
             }
            },
            "header": {
             "fill": {
              "color": "#C8D4E3"
             },
             "line": {
              "color": "white"
             }
            },
            "type": "table"
           }
          ]
         },
         "layout": {
          "annotationdefaults": {
           "arrowcolor": "#2a3f5f",
           "arrowhead": 0,
           "arrowwidth": 1
          },
          "autotypenumbers": "strict",
          "coloraxis": {
           "colorbar": {
            "outlinewidth": 0,
            "ticks": ""
           }
          },
          "colorscale": {
           "diverging": [
            [
             0,
             "#8e0152"
            ],
            [
             0.1,
             "#c51b7d"
            ],
            [
             0.2,
             "#de77ae"
            ],
            [
             0.3,
             "#f1b6da"
            ],
            [
             0.4,
             "#fde0ef"
            ],
            [
             0.5,
             "#f7f7f7"
            ],
            [
             0.6,
             "#e6f5d0"
            ],
            [
             0.7,
             "#b8e186"
            ],
            [
             0.8,
             "#7fbc41"
            ],
            [
             0.9,
             "#4d9221"
            ],
            [
             1,
             "#276419"
            ]
           ],
           "sequential": [
            [
             0,
             "#0d0887"
            ],
            [
             0.1111111111111111,
             "#46039f"
            ],
            [
             0.2222222222222222,
             "#7201a8"
            ],
            [
             0.3333333333333333,
             "#9c179e"
            ],
            [
             0.4444444444444444,
             "#bd3786"
            ],
            [
             0.5555555555555556,
             "#d8576b"
            ],
            [
             0.6666666666666666,
             "#ed7953"
            ],
            [
             0.7777777777777778,
             "#fb9f3a"
            ],
            [
             0.8888888888888888,
             "#fdca26"
            ],
            [
             1,
             "#f0f921"
            ]
           ],
           "sequentialminus": [
            [
             0,
             "#0d0887"
            ],
            [
             0.1111111111111111,
             "#46039f"
            ],
            [
             0.2222222222222222,
             "#7201a8"
            ],
            [
             0.3333333333333333,
             "#9c179e"
            ],
            [
             0.4444444444444444,
             "#bd3786"
            ],
            [
             0.5555555555555556,
             "#d8576b"
            ],
            [
             0.6666666666666666,
             "#ed7953"
            ],
            [
             0.7777777777777778,
             "#fb9f3a"
            ],
            [
             0.8888888888888888,
             "#fdca26"
            ],
            [
             1,
             "#f0f921"
            ]
           ]
          },
          "colorway": [
           "#636efa",
           "#EF553B",
           "#00cc96",
           "#ab63fa",
           "#FFA15A",
           "#19d3f3",
           "#FF6692",
           "#B6E880",
           "#FF97FF",
           "#FECB52"
          ],
          "font": {
           "color": "#2a3f5f"
          },
          "geo": {
           "bgcolor": "white",
           "lakecolor": "white",
           "landcolor": "#E5ECF6",
           "showlakes": true,
           "showland": true,
           "subunitcolor": "white"
          },
          "hoverlabel": {
           "align": "left"
          },
          "hovermode": "closest",
          "mapbox": {
           "style": "light"
          },
          "paper_bgcolor": "white",
          "plot_bgcolor": "#E5ECF6",
          "polar": {
           "angularaxis": {
            "gridcolor": "white",
            "linecolor": "white",
            "ticks": ""
           },
           "bgcolor": "#E5ECF6",
           "radialaxis": {
            "gridcolor": "white",
            "linecolor": "white",
            "ticks": ""
           }
          },
          "scene": {
           "xaxis": {
            "backgroundcolor": "#E5ECF6",
            "gridcolor": "white",
            "gridwidth": 2,
            "linecolor": "white",
            "showbackground": true,
            "ticks": "",
            "zerolinecolor": "white"
           },
           "yaxis": {
            "backgroundcolor": "#E5ECF6",
            "gridcolor": "white",
            "gridwidth": 2,
            "linecolor": "white",
            "showbackground": true,
            "ticks": "",
            "zerolinecolor": "white"
           },
           "zaxis": {
            "backgroundcolor": "#E5ECF6",
            "gridcolor": "white",
            "gridwidth": 2,
            "linecolor": "white",
            "showbackground": true,
            "ticks": "",
            "zerolinecolor": "white"
           }
          },
          "shapedefaults": {
           "line": {
            "color": "#2a3f5f"
           }
          },
          "ternary": {
           "aaxis": {
            "gridcolor": "white",
            "linecolor": "white",
            "ticks": ""
           },
           "baxis": {
            "gridcolor": "white",
            "linecolor": "white",
            "ticks": ""
           },
           "bgcolor": "#E5ECF6",
           "caxis": {
            "gridcolor": "white",
            "linecolor": "white",
            "ticks": ""
           }
          },
          "title": {
           "x": 0.05
          },
          "xaxis": {
           "automargin": true,
           "gridcolor": "white",
           "linecolor": "white",
           "ticks": "",
           "title": {
            "standoff": 15
           },
           "zerolinecolor": "white",
           "zerolinewidth": 2
          },
          "yaxis": {
           "automargin": true,
           "gridcolor": "white",
           "linecolor": "white",
           "ticks": "",
           "title": {
            "standoff": 15
           },
           "zerolinecolor": "white",
           "zerolinewidth": 2
          }
         }
        }
       }
      }
     },
     "metadata": {},
     "output_type": "display_data"
    },
    {
     "name": "stdout",
     "output_type": "stream",
     "text": [
      "Plotando área: HUMANAS\n",
      "Colunas: ['COG.D.L', 'COG.C.F', 'COG.S.P', 'COG.C.A', 'COG.E.P', 'HUM.H1.H5', 'HUM.H6.H10', 'HUM.H11.H15', 'HUM.H16.H20', 'HUM.H21.H25', 'HUM.H26.H30']\n",
      "Cores: ['#e31c19', '#e31c19', '#e31c19', '#e31c19', '#e31c19', '#e3dd39', '#e3dd39', '#e3dd39', '#e3dd39', '#e3dd39', '#e3dd39']\n",
      "Valores EM: [0.4241203034131681, 0.41982566569873386, 0.4201719414511352, 0.36556640162271486, 0.488065051642445, 0.2850384131714378, 0.31334019623939974, 0.3012735450083783, 0.28688701238307235, 0.2961925200706048, 0.30564001776413835]\n"
     ]
    },
    {
     "data": {
      "application/vnd.plotly.v1+json": {
       "config": {
        "plotlyServerURL": "https://plot.ly"
       },
       "data": [
        {
         "marker": {
          "color": [
           "#e31c19",
           "#e31c19",
           "#e31c19",
           "#e31c19",
           "#e31c19",
           "#e3dd39",
           "#e3dd39",
           "#e3dd39",
           "#e3dd39",
           "#e3dd39",
           "#e3dd39"
          ]
         },
         "name": "Competências - HUMANAS",
         "text": [
          "0.4241203034131681",
          "0.41982566569873386",
          "0.4201719414511352",
          "0.36556640162271486",
          "0.488065051642445",
          "0.2850384131714378",
          "0.31334019623939974",
          "0.3012735450083783",
          "0.28688701238307235",
          "0.2961925200706048",
          "0.30564001776413835"
         ],
         "textposition": "auto",
         "type": "bar",
         "x": [
          "COG.D.L",
          "COG.C.F",
          "COG.S.P",
          "COG.C.A",
          "COG.E.P",
          "HUM.H1.H5",
          "HUM.H6.H10",
          "HUM.H11.H15",
          "HUM.H16.H20",
          "HUM.H21.H25",
          "HUM.H26.H30"
         ],
         "y": [
          0.4241203034131681,
          0.41982566569873386,
          0.4201719414511352,
          0.36556640162271486,
          0.488065051642445,
          0.2850384131714378,
          0.31334019623939974,
          0.3012735450083783,
          0.28688701238307235,
          0.2961925200706048,
          0.30564001776413835
         ]
        }
       ],
       "layout": {
        "annotations": [
         {
          "showarrow": false,
          "text": "Vestibular - HUMANAS",
          "x": 1,
          "xanchor": "right",
          "xref": "x domain",
          "y": 0.797,
          "yanchor": "bottom",
          "yref": "y"
         },
         {
          "showarrow": false,
          "text": "Média - total",
          "x": 1,
          "xanchor": "right",
          "xref": "x domain",
          "y": 0.675,
          "yanchor": "bottom",
          "yref": "y"
         }
        ],
        "shapes": [
         {
          "line": {
           "color": "#e3dd39",
           "dash": "dash"
          },
          "opacity": 0.5,
          "type": "line",
          "x0": 0,
          "x1": 1,
          "xref": "x domain",
          "y0": 0.797,
          "y1": 0.797,
          "yref": "y"
         },
         {
          "line": {
           "color": "#6007b3",
           "dash": "dot"
          },
          "opacity": 0.5,
          "type": "line",
          "x0": 0,
          "x1": 1,
          "xref": "x domain",
          "y0": 0.675,
          "y1": 0.675,
          "yref": "y"
         }
        ],
        "template": {
         "data": {
          "bar": [
           {
            "error_x": {
             "color": "#2a3f5f"
            },
            "error_y": {
             "color": "#2a3f5f"
            },
            "marker": {
             "line": {
              "color": "#E5ECF6",
              "width": 0.5
             },
             "pattern": {
              "fillmode": "overlay",
              "size": 10,
              "solidity": 0.2
             }
            },
            "type": "bar"
           }
          ],
          "barpolar": [
           {
            "marker": {
             "line": {
              "color": "#E5ECF6",
              "width": 0.5
             },
             "pattern": {
              "fillmode": "overlay",
              "size": 10,
              "solidity": 0.2
             }
            },
            "type": "barpolar"
           }
          ],
          "carpet": [
           {
            "aaxis": {
             "endlinecolor": "#2a3f5f",
             "gridcolor": "white",
             "linecolor": "white",
             "minorgridcolor": "white",
             "startlinecolor": "#2a3f5f"
            },
            "baxis": {
             "endlinecolor": "#2a3f5f",
             "gridcolor": "white",
             "linecolor": "white",
             "minorgridcolor": "white",
             "startlinecolor": "#2a3f5f"
            },
            "type": "carpet"
           }
          ],
          "choropleth": [
           {
            "colorbar": {
             "outlinewidth": 0,
             "ticks": ""
            },
            "type": "choropleth"
           }
          ],
          "contour": [
           {
            "colorbar": {
             "outlinewidth": 0,
             "ticks": ""
            },
            "colorscale": [
             [
              0,
              "#0d0887"
             ],
             [
              0.1111111111111111,
              "#46039f"
             ],
             [
              0.2222222222222222,
              "#7201a8"
             ],
             [
              0.3333333333333333,
              "#9c179e"
             ],
             [
              0.4444444444444444,
              "#bd3786"
             ],
             [
              0.5555555555555556,
              "#d8576b"
             ],
             [
              0.6666666666666666,
              "#ed7953"
             ],
             [
              0.7777777777777778,
              "#fb9f3a"
             ],
             [
              0.8888888888888888,
              "#fdca26"
             ],
             [
              1,
              "#f0f921"
             ]
            ],
            "type": "contour"
           }
          ],
          "contourcarpet": [
           {
            "colorbar": {
             "outlinewidth": 0,
             "ticks": ""
            },
            "type": "contourcarpet"
           }
          ],
          "heatmap": [
           {
            "colorbar": {
             "outlinewidth": 0,
             "ticks": ""
            },
            "colorscale": [
             [
              0,
              "#0d0887"
             ],
             [
              0.1111111111111111,
              "#46039f"
             ],
             [
              0.2222222222222222,
              "#7201a8"
             ],
             [
              0.3333333333333333,
              "#9c179e"
             ],
             [
              0.4444444444444444,
              "#bd3786"
             ],
             [
              0.5555555555555556,
              "#d8576b"
             ],
             [
              0.6666666666666666,
              "#ed7953"
             ],
             [
              0.7777777777777778,
              "#fb9f3a"
             ],
             [
              0.8888888888888888,
              "#fdca26"
             ],
             [
              1,
              "#f0f921"
             ]
            ],
            "type": "heatmap"
           }
          ],
          "histogram": [
           {
            "marker": {
             "pattern": {
              "fillmode": "overlay",
              "size": 10,
              "solidity": 0.2
             }
            },
            "type": "histogram"
           }
          ],
          "histogram2d": [
           {
            "colorbar": {
             "outlinewidth": 0,
             "ticks": ""
            },
            "colorscale": [
             [
              0,
              "#0d0887"
             ],
             [
              0.1111111111111111,
              "#46039f"
             ],
             [
              0.2222222222222222,
              "#7201a8"
             ],
             [
              0.3333333333333333,
              "#9c179e"
             ],
             [
              0.4444444444444444,
              "#bd3786"
             ],
             [
              0.5555555555555556,
              "#d8576b"
             ],
             [
              0.6666666666666666,
              "#ed7953"
             ],
             [
              0.7777777777777778,
              "#fb9f3a"
             ],
             [
              0.8888888888888888,
              "#fdca26"
             ],
             [
              1,
              "#f0f921"
             ]
            ],
            "type": "histogram2d"
           }
          ],
          "histogram2dcontour": [
           {
            "colorbar": {
             "outlinewidth": 0,
             "ticks": ""
            },
            "colorscale": [
             [
              0,
              "#0d0887"
             ],
             [
              0.1111111111111111,
              "#46039f"
             ],
             [
              0.2222222222222222,
              "#7201a8"
             ],
             [
              0.3333333333333333,
              "#9c179e"
             ],
             [
              0.4444444444444444,
              "#bd3786"
             ],
             [
              0.5555555555555556,
              "#d8576b"
             ],
             [
              0.6666666666666666,
              "#ed7953"
             ],
             [
              0.7777777777777778,
              "#fb9f3a"
             ],
             [
              0.8888888888888888,
              "#fdca26"
             ],
             [
              1,
              "#f0f921"
             ]
            ],
            "type": "histogram2dcontour"
           }
          ],
          "mesh3d": [
           {
            "colorbar": {
             "outlinewidth": 0,
             "ticks": ""
            },
            "type": "mesh3d"
           }
          ],
          "parcoords": [
           {
            "line": {
             "colorbar": {
              "outlinewidth": 0,
              "ticks": ""
             }
            },
            "type": "parcoords"
           }
          ],
          "pie": [
           {
            "automargin": true,
            "type": "pie"
           }
          ],
          "scatter": [
           {
            "fillpattern": {
             "fillmode": "overlay",
             "size": 10,
             "solidity": 0.2
            },
            "type": "scatter"
           }
          ],
          "scatter3d": [
           {
            "line": {
             "colorbar": {
              "outlinewidth": 0,
              "ticks": ""
             }
            },
            "marker": {
             "colorbar": {
              "outlinewidth": 0,
              "ticks": ""
             }
            },
            "type": "scatter3d"
           }
          ],
          "scattercarpet": [
           {
            "marker": {
             "colorbar": {
              "outlinewidth": 0,
              "ticks": ""
             }
            },
            "type": "scattercarpet"
           }
          ],
          "scattergeo": [
           {
            "marker": {
             "colorbar": {
              "outlinewidth": 0,
              "ticks": ""
             }
            },
            "type": "scattergeo"
           }
          ],
          "scattergl": [
           {
            "marker": {
             "colorbar": {
              "outlinewidth": 0,
              "ticks": ""
             }
            },
            "type": "scattergl"
           }
          ],
          "scattermap": [
           {
            "marker": {
             "colorbar": {
              "outlinewidth": 0,
              "ticks": ""
             }
            },
            "type": "scattermap"
           }
          ],
          "scattermapbox": [
           {
            "marker": {
             "colorbar": {
              "outlinewidth": 0,
              "ticks": ""
             }
            },
            "type": "scattermapbox"
           }
          ],
          "scatterpolar": [
           {
            "marker": {
             "colorbar": {
              "outlinewidth": 0,
              "ticks": ""
             }
            },
            "type": "scatterpolar"
           }
          ],
          "scatterpolargl": [
           {
            "marker": {
             "colorbar": {
              "outlinewidth": 0,
              "ticks": ""
             }
            },
            "type": "scatterpolargl"
           }
          ],
          "scatterternary": [
           {
            "marker": {
             "colorbar": {
              "outlinewidth": 0,
              "ticks": ""
             }
            },
            "type": "scatterternary"
           }
          ],
          "surface": [
           {
            "colorbar": {
             "outlinewidth": 0,
             "ticks": ""
            },
            "colorscale": [
             [
              0,
              "#0d0887"
             ],
             [
              0.1111111111111111,
              "#46039f"
             ],
             [
              0.2222222222222222,
              "#7201a8"
             ],
             [
              0.3333333333333333,
              "#9c179e"
             ],
             [
              0.4444444444444444,
              "#bd3786"
             ],
             [
              0.5555555555555556,
              "#d8576b"
             ],
             [
              0.6666666666666666,
              "#ed7953"
             ],
             [
              0.7777777777777778,
              "#fb9f3a"
             ],
             [
              0.8888888888888888,
              "#fdca26"
             ],
             [
              1,
              "#f0f921"
             ]
            ],
            "type": "surface"
           }
          ],
          "table": [
           {
            "cells": {
             "fill": {
              "color": "#EBF0F8"
             },
             "line": {
              "color": "white"
             }
            },
            "header": {
             "fill": {
              "color": "#C8D4E3"
             },
             "line": {
              "color": "white"
             }
            },
            "type": "table"
           }
          ]
         },
         "layout": {
          "annotationdefaults": {
           "arrowcolor": "#2a3f5f",
           "arrowhead": 0,
           "arrowwidth": 1
          },
          "autotypenumbers": "strict",
          "coloraxis": {
           "colorbar": {
            "outlinewidth": 0,
            "ticks": ""
           }
          },
          "colorscale": {
           "diverging": [
            [
             0,
             "#8e0152"
            ],
            [
             0.1,
             "#c51b7d"
            ],
            [
             0.2,
             "#de77ae"
            ],
            [
             0.3,
             "#f1b6da"
            ],
            [
             0.4,
             "#fde0ef"
            ],
            [
             0.5,
             "#f7f7f7"
            ],
            [
             0.6,
             "#e6f5d0"
            ],
            [
             0.7,
             "#b8e186"
            ],
            [
             0.8,
             "#7fbc41"
            ],
            [
             0.9,
             "#4d9221"
            ],
            [
             1,
             "#276419"
            ]
           ],
           "sequential": [
            [
             0,
             "#0d0887"
            ],
            [
             0.1111111111111111,
             "#46039f"
            ],
            [
             0.2222222222222222,
             "#7201a8"
            ],
            [
             0.3333333333333333,
             "#9c179e"
            ],
            [
             0.4444444444444444,
             "#bd3786"
            ],
            [
             0.5555555555555556,
             "#d8576b"
            ],
            [
             0.6666666666666666,
             "#ed7953"
            ],
            [
             0.7777777777777778,
             "#fb9f3a"
            ],
            [
             0.8888888888888888,
             "#fdca26"
            ],
            [
             1,
             "#f0f921"
            ]
           ],
           "sequentialminus": [
            [
             0,
             "#0d0887"
            ],
            [
             0.1111111111111111,
             "#46039f"
            ],
            [
             0.2222222222222222,
             "#7201a8"
            ],
            [
             0.3333333333333333,
             "#9c179e"
            ],
            [
             0.4444444444444444,
             "#bd3786"
            ],
            [
             0.5555555555555556,
             "#d8576b"
            ],
            [
             0.6666666666666666,
             "#ed7953"
            ],
            [
             0.7777777777777778,
             "#fb9f3a"
            ],
            [
             0.8888888888888888,
             "#fdca26"
            ],
            [
             1,
             "#f0f921"
            ]
           ]
          },
          "colorway": [
           "#636efa",
           "#EF553B",
           "#00cc96",
           "#ab63fa",
           "#FFA15A",
           "#19d3f3",
           "#FF6692",
           "#B6E880",
           "#FF97FF",
           "#FECB52"
          ],
          "font": {
           "color": "#2a3f5f"
          },
          "geo": {
           "bgcolor": "white",
           "lakecolor": "white",
           "landcolor": "#E5ECF6",
           "showlakes": true,
           "showland": true,
           "subunitcolor": "white"
          },
          "hoverlabel": {
           "align": "left"
          },
          "hovermode": "closest",
          "mapbox": {
           "style": "light"
          },
          "paper_bgcolor": "white",
          "plot_bgcolor": "#E5ECF6",
          "polar": {
           "angularaxis": {
            "gridcolor": "white",
            "linecolor": "white",
            "ticks": ""
           },
           "bgcolor": "#E5ECF6",
           "radialaxis": {
            "gridcolor": "white",
            "linecolor": "white",
            "ticks": ""
           }
          },
          "scene": {
           "xaxis": {
            "backgroundcolor": "#E5ECF6",
            "gridcolor": "white",
            "gridwidth": 2,
            "linecolor": "white",
            "showbackground": true,
            "ticks": "",
            "zerolinecolor": "white"
           },
           "yaxis": {
            "backgroundcolor": "#E5ECF6",
            "gridcolor": "white",
            "gridwidth": 2,
            "linecolor": "white",
            "showbackground": true,
            "ticks": "",
            "zerolinecolor": "white"
           },
           "zaxis": {
            "backgroundcolor": "#E5ECF6",
            "gridcolor": "white",
            "gridwidth": 2,
            "linecolor": "white",
            "showbackground": true,
            "ticks": "",
            "zerolinecolor": "white"
           }
          },
          "shapedefaults": {
           "line": {
            "color": "#2a3f5f"
           }
          },
          "ternary": {
           "aaxis": {
            "gridcolor": "white",
            "linecolor": "white",
            "ticks": ""
           },
           "baxis": {
            "gridcolor": "white",
            "linecolor": "white",
            "ticks": ""
           },
           "bgcolor": "#E5ECF6",
           "caxis": {
            "gridcolor": "white",
            "linecolor": "white",
            "ticks": ""
           }
          },
          "title": {
           "x": 0.05
          },
          "xaxis": {
           "automargin": true,
           "gridcolor": "white",
           "linecolor": "white",
           "ticks": "",
           "title": {
            "standoff": 15
           },
           "zerolinecolor": "white",
           "zerolinewidth": 2
          },
          "yaxis": {
           "automargin": true,
           "gridcolor": "white",
           "linecolor": "white",
           "ticks": "",
           "title": {
            "standoff": 15
           },
           "zerolinecolor": "white",
           "zerolinewidth": 2
          }
         }
        }
       }
      }
     },
     "metadata": {},
     "output_type": "display_data"
    },
    {
     "name": "stdout",
     "output_type": "stream",
     "text": [
      "Plotando área: LINGUAGENS\n",
      "Colunas: ['COG.D.L', 'COG.C.F', 'COG.S.P', 'COG.C.A', 'COG.E.P', 'LIN.H1.H4', 'LIN.H5.H8', 'LIN.H9.H11', 'LIN.H12.H14', 'LIN.H15.H17', 'LIN.H18.H20', 'LIN.H21.H24', 'LIN.H25.H27', 'LIN.H28.H30']\n",
      "Cores: ['#e31c19', '#e31c19', '#e31c19', '#e31c19', '#e31c19', '#d919e3', '#d919e3', '#d919e3', '#d919e3', '#d919e3', '#d919e3', '#d919e3', '#d919e3', '#d919e3']\n",
      "Valores EM: [0.4241203034131681, 0.41982566569873386, 0.4201719414511352, 0.36556640162271486, 0.488065051642445, 0.4482887513037948, 0.469166472494916, 0.4553366884744858, 0.42822936854931054, 0.45561288331504546, 0.47768351383617114, 0.4163206220302838, 0.44008060349297606, 0.46903173798181197]\n"
     ]
    },
    {
     "data": {
      "application/vnd.plotly.v1+json": {
       "config": {
        "plotlyServerURL": "https://plot.ly"
       },
       "data": [
        {
         "marker": {
          "color": [
           "#e31c19",
           "#e31c19",
           "#e31c19",
           "#e31c19",
           "#e31c19",
           "#d919e3",
           "#d919e3",
           "#d919e3",
           "#d919e3",
           "#d919e3",
           "#d919e3",
           "#d919e3",
           "#d919e3",
           "#d919e3"
          ]
         },
         "name": "Competências - LINGUAGENS",
         "text": [
          "0.4241203034131681",
          "0.41982566569873386",
          "0.4201719414511352",
          "0.36556640162271486",
          "0.488065051642445",
          "0.4482887513037948",
          "0.469166472494916",
          "0.4553366884744858",
          "0.42822936854931054",
          "0.45561288331504546",
          "0.47768351383617114",
          "0.4163206220302838",
          "0.44008060349297606",
          "0.46903173798181197"
         ],
         "textposition": "auto",
         "type": "bar",
         "x": [
          "COG.D.L",
          "COG.C.F",
          "COG.S.P",
          "COG.C.A",
          "COG.E.P",
          "LIN.H1.H4",
          "LIN.H5.H8",
          "LIN.H9.H11",
          "LIN.H12.H14",
          "LIN.H15.H17",
          "LIN.H18.H20",
          "LIN.H21.H24",
          "LIN.H25.H27",
          "LIN.H28.H30"
         ],
         "y": [
          0.4241203034131681,
          0.41982566569873386,
          0.4201719414511352,
          0.36556640162271486,
          0.488065051642445,
          0.4482887513037948,
          0.469166472494916,
          0.4553366884744858,
          0.42822936854931054,
          0.45561288331504546,
          0.47768351383617114,
          0.4163206220302838,
          0.44008060349297606,
          0.46903173798181197
         ]
        }
       ],
       "layout": {
        "annotations": [
         {
          "showarrow": false,
          "text": "Vestibular - LINGUAGENS",
          "x": 1,
          "xanchor": "right",
          "xref": "x domain",
          "y": 0.56,
          "yanchor": "bottom",
          "yref": "y"
         },
         {
          "showarrow": false,
          "text": "Média - total",
          "x": 1,
          "xanchor": "right",
          "xref": "x domain",
          "y": 0.675,
          "yanchor": "bottom",
          "yref": "y"
         }
        ],
        "shapes": [
         {
          "line": {
           "color": "#d919e3",
           "dash": "dash"
          },
          "opacity": 0.5,
          "type": "line",
          "x0": 0,
          "x1": 1,
          "xref": "x domain",
          "y0": 0.56,
          "y1": 0.56,
          "yref": "y"
         },
         {
          "line": {
           "color": "#6007b3",
           "dash": "dot"
          },
          "opacity": 0.5,
          "type": "line",
          "x0": 0,
          "x1": 1,
          "xref": "x domain",
          "y0": 0.675,
          "y1": 0.675,
          "yref": "y"
         }
        ],
        "template": {
         "data": {
          "bar": [
           {
            "error_x": {
             "color": "#2a3f5f"
            },
            "error_y": {
             "color": "#2a3f5f"
            },
            "marker": {
             "line": {
              "color": "#E5ECF6",
              "width": 0.5
             },
             "pattern": {
              "fillmode": "overlay",
              "size": 10,
              "solidity": 0.2
             }
            },
            "type": "bar"
           }
          ],
          "barpolar": [
           {
            "marker": {
             "line": {
              "color": "#E5ECF6",
              "width": 0.5
             },
             "pattern": {
              "fillmode": "overlay",
              "size": 10,
              "solidity": 0.2
             }
            },
            "type": "barpolar"
           }
          ],
          "carpet": [
           {
            "aaxis": {
             "endlinecolor": "#2a3f5f",
             "gridcolor": "white",
             "linecolor": "white",
             "minorgridcolor": "white",
             "startlinecolor": "#2a3f5f"
            },
            "baxis": {
             "endlinecolor": "#2a3f5f",
             "gridcolor": "white",
             "linecolor": "white",
             "minorgridcolor": "white",
             "startlinecolor": "#2a3f5f"
            },
            "type": "carpet"
           }
          ],
          "choropleth": [
           {
            "colorbar": {
             "outlinewidth": 0,
             "ticks": ""
            },
            "type": "choropleth"
           }
          ],
          "contour": [
           {
            "colorbar": {
             "outlinewidth": 0,
             "ticks": ""
            },
            "colorscale": [
             [
              0,
              "#0d0887"
             ],
             [
              0.1111111111111111,
              "#46039f"
             ],
             [
              0.2222222222222222,
              "#7201a8"
             ],
             [
              0.3333333333333333,
              "#9c179e"
             ],
             [
              0.4444444444444444,
              "#bd3786"
             ],
             [
              0.5555555555555556,
              "#d8576b"
             ],
             [
              0.6666666666666666,
              "#ed7953"
             ],
             [
              0.7777777777777778,
              "#fb9f3a"
             ],
             [
              0.8888888888888888,
              "#fdca26"
             ],
             [
              1,
              "#f0f921"
             ]
            ],
            "type": "contour"
           }
          ],
          "contourcarpet": [
           {
            "colorbar": {
             "outlinewidth": 0,
             "ticks": ""
            },
            "type": "contourcarpet"
           }
          ],
          "heatmap": [
           {
            "colorbar": {
             "outlinewidth": 0,
             "ticks": ""
            },
            "colorscale": [
             [
              0,
              "#0d0887"
             ],
             [
              0.1111111111111111,
              "#46039f"
             ],
             [
              0.2222222222222222,
              "#7201a8"
             ],
             [
              0.3333333333333333,
              "#9c179e"
             ],
             [
              0.4444444444444444,
              "#bd3786"
             ],
             [
              0.5555555555555556,
              "#d8576b"
             ],
             [
              0.6666666666666666,
              "#ed7953"
             ],
             [
              0.7777777777777778,
              "#fb9f3a"
             ],
             [
              0.8888888888888888,
              "#fdca26"
             ],
             [
              1,
              "#f0f921"
             ]
            ],
            "type": "heatmap"
           }
          ],
          "histogram": [
           {
            "marker": {
             "pattern": {
              "fillmode": "overlay",
              "size": 10,
              "solidity": 0.2
             }
            },
            "type": "histogram"
           }
          ],
          "histogram2d": [
           {
            "colorbar": {
             "outlinewidth": 0,
             "ticks": ""
            },
            "colorscale": [
             [
              0,
              "#0d0887"
             ],
             [
              0.1111111111111111,
              "#46039f"
             ],
             [
              0.2222222222222222,
              "#7201a8"
             ],
             [
              0.3333333333333333,
              "#9c179e"
             ],
             [
              0.4444444444444444,
              "#bd3786"
             ],
             [
              0.5555555555555556,
              "#d8576b"
             ],
             [
              0.6666666666666666,
              "#ed7953"
             ],
             [
              0.7777777777777778,
              "#fb9f3a"
             ],
             [
              0.8888888888888888,
              "#fdca26"
             ],
             [
              1,
              "#f0f921"
             ]
            ],
            "type": "histogram2d"
           }
          ],
          "histogram2dcontour": [
           {
            "colorbar": {
             "outlinewidth": 0,
             "ticks": ""
            },
            "colorscale": [
             [
              0,
              "#0d0887"
             ],
             [
              0.1111111111111111,
              "#46039f"
             ],
             [
              0.2222222222222222,
              "#7201a8"
             ],
             [
              0.3333333333333333,
              "#9c179e"
             ],
             [
              0.4444444444444444,
              "#bd3786"
             ],
             [
              0.5555555555555556,
              "#d8576b"
             ],
             [
              0.6666666666666666,
              "#ed7953"
             ],
             [
              0.7777777777777778,
              "#fb9f3a"
             ],
             [
              0.8888888888888888,
              "#fdca26"
             ],
             [
              1,
              "#f0f921"
             ]
            ],
            "type": "histogram2dcontour"
           }
          ],
          "mesh3d": [
           {
            "colorbar": {
             "outlinewidth": 0,
             "ticks": ""
            },
            "type": "mesh3d"
           }
          ],
          "parcoords": [
           {
            "line": {
             "colorbar": {
              "outlinewidth": 0,
              "ticks": ""
             }
            },
            "type": "parcoords"
           }
          ],
          "pie": [
           {
            "automargin": true,
            "type": "pie"
           }
          ],
          "scatter": [
           {
            "fillpattern": {
             "fillmode": "overlay",
             "size": 10,
             "solidity": 0.2
            },
            "type": "scatter"
           }
          ],
          "scatter3d": [
           {
            "line": {
             "colorbar": {
              "outlinewidth": 0,
              "ticks": ""
             }
            },
            "marker": {
             "colorbar": {
              "outlinewidth": 0,
              "ticks": ""
             }
            },
            "type": "scatter3d"
           }
          ],
          "scattercarpet": [
           {
            "marker": {
             "colorbar": {
              "outlinewidth": 0,
              "ticks": ""
             }
            },
            "type": "scattercarpet"
           }
          ],
          "scattergeo": [
           {
            "marker": {
             "colorbar": {
              "outlinewidth": 0,
              "ticks": ""
             }
            },
            "type": "scattergeo"
           }
          ],
          "scattergl": [
           {
            "marker": {
             "colorbar": {
              "outlinewidth": 0,
              "ticks": ""
             }
            },
            "type": "scattergl"
           }
          ],
          "scattermap": [
           {
            "marker": {
             "colorbar": {
              "outlinewidth": 0,
              "ticks": ""
             }
            },
            "type": "scattermap"
           }
          ],
          "scattermapbox": [
           {
            "marker": {
             "colorbar": {
              "outlinewidth": 0,
              "ticks": ""
             }
            },
            "type": "scattermapbox"
           }
          ],
          "scatterpolar": [
           {
            "marker": {
             "colorbar": {
              "outlinewidth": 0,
              "ticks": ""
             }
            },
            "type": "scatterpolar"
           }
          ],
          "scatterpolargl": [
           {
            "marker": {
             "colorbar": {
              "outlinewidth": 0,
              "ticks": ""
             }
            },
            "type": "scatterpolargl"
           }
          ],
          "scatterternary": [
           {
            "marker": {
             "colorbar": {
              "outlinewidth": 0,
              "ticks": ""
             }
            },
            "type": "scatterternary"
           }
          ],
          "surface": [
           {
            "colorbar": {
             "outlinewidth": 0,
             "ticks": ""
            },
            "colorscale": [
             [
              0,
              "#0d0887"
             ],
             [
              0.1111111111111111,
              "#46039f"
             ],
             [
              0.2222222222222222,
              "#7201a8"
             ],
             [
              0.3333333333333333,
              "#9c179e"
             ],
             [
              0.4444444444444444,
              "#bd3786"
             ],
             [
              0.5555555555555556,
              "#d8576b"
             ],
             [
              0.6666666666666666,
              "#ed7953"
             ],
             [
              0.7777777777777778,
              "#fb9f3a"
             ],
             [
              0.8888888888888888,
              "#fdca26"
             ],
             [
              1,
              "#f0f921"
             ]
            ],
            "type": "surface"
           }
          ],
          "table": [
           {
            "cells": {
             "fill": {
              "color": "#EBF0F8"
             },
             "line": {
              "color": "white"
             }
            },
            "header": {
             "fill": {
              "color": "#C8D4E3"
             },
             "line": {
              "color": "white"
             }
            },
            "type": "table"
           }
          ]
         },
         "layout": {
          "annotationdefaults": {
           "arrowcolor": "#2a3f5f",
           "arrowhead": 0,
           "arrowwidth": 1
          },
          "autotypenumbers": "strict",
          "coloraxis": {
           "colorbar": {
            "outlinewidth": 0,
            "ticks": ""
           }
          },
          "colorscale": {
           "diverging": [
            [
             0,
             "#8e0152"
            ],
            [
             0.1,
             "#c51b7d"
            ],
            [
             0.2,
             "#de77ae"
            ],
            [
             0.3,
             "#f1b6da"
            ],
            [
             0.4,
             "#fde0ef"
            ],
            [
             0.5,
             "#f7f7f7"
            ],
            [
             0.6,
             "#e6f5d0"
            ],
            [
             0.7,
             "#b8e186"
            ],
            [
             0.8,
             "#7fbc41"
            ],
            [
             0.9,
             "#4d9221"
            ],
            [
             1,
             "#276419"
            ]
           ],
           "sequential": [
            [
             0,
             "#0d0887"
            ],
            [
             0.1111111111111111,
             "#46039f"
            ],
            [
             0.2222222222222222,
             "#7201a8"
            ],
            [
             0.3333333333333333,
             "#9c179e"
            ],
            [
             0.4444444444444444,
             "#bd3786"
            ],
            [
             0.5555555555555556,
             "#d8576b"
            ],
            [
             0.6666666666666666,
             "#ed7953"
            ],
            [
             0.7777777777777778,
             "#fb9f3a"
            ],
            [
             0.8888888888888888,
             "#fdca26"
            ],
            [
             1,
             "#f0f921"
            ]
           ],
           "sequentialminus": [
            [
             0,
             "#0d0887"
            ],
            [
             0.1111111111111111,
             "#46039f"
            ],
            [
             0.2222222222222222,
             "#7201a8"
            ],
            [
             0.3333333333333333,
             "#9c179e"
            ],
            [
             0.4444444444444444,
             "#bd3786"
            ],
            [
             0.5555555555555556,
             "#d8576b"
            ],
            [
             0.6666666666666666,
             "#ed7953"
            ],
            [
             0.7777777777777778,
             "#fb9f3a"
            ],
            [
             0.8888888888888888,
             "#fdca26"
            ],
            [
             1,
             "#f0f921"
            ]
           ]
          },
          "colorway": [
           "#636efa",
           "#EF553B",
           "#00cc96",
           "#ab63fa",
           "#FFA15A",
           "#19d3f3",
           "#FF6692",
           "#B6E880",
           "#FF97FF",
           "#FECB52"
          ],
          "font": {
           "color": "#2a3f5f"
          },
          "geo": {
           "bgcolor": "white",
           "lakecolor": "white",
           "landcolor": "#E5ECF6",
           "showlakes": true,
           "showland": true,
           "subunitcolor": "white"
          },
          "hoverlabel": {
           "align": "left"
          },
          "hovermode": "closest",
          "mapbox": {
           "style": "light"
          },
          "paper_bgcolor": "white",
          "plot_bgcolor": "#E5ECF6",
          "polar": {
           "angularaxis": {
            "gridcolor": "white",
            "linecolor": "white",
            "ticks": ""
           },
           "bgcolor": "#E5ECF6",
           "radialaxis": {
            "gridcolor": "white",
            "linecolor": "white",
            "ticks": ""
           }
          },
          "scene": {
           "xaxis": {
            "backgroundcolor": "#E5ECF6",
            "gridcolor": "white",
            "gridwidth": 2,
            "linecolor": "white",
            "showbackground": true,
            "ticks": "",
            "zerolinecolor": "white"
           },
           "yaxis": {
            "backgroundcolor": "#E5ECF6",
            "gridcolor": "white",
            "gridwidth": 2,
            "linecolor": "white",
            "showbackground": true,
            "ticks": "",
            "zerolinecolor": "white"
           },
           "zaxis": {
            "backgroundcolor": "#E5ECF6",
            "gridcolor": "white",
            "gridwidth": 2,
            "linecolor": "white",
            "showbackground": true,
            "ticks": "",
            "zerolinecolor": "white"
           }
          },
          "shapedefaults": {
           "line": {
            "color": "#2a3f5f"
           }
          },
          "ternary": {
           "aaxis": {
            "gridcolor": "white",
            "linecolor": "white",
            "ticks": ""
           },
           "baxis": {
            "gridcolor": "white",
            "linecolor": "white",
            "ticks": ""
           },
           "bgcolor": "#E5ECF6",
           "caxis": {
            "gridcolor": "white",
            "linecolor": "white",
            "ticks": ""
           }
          },
          "title": {
           "x": 0.05
          },
          "xaxis": {
           "automargin": true,
           "gridcolor": "white",
           "linecolor": "white",
           "ticks": "",
           "title": {
            "standoff": 15
           },
           "zerolinecolor": "white",
           "zerolinewidth": 2
          },
          "yaxis": {
           "automargin": true,
           "gridcolor": "white",
           "linecolor": "white",
           "ticks": "",
           "title": {
            "standoff": 15
           },
           "zerolinecolor": "white",
           "zerolinewidth": 2
          }
         }
        }
       }
      }
     },
     "metadata": {},
     "output_type": "display_data"
    },
    {
     "name": "stdout",
     "output_type": "stream",
     "text": [
      "Plotando área: NATUREZA\n",
      "Colunas: ['COG.D.L', 'COG.C.F', 'COG.S.P', 'COG.C.A', 'COG.E.P', 'NAT.H1.H4', 'NAT.H5.H7', 'NAT.H8.H12', 'NAT.H13.H16', 'NAT.H17.H19', 'NAT.H20.H23', 'NAT.H24.H27', 'NAT.H28.H30']\n",
      "Cores: ['#e31c19', '#e31c19', '#e31c19', '#e31c19', '#e31c19', '#39e347', '#39e347', '#39e347', '#39e347', '#39e347', '#39e347', '#39e347', '#39e347']\n",
      "Valores EM: [0.4241203034131681, 0.41982566569873386, 0.4201719414511352, 0.36556640162271486, 0.488065051642445, 0.550875547258408, 0.41021265615780317, 0.45771957733037716, 0.46182234263913624, 0.5076805986694287, 0.4327945605754104, 0.5149931989227896, 0.4586593501904416]\n"
     ]
    },
    {
     "data": {
      "application/vnd.plotly.v1+json": {
       "config": {
        "plotlyServerURL": "https://plot.ly"
       },
       "data": [
        {
         "marker": {
          "color": [
           "#e31c19",
           "#e31c19",
           "#e31c19",
           "#e31c19",
           "#e31c19",
           "#39e347",
           "#39e347",
           "#39e347",
           "#39e347",
           "#39e347",
           "#39e347",
           "#39e347",
           "#39e347"
          ]
         },
         "name": "Competências - NATUREZA",
         "text": [
          "0.4241203034131681",
          "0.41982566569873386",
          "0.4201719414511352",
          "0.36556640162271486",
          "0.488065051642445",
          "0.550875547258408",
          "0.41021265615780317",
          "0.45771957733037716",
          "0.46182234263913624",
          "0.5076805986694287",
          "0.4327945605754104",
          "0.5149931989227896",
          "0.4586593501904416"
         ],
         "textposition": "auto",
         "type": "bar",
         "x": [
          "COG.D.L",
          "COG.C.F",
          "COG.S.P",
          "COG.C.A",
          "COG.E.P",
          "NAT.H1.H4",
          "NAT.H5.H7",
          "NAT.H8.H12",
          "NAT.H13.H16",
          "NAT.H17.H19",
          "NAT.H20.H23",
          "NAT.H24.H27",
          "NAT.H28.H30"
         ],
         "y": [
          0.4241203034131681,
          0.41982566569873386,
          0.4201719414511352,
          0.36556640162271486,
          0.488065051642445,
          0.550875547258408,
          0.41021265615780317,
          0.45771957733037716,
          0.46182234263913624,
          0.5076805986694287,
          0.4327945605754104,
          0.5149931989227896,
          0.4586593501904416
         ]
        }
       ],
       "layout": {
        "annotations": [
         {
          "showarrow": false,
          "text": "Vestibular - NATUREZA",
          "x": 1,
          "xanchor": "right",
          "xref": "x domain",
          "y": 0.78,
          "yanchor": "bottom",
          "yref": "y"
         },
         {
          "showarrow": false,
          "text": "Média - total",
          "x": 1,
          "xanchor": "right",
          "xref": "x domain",
          "y": 0.675,
          "yanchor": "bottom",
          "yref": "y"
         }
        ],
        "shapes": [
         {
          "line": {
           "color": "#39e347",
           "dash": "dash"
          },
          "opacity": 0.5,
          "type": "line",
          "x0": 0,
          "x1": 1,
          "xref": "x domain",
          "y0": 0.78,
          "y1": 0.78,
          "yref": "y"
         },
         {
          "line": {
           "color": "#6007b3",
           "dash": "dot"
          },
          "opacity": 0.5,
          "type": "line",
          "x0": 0,
          "x1": 1,
          "xref": "x domain",
          "y0": 0.675,
          "y1": 0.675,
          "yref": "y"
         }
        ],
        "template": {
         "data": {
          "bar": [
           {
            "error_x": {
             "color": "#2a3f5f"
            },
            "error_y": {
             "color": "#2a3f5f"
            },
            "marker": {
             "line": {
              "color": "#E5ECF6",
              "width": 0.5
             },
             "pattern": {
              "fillmode": "overlay",
              "size": 10,
              "solidity": 0.2
             }
            },
            "type": "bar"
           }
          ],
          "barpolar": [
           {
            "marker": {
             "line": {
              "color": "#E5ECF6",
              "width": 0.5
             },
             "pattern": {
              "fillmode": "overlay",
              "size": 10,
              "solidity": 0.2
             }
            },
            "type": "barpolar"
           }
          ],
          "carpet": [
           {
            "aaxis": {
             "endlinecolor": "#2a3f5f",
             "gridcolor": "white",
             "linecolor": "white",
             "minorgridcolor": "white",
             "startlinecolor": "#2a3f5f"
            },
            "baxis": {
             "endlinecolor": "#2a3f5f",
             "gridcolor": "white",
             "linecolor": "white",
             "minorgridcolor": "white",
             "startlinecolor": "#2a3f5f"
            },
            "type": "carpet"
           }
          ],
          "choropleth": [
           {
            "colorbar": {
             "outlinewidth": 0,
             "ticks": ""
            },
            "type": "choropleth"
           }
          ],
          "contour": [
           {
            "colorbar": {
             "outlinewidth": 0,
             "ticks": ""
            },
            "colorscale": [
             [
              0,
              "#0d0887"
             ],
             [
              0.1111111111111111,
              "#46039f"
             ],
             [
              0.2222222222222222,
              "#7201a8"
             ],
             [
              0.3333333333333333,
              "#9c179e"
             ],
             [
              0.4444444444444444,
              "#bd3786"
             ],
             [
              0.5555555555555556,
              "#d8576b"
             ],
             [
              0.6666666666666666,
              "#ed7953"
             ],
             [
              0.7777777777777778,
              "#fb9f3a"
             ],
             [
              0.8888888888888888,
              "#fdca26"
             ],
             [
              1,
              "#f0f921"
             ]
            ],
            "type": "contour"
           }
          ],
          "contourcarpet": [
           {
            "colorbar": {
             "outlinewidth": 0,
             "ticks": ""
            },
            "type": "contourcarpet"
           }
          ],
          "heatmap": [
           {
            "colorbar": {
             "outlinewidth": 0,
             "ticks": ""
            },
            "colorscale": [
             [
              0,
              "#0d0887"
             ],
             [
              0.1111111111111111,
              "#46039f"
             ],
             [
              0.2222222222222222,
              "#7201a8"
             ],
             [
              0.3333333333333333,
              "#9c179e"
             ],
             [
              0.4444444444444444,
              "#bd3786"
             ],
             [
              0.5555555555555556,
              "#d8576b"
             ],
             [
              0.6666666666666666,
              "#ed7953"
             ],
             [
              0.7777777777777778,
              "#fb9f3a"
             ],
             [
              0.8888888888888888,
              "#fdca26"
             ],
             [
              1,
              "#f0f921"
             ]
            ],
            "type": "heatmap"
           }
          ],
          "histogram": [
           {
            "marker": {
             "pattern": {
              "fillmode": "overlay",
              "size": 10,
              "solidity": 0.2
             }
            },
            "type": "histogram"
           }
          ],
          "histogram2d": [
           {
            "colorbar": {
             "outlinewidth": 0,
             "ticks": ""
            },
            "colorscale": [
             [
              0,
              "#0d0887"
             ],
             [
              0.1111111111111111,
              "#46039f"
             ],
             [
              0.2222222222222222,
              "#7201a8"
             ],
             [
              0.3333333333333333,
              "#9c179e"
             ],
             [
              0.4444444444444444,
              "#bd3786"
             ],
             [
              0.5555555555555556,
              "#d8576b"
             ],
             [
              0.6666666666666666,
              "#ed7953"
             ],
             [
              0.7777777777777778,
              "#fb9f3a"
             ],
             [
              0.8888888888888888,
              "#fdca26"
             ],
             [
              1,
              "#f0f921"
             ]
            ],
            "type": "histogram2d"
           }
          ],
          "histogram2dcontour": [
           {
            "colorbar": {
             "outlinewidth": 0,
             "ticks": ""
            },
            "colorscale": [
             [
              0,
              "#0d0887"
             ],
             [
              0.1111111111111111,
              "#46039f"
             ],
             [
              0.2222222222222222,
              "#7201a8"
             ],
             [
              0.3333333333333333,
              "#9c179e"
             ],
             [
              0.4444444444444444,
              "#bd3786"
             ],
             [
              0.5555555555555556,
              "#d8576b"
             ],
             [
              0.6666666666666666,
              "#ed7953"
             ],
             [
              0.7777777777777778,
              "#fb9f3a"
             ],
             [
              0.8888888888888888,
              "#fdca26"
             ],
             [
              1,
              "#f0f921"
             ]
            ],
            "type": "histogram2dcontour"
           }
          ],
          "mesh3d": [
           {
            "colorbar": {
             "outlinewidth": 0,
             "ticks": ""
            },
            "type": "mesh3d"
           }
          ],
          "parcoords": [
           {
            "line": {
             "colorbar": {
              "outlinewidth": 0,
              "ticks": ""
             }
            },
            "type": "parcoords"
           }
          ],
          "pie": [
           {
            "automargin": true,
            "type": "pie"
           }
          ],
          "scatter": [
           {
            "fillpattern": {
             "fillmode": "overlay",
             "size": 10,
             "solidity": 0.2
            },
            "type": "scatter"
           }
          ],
          "scatter3d": [
           {
            "line": {
             "colorbar": {
              "outlinewidth": 0,
              "ticks": ""
             }
            },
            "marker": {
             "colorbar": {
              "outlinewidth": 0,
              "ticks": ""
             }
            },
            "type": "scatter3d"
           }
          ],
          "scattercarpet": [
           {
            "marker": {
             "colorbar": {
              "outlinewidth": 0,
              "ticks": ""
             }
            },
            "type": "scattercarpet"
           }
          ],
          "scattergeo": [
           {
            "marker": {
             "colorbar": {
              "outlinewidth": 0,
              "ticks": ""
             }
            },
            "type": "scattergeo"
           }
          ],
          "scattergl": [
           {
            "marker": {
             "colorbar": {
              "outlinewidth": 0,
              "ticks": ""
             }
            },
            "type": "scattergl"
           }
          ],
          "scattermap": [
           {
            "marker": {
             "colorbar": {
              "outlinewidth": 0,
              "ticks": ""
             }
            },
            "type": "scattermap"
           }
          ],
          "scattermapbox": [
           {
            "marker": {
             "colorbar": {
              "outlinewidth": 0,
              "ticks": ""
             }
            },
            "type": "scattermapbox"
           }
          ],
          "scatterpolar": [
           {
            "marker": {
             "colorbar": {
              "outlinewidth": 0,
              "ticks": ""
             }
            },
            "type": "scatterpolar"
           }
          ],
          "scatterpolargl": [
           {
            "marker": {
             "colorbar": {
              "outlinewidth": 0,
              "ticks": ""
             }
            },
            "type": "scatterpolargl"
           }
          ],
          "scatterternary": [
           {
            "marker": {
             "colorbar": {
              "outlinewidth": 0,
              "ticks": ""
             }
            },
            "type": "scatterternary"
           }
          ],
          "surface": [
           {
            "colorbar": {
             "outlinewidth": 0,
             "ticks": ""
            },
            "colorscale": [
             [
              0,
              "#0d0887"
             ],
             [
              0.1111111111111111,
              "#46039f"
             ],
             [
              0.2222222222222222,
              "#7201a8"
             ],
             [
              0.3333333333333333,
              "#9c179e"
             ],
             [
              0.4444444444444444,
              "#bd3786"
             ],
             [
              0.5555555555555556,
              "#d8576b"
             ],
             [
              0.6666666666666666,
              "#ed7953"
             ],
             [
              0.7777777777777778,
              "#fb9f3a"
             ],
             [
              0.8888888888888888,
              "#fdca26"
             ],
             [
              1,
              "#f0f921"
             ]
            ],
            "type": "surface"
           }
          ],
          "table": [
           {
            "cells": {
             "fill": {
              "color": "#EBF0F8"
             },
             "line": {
              "color": "white"
             }
            },
            "header": {
             "fill": {
              "color": "#C8D4E3"
             },
             "line": {
              "color": "white"
             }
            },
            "type": "table"
           }
          ]
         },
         "layout": {
          "annotationdefaults": {
           "arrowcolor": "#2a3f5f",
           "arrowhead": 0,
           "arrowwidth": 1
          },
          "autotypenumbers": "strict",
          "coloraxis": {
           "colorbar": {
            "outlinewidth": 0,
            "ticks": ""
           }
          },
          "colorscale": {
           "diverging": [
            [
             0,
             "#8e0152"
            ],
            [
             0.1,
             "#c51b7d"
            ],
            [
             0.2,
             "#de77ae"
            ],
            [
             0.3,
             "#f1b6da"
            ],
            [
             0.4,
             "#fde0ef"
            ],
            [
             0.5,
             "#f7f7f7"
            ],
            [
             0.6,
             "#e6f5d0"
            ],
            [
             0.7,
             "#b8e186"
            ],
            [
             0.8,
             "#7fbc41"
            ],
            [
             0.9,
             "#4d9221"
            ],
            [
             1,
             "#276419"
            ]
           ],
           "sequential": [
            [
             0,
             "#0d0887"
            ],
            [
             0.1111111111111111,
             "#46039f"
            ],
            [
             0.2222222222222222,
             "#7201a8"
            ],
            [
             0.3333333333333333,
             "#9c179e"
            ],
            [
             0.4444444444444444,
             "#bd3786"
            ],
            [
             0.5555555555555556,
             "#d8576b"
            ],
            [
             0.6666666666666666,
             "#ed7953"
            ],
            [
             0.7777777777777778,
             "#fb9f3a"
            ],
            [
             0.8888888888888888,
             "#fdca26"
            ],
            [
             1,
             "#f0f921"
            ]
           ],
           "sequentialminus": [
            [
             0,
             "#0d0887"
            ],
            [
             0.1111111111111111,
             "#46039f"
            ],
            [
             0.2222222222222222,
             "#7201a8"
            ],
            [
             0.3333333333333333,
             "#9c179e"
            ],
            [
             0.4444444444444444,
             "#bd3786"
            ],
            [
             0.5555555555555556,
             "#d8576b"
            ],
            [
             0.6666666666666666,
             "#ed7953"
            ],
            [
             0.7777777777777778,
             "#fb9f3a"
            ],
            [
             0.8888888888888888,
             "#fdca26"
            ],
            [
             1,
             "#f0f921"
            ]
           ]
          },
          "colorway": [
           "#636efa",
           "#EF553B",
           "#00cc96",
           "#ab63fa",
           "#FFA15A",
           "#19d3f3",
           "#FF6692",
           "#B6E880",
           "#FF97FF",
           "#FECB52"
          ],
          "font": {
           "color": "#2a3f5f"
          },
          "geo": {
           "bgcolor": "white",
           "lakecolor": "white",
           "landcolor": "#E5ECF6",
           "showlakes": true,
           "showland": true,
           "subunitcolor": "white"
          },
          "hoverlabel": {
           "align": "left"
          },
          "hovermode": "closest",
          "mapbox": {
           "style": "light"
          },
          "paper_bgcolor": "white",
          "plot_bgcolor": "#E5ECF6",
          "polar": {
           "angularaxis": {
            "gridcolor": "white",
            "linecolor": "white",
            "ticks": ""
           },
           "bgcolor": "#E5ECF6",
           "radialaxis": {
            "gridcolor": "white",
            "linecolor": "white",
            "ticks": ""
           }
          },
          "scene": {
           "xaxis": {
            "backgroundcolor": "#E5ECF6",
            "gridcolor": "white",
            "gridwidth": 2,
            "linecolor": "white",
            "showbackground": true,
            "ticks": "",
            "zerolinecolor": "white"
           },
           "yaxis": {
            "backgroundcolor": "#E5ECF6",
            "gridcolor": "white",
            "gridwidth": 2,
            "linecolor": "white",
            "showbackground": true,
            "ticks": "",
            "zerolinecolor": "white"
           },
           "zaxis": {
            "backgroundcolor": "#E5ECF6",
            "gridcolor": "white",
            "gridwidth": 2,
            "linecolor": "white",
            "showbackground": true,
            "ticks": "",
            "zerolinecolor": "white"
           }
          },
          "shapedefaults": {
           "line": {
            "color": "#2a3f5f"
           }
          },
          "ternary": {
           "aaxis": {
            "gridcolor": "white",
            "linecolor": "white",
            "ticks": ""
           },
           "baxis": {
            "gridcolor": "white",
            "linecolor": "white",
            "ticks": ""
           },
           "bgcolor": "#E5ECF6",
           "caxis": {
            "gridcolor": "white",
            "linecolor": "white",
            "ticks": ""
           }
          },
          "title": {
           "x": 0.05
          },
          "xaxis": {
           "automargin": true,
           "gridcolor": "white",
           "linecolor": "white",
           "ticks": "",
           "title": {
            "standoff": 15
           },
           "zerolinecolor": "white",
           "zerolinewidth": 2
          },
          "yaxis": {
           "automargin": true,
           "gridcolor": "white",
           "linecolor": "white",
           "ticks": "",
           "title": {
            "standoff": 15
           },
           "zerolinecolor": "white",
           "zerolinewidth": 2
          }
         }
        }
       }
      }
     },
     "metadata": {},
     "output_type": "display_data"
    }
   ],
   "source": [
    "#fazer um plot para cada area\n",
    "area_values_dict = {}\n",
    "for area in ['EXATAS', 'HUMANAS', 'LINGUAGENS', 'NATUREZA']:\n",
    "    area_columns = [competencias_dict[key]['codigo'] for key in perfil_em.keys() if competencias_dict[key]['area'] == area or competencias_dict[key]['area'] == 'COGNITIVOS']\n",
    "    area_values_em = [perfil_em[key] for key in perfil_em.keys() if competencias_dict[key]['area'] == area or competencias_dict[key]['area'] == 'COGNITIVOS']\n",
    "    \n",
    "    area_colors = [cores[competencias_dict[key]['area']] for key in perfil_em.keys() if competencias_dict[key]['area'] == area or competencias_dict[key]['area'] == 'COGNITIVOS']\n",
    "\n",
    "    constant_lines = [\n",
    "        {\n",
    "            'name': 'Vestibular - {}'.format(area),\n",
    "            'y': nota_enem[area],\n",
    "            'color': cores[area],\n",
    "            'dash': 'dash'  # Linha da média com estilo diferente\n",
    "        },\n",
    "        {\n",
    "            'name': 'Média - total',\n",
    "            'y': nota_enem['MEDIA'],\n",
    "            'color': cores['MEDIA'],\n",
    "            'dash': 'dot'  # Linha da média com estilo diferente\n",
    "        } \n",
    "    ]\n",
    "    print(f\"Plotando área: {area}\")\n",
    "    print(\"Colunas:\", area_columns)\n",
    "    print(\"Cores:\", area_colors)\n",
    "    print(\"Valores EM:\", area_values_em)\n",
    "\n",
    "    fig_area = bar_plot(\n",
    "        area_columns,\n",
    "        f'Competências - {area}',\n",
    "        area_values_em,\n",
    "        True,\n",
    "        constant_lines,\n",
    "        area_colors\n",
    "    )\n",
    "\n",
    "    area_values_dict[area] = area_values_em"
   ]
  },
  {
   "cell_type": "markdown",
   "metadata": {},
   "source": [
    "Agora utilizaremos a média das áreas pare montar um gráfico similar ao dos perfil do ensino médio. Usaremos a média entre as competências presentes na área."
   ]
  },
  {
   "cell_type": "code",
   "execution_count": null,
   "metadata": {},
   "outputs": [
    {
     "data": {
      "application/vnd.plotly.v1+json": {
       "config": {
        "plotlyServerURL": "https://plot.ly"
       },
       "data": [
        {
         "fill": "toself",
         "name": "Egresso",
         "r": [
          0.5151990621561456,
          0.3551019153150208,
          0.44125000037907086,
          0.45480824581323015
         ],
         "texttemplate": "%{text:.2f}",
         "theta": [
          "EXATAS",
          "HUMANAS",
          "LINGUAGENS",
          "NATUREZA"
         ],
         "type": "scatterpolar"
        },
        {
         "fill": "toself",
         "name": " Vestibulando",
         "r": [
          0.561,
          0.797,
          0.56,
          0.78
         ],
         "texttemplate": "%{text:.2f}",
         "theta": [
          "EXATAS",
          "HUMANAS",
          "LINGUAGENS",
          "NATUREZA"
         ],
         "type": "scatterpolar"
        }
       ],
       "layout": {
        "barmode": "group",
        "template": {
         "data": {
          "bar": [
           {
            "error_x": {
             "color": "#2a3f5f"
            },
            "error_y": {
             "color": "#2a3f5f"
            },
            "marker": {
             "line": {
              "color": "#E5ECF6",
              "width": 0.5
             },
             "pattern": {
              "fillmode": "overlay",
              "size": 10,
              "solidity": 0.2
             }
            },
            "type": "bar"
           }
          ],
          "barpolar": [
           {
            "marker": {
             "line": {
              "color": "#E5ECF6",
              "width": 0.5
             },
             "pattern": {
              "fillmode": "overlay",
              "size": 10,
              "solidity": 0.2
             }
            },
            "type": "barpolar"
           }
          ],
          "carpet": [
           {
            "aaxis": {
             "endlinecolor": "#2a3f5f",
             "gridcolor": "white",
             "linecolor": "white",
             "minorgridcolor": "white",
             "startlinecolor": "#2a3f5f"
            },
            "baxis": {
             "endlinecolor": "#2a3f5f",
             "gridcolor": "white",
             "linecolor": "white",
             "minorgridcolor": "white",
             "startlinecolor": "#2a3f5f"
            },
            "type": "carpet"
           }
          ],
          "choropleth": [
           {
            "colorbar": {
             "outlinewidth": 0,
             "ticks": ""
            },
            "type": "choropleth"
           }
          ],
          "contour": [
           {
            "colorbar": {
             "outlinewidth": 0,
             "ticks": ""
            },
            "colorscale": [
             [
              0,
              "#0d0887"
             ],
             [
              0.1111111111111111,
              "#46039f"
             ],
             [
              0.2222222222222222,
              "#7201a8"
             ],
             [
              0.3333333333333333,
              "#9c179e"
             ],
             [
              0.4444444444444444,
              "#bd3786"
             ],
             [
              0.5555555555555556,
              "#d8576b"
             ],
             [
              0.6666666666666666,
              "#ed7953"
             ],
             [
              0.7777777777777778,
              "#fb9f3a"
             ],
             [
              0.8888888888888888,
              "#fdca26"
             ],
             [
              1,
              "#f0f921"
             ]
            ],
            "type": "contour"
           }
          ],
          "contourcarpet": [
           {
            "colorbar": {
             "outlinewidth": 0,
             "ticks": ""
            },
            "type": "contourcarpet"
           }
          ],
          "heatmap": [
           {
            "colorbar": {
             "outlinewidth": 0,
             "ticks": ""
            },
            "colorscale": [
             [
              0,
              "#0d0887"
             ],
             [
              0.1111111111111111,
              "#46039f"
             ],
             [
              0.2222222222222222,
              "#7201a8"
             ],
             [
              0.3333333333333333,
              "#9c179e"
             ],
             [
              0.4444444444444444,
              "#bd3786"
             ],
             [
              0.5555555555555556,
              "#d8576b"
             ],
             [
              0.6666666666666666,
              "#ed7953"
             ],
             [
              0.7777777777777778,
              "#fb9f3a"
             ],
             [
              0.8888888888888888,
              "#fdca26"
             ],
             [
              1,
              "#f0f921"
             ]
            ],
            "type": "heatmap"
           }
          ],
          "histogram": [
           {
            "marker": {
             "pattern": {
              "fillmode": "overlay",
              "size": 10,
              "solidity": 0.2
             }
            },
            "type": "histogram"
           }
          ],
          "histogram2d": [
           {
            "colorbar": {
             "outlinewidth": 0,
             "ticks": ""
            },
            "colorscale": [
             [
              0,
              "#0d0887"
             ],
             [
              0.1111111111111111,
              "#46039f"
             ],
             [
              0.2222222222222222,
              "#7201a8"
             ],
             [
              0.3333333333333333,
              "#9c179e"
             ],
             [
              0.4444444444444444,
              "#bd3786"
             ],
             [
              0.5555555555555556,
              "#d8576b"
             ],
             [
              0.6666666666666666,
              "#ed7953"
             ],
             [
              0.7777777777777778,
              "#fb9f3a"
             ],
             [
              0.8888888888888888,
              "#fdca26"
             ],
             [
              1,
              "#f0f921"
             ]
            ],
            "type": "histogram2d"
           }
          ],
          "histogram2dcontour": [
           {
            "colorbar": {
             "outlinewidth": 0,
             "ticks": ""
            },
            "colorscale": [
             [
              0,
              "#0d0887"
             ],
             [
              0.1111111111111111,
              "#46039f"
             ],
             [
              0.2222222222222222,
              "#7201a8"
             ],
             [
              0.3333333333333333,
              "#9c179e"
             ],
             [
              0.4444444444444444,
              "#bd3786"
             ],
             [
              0.5555555555555556,
              "#d8576b"
             ],
             [
              0.6666666666666666,
              "#ed7953"
             ],
             [
              0.7777777777777778,
              "#fb9f3a"
             ],
             [
              0.8888888888888888,
              "#fdca26"
             ],
             [
              1,
              "#f0f921"
             ]
            ],
            "type": "histogram2dcontour"
           }
          ],
          "mesh3d": [
           {
            "colorbar": {
             "outlinewidth": 0,
             "ticks": ""
            },
            "type": "mesh3d"
           }
          ],
          "parcoords": [
           {
            "line": {
             "colorbar": {
              "outlinewidth": 0,
              "ticks": ""
             }
            },
            "type": "parcoords"
           }
          ],
          "pie": [
           {
            "automargin": true,
            "type": "pie"
           }
          ],
          "scatter": [
           {
            "fillpattern": {
             "fillmode": "overlay",
             "size": 10,
             "solidity": 0.2
            },
            "type": "scatter"
           }
          ],
          "scatter3d": [
           {
            "line": {
             "colorbar": {
              "outlinewidth": 0,
              "ticks": ""
             }
            },
            "marker": {
             "colorbar": {
              "outlinewidth": 0,
              "ticks": ""
             }
            },
            "type": "scatter3d"
           }
          ],
          "scattercarpet": [
           {
            "marker": {
             "colorbar": {
              "outlinewidth": 0,
              "ticks": ""
             }
            },
            "type": "scattercarpet"
           }
          ],
          "scattergeo": [
           {
            "marker": {
             "colorbar": {
              "outlinewidth": 0,
              "ticks": ""
             }
            },
            "type": "scattergeo"
           }
          ],
          "scattergl": [
           {
            "marker": {
             "colorbar": {
              "outlinewidth": 0,
              "ticks": ""
             }
            },
            "type": "scattergl"
           }
          ],
          "scattermap": [
           {
            "marker": {
             "colorbar": {
              "outlinewidth": 0,
              "ticks": ""
             }
            },
            "type": "scattermap"
           }
          ],
          "scattermapbox": [
           {
            "marker": {
             "colorbar": {
              "outlinewidth": 0,
              "ticks": ""
             }
            },
            "type": "scattermapbox"
           }
          ],
          "scatterpolar": [
           {
            "marker": {
             "colorbar": {
              "outlinewidth": 0,
              "ticks": ""
             }
            },
            "type": "scatterpolar"
           }
          ],
          "scatterpolargl": [
           {
            "marker": {
             "colorbar": {
              "outlinewidth": 0,
              "ticks": ""
             }
            },
            "type": "scatterpolargl"
           }
          ],
          "scatterternary": [
           {
            "marker": {
             "colorbar": {
              "outlinewidth": 0,
              "ticks": ""
             }
            },
            "type": "scatterternary"
           }
          ],
          "surface": [
           {
            "colorbar": {
             "outlinewidth": 0,
             "ticks": ""
            },
            "colorscale": [
             [
              0,
              "#0d0887"
             ],
             [
              0.1111111111111111,
              "#46039f"
             ],
             [
              0.2222222222222222,
              "#7201a8"
             ],
             [
              0.3333333333333333,
              "#9c179e"
             ],
             [
              0.4444444444444444,
              "#bd3786"
             ],
             [
              0.5555555555555556,
              "#d8576b"
             ],
             [
              0.6666666666666666,
              "#ed7953"
             ],
             [
              0.7777777777777778,
              "#fb9f3a"
             ],
             [
              0.8888888888888888,
              "#fdca26"
             ],
             [
              1,
              "#f0f921"
             ]
            ],
            "type": "surface"
           }
          ],
          "table": [
           {
            "cells": {
             "fill": {
              "color": "#EBF0F8"
             },
             "line": {
              "color": "white"
             }
            },
            "header": {
             "fill": {
              "color": "#C8D4E3"
             },
             "line": {
              "color": "white"
             }
            },
            "type": "table"
           }
          ]
         },
         "layout": {
          "annotationdefaults": {
           "arrowcolor": "#2a3f5f",
           "arrowhead": 0,
           "arrowwidth": 1
          },
          "autotypenumbers": "strict",
          "coloraxis": {
           "colorbar": {
            "outlinewidth": 0,
            "ticks": ""
           }
          },
          "colorscale": {
           "diverging": [
            [
             0,
             "#8e0152"
            ],
            [
             0.1,
             "#c51b7d"
            ],
            [
             0.2,
             "#de77ae"
            ],
            [
             0.3,
             "#f1b6da"
            ],
            [
             0.4,
             "#fde0ef"
            ],
            [
             0.5,
             "#f7f7f7"
            ],
            [
             0.6,
             "#e6f5d0"
            ],
            [
             0.7,
             "#b8e186"
            ],
            [
             0.8,
             "#7fbc41"
            ],
            [
             0.9,
             "#4d9221"
            ],
            [
             1,
             "#276419"
            ]
           ],
           "sequential": [
            [
             0,
             "#0d0887"
            ],
            [
             0.1111111111111111,
             "#46039f"
            ],
            [
             0.2222222222222222,
             "#7201a8"
            ],
            [
             0.3333333333333333,
             "#9c179e"
            ],
            [
             0.4444444444444444,
             "#bd3786"
            ],
            [
             0.5555555555555556,
             "#d8576b"
            ],
            [
             0.6666666666666666,
             "#ed7953"
            ],
            [
             0.7777777777777778,
             "#fb9f3a"
            ],
            [
             0.8888888888888888,
             "#fdca26"
            ],
            [
             1,
             "#f0f921"
            ]
           ],
           "sequentialminus": [
            [
             0,
             "#0d0887"
            ],
            [
             0.1111111111111111,
             "#46039f"
            ],
            [
             0.2222222222222222,
             "#7201a8"
            ],
            [
             0.3333333333333333,
             "#9c179e"
            ],
            [
             0.4444444444444444,
             "#bd3786"
            ],
            [
             0.5555555555555556,
             "#d8576b"
            ],
            [
             0.6666666666666666,
             "#ed7953"
            ],
            [
             0.7777777777777778,
             "#fb9f3a"
            ],
            [
             0.8888888888888888,
             "#fdca26"
            ],
            [
             1,
             "#f0f921"
            ]
           ]
          },
          "colorway": [
           "#636efa",
           "#EF553B",
           "#00cc96",
           "#ab63fa",
           "#FFA15A",
           "#19d3f3",
           "#FF6692",
           "#B6E880",
           "#FF97FF",
           "#FECB52"
          ],
          "font": {
           "color": "#2a3f5f"
          },
          "geo": {
           "bgcolor": "white",
           "lakecolor": "white",
           "landcolor": "#E5ECF6",
           "showlakes": true,
           "showland": true,
           "subunitcolor": "white"
          },
          "hoverlabel": {
           "align": "left"
          },
          "hovermode": "closest",
          "mapbox": {
           "style": "light"
          },
          "paper_bgcolor": "white",
          "plot_bgcolor": "#E5ECF6",
          "polar": {
           "angularaxis": {
            "gridcolor": "white",
            "linecolor": "white",
            "ticks": ""
           },
           "bgcolor": "#E5ECF6",
           "radialaxis": {
            "gridcolor": "white",
            "linecolor": "white",
            "ticks": ""
           }
          },
          "scene": {
           "xaxis": {
            "backgroundcolor": "#E5ECF6",
            "gridcolor": "white",
            "gridwidth": 2,
            "linecolor": "white",
            "showbackground": true,
            "ticks": "",
            "zerolinecolor": "white"
           },
           "yaxis": {
            "backgroundcolor": "#E5ECF6",
            "gridcolor": "white",
            "gridwidth": 2,
            "linecolor": "white",
            "showbackground": true,
            "ticks": "",
            "zerolinecolor": "white"
           },
           "zaxis": {
            "backgroundcolor": "#E5ECF6",
            "gridcolor": "white",
            "gridwidth": 2,
            "linecolor": "white",
            "showbackground": true,
            "ticks": "",
            "zerolinecolor": "white"
           }
          },
          "shapedefaults": {
           "line": {
            "color": "#2a3f5f"
           }
          },
          "ternary": {
           "aaxis": {
            "gridcolor": "white",
            "linecolor": "white",
            "ticks": ""
           },
           "baxis": {
            "gridcolor": "white",
            "linecolor": "white",
            "ticks": ""
           },
           "bgcolor": "#E5ECF6",
           "caxis": {
            "gridcolor": "white",
            "linecolor": "white",
            "ticks": ""
           }
          },
          "title": {
           "x": 0.05
          },
          "xaxis": {
           "automargin": true,
           "gridcolor": "white",
           "linecolor": "white",
           "ticks": "",
           "title": {
            "standoff": 15
           },
           "zerolinecolor": "white",
           "zerolinewidth": 2
          },
          "yaxis": {
           "automargin": true,
           "gridcolor": "white",
           "linecolor": "white",
           "ticks": "",
           "title": {
            "standoff": 15
           },
           "zerolinecolor": "white",
           "zerolinewidth": 2
          }
         }
        },
        "uniformtext": {
         "minsize": 1,
         "mode": "show"
        },
        "width": 1000
       }
      }
     },
     "metadata": {},
     "output_type": "display_data"
    }
   ],
   "source": [
    "perfil_enem_values = [ nota_enem[key] for key in ['EXATAS', 'HUMANAS', 'LINGUAGENS', 'NATUREZA']]\n",
    "perfil_media_area_values_em = [sum(area_values_dict[area]) / len(area_values_dict[area]) for area in ['EXATAS', 'HUMANAS', 'LINGUAGENS', 'NATUREZA']]\n",
    "\n",
    "spider_fig = spider_plot( ['EXATAS', 'HUMANAS', 'LINGUAGENS', 'NATUREZA'],['Egresso',' Vestibulando'], [perfil_media_area_values_em, perfil_enem_values], show=True)\n"
   ]
  },
  {
   "cell_type": "markdown",
   "metadata": {
    "id": "Tq-xkT6XkUpY"
   },
   "source": [
    "Por fim, buscando obter o  índice de similaridade entre\n",
    "dois perfis de competencias, para que este represente um\n",
    "valor numerico entre 0% e 100%. Utilizamos a similaridade por coseno e ajustamos para a proporcionalidade.\n",
    "\n",
    "\\begin{equation}\n",
    "    \\theta = cos^{-1} \\Bigg( \\dfrac{{P}_{em} \\cdot {P}_{enem} }{||{P}_{em}|| \\cdot ||{P}_{enem}||} \\Bigg)\n",
    "\\end{equation}\n",
    "\n",
    "Assumimos que a maior diferença entre os vetores é de $\\pi/2$ rad, dessa forma ajustamos a escala para o valor máximo da diferença ser 1.\n",
    "\n",
    "\\begin{equation}\n",
    "  Id = 1- \\frac{2\\theta}{\\pi}\n",
    "\\end{equation}\n"
   ]
  },
  {
   "cell_type": "code",
   "execution_count": null,
   "metadata": {
    "colab": {
     "base_uri": "https://localhost:8080/"
    },
    "executionInfo": {
     "elapsed": 3545,
     "status": "ok",
     "timestamp": 1730508921511,
     "user": {
      "displayName": "Gabriel Arthur Teixeira Perpetuo",
      "userId": "08625436895067644506"
     },
     "user_tz": 180
    },
    "id": "MT9p4XiBXZWv",
    "outputId": "7814c714-7c30-4179-a614-f675220e6929"
   },
   "outputs": [
    {
     "name": "stdout",
     "output_type": "stream",
     "text": [
      "Similaridade de 79.83606132588825% entre os perfis do ensino médio e nem para as competências\n",
      "Similaridade de 82.73287978459295% entre os perfis da média\n"
     ]
    }
   ],
   "source": [
    "from sklearn.metrics.pairwise import cosine_similarity\n",
    "import math\n",
    "import numpy as np\n",
    "\n",
    "em_array = np.array(values_em)\n",
    "enem_array = np.array(values_enem)\n",
    "\n",
    "similarity_cos = cosine_similarity([em_array], [enem_array])[0][0]\n",
    "\n",
    "theta = math.acos(similarity_cos)\n",
    "similarity = 1-theta/(math.pi/2.0)\n",
    "\n",
    "print('Similaridade de {}% entre os perfis do ensino médio e nem para as competências'.format(similarity * 100))\n",
    "\n",
    "\n",
    "em_array = np.array(perfil_media_area_values_em)\n",
    "enem_array = np.array(perfil_enem_values)\n",
    "\n",
    "similarity_cos = cosine_similarity([em_array], [enem_array])[0][0]\n",
    "\n",
    "theta = math.acos(similarity_cos)\n",
    "similarity = 1-theta/(math.pi/2.0)\n",
    "\n",
    "print('Similaridade de {}% entre os perfis da média'.format(similarity * 100))\n",
    "\n"
   ]
  }
 ],
 "metadata": {
  "colab": {
   "authorship_tag": "ABX9TyNRF0TPwQ7AVMpco5WduEUg",
   "mount_file_id": "173ytB5jhMQ1jalqgvCENnOew-78_5mMo",
   "provenance": []
  },
  "kernelspec": {
   "display_name": "venv",
   "language": "python",
   "name": "python3"
  },
  "language_info": {
   "codemirror_mode": {
    "name": "ipython",
    "version": 3
   },
   "file_extension": ".py",
   "mimetype": "text/x-python",
   "name": "python",
   "nbconvert_exporter": "python",
   "pygments_lexer": "ipython3",
   "version": "3.13.3"
  }
 },
 "nbformat": 4,
 "nbformat_minor": 0
}
